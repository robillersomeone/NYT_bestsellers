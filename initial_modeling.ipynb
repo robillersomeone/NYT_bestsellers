{
 "cells": [
  {
   "cell_type": "markdown",
   "metadata": {},
   "source": [
    "# Modeling Naive Bayes"
   ]
  },
  {
   "cell_type": "code",
   "execution_count": 2,
   "metadata": {},
   "outputs": [
    {
     "name": "stderr",
     "output_type": "stream",
     "text": [
      "/Users/roberthillery/anaconda3/lib/python3.6/site-packages/sklearn/ensemble/weight_boosting.py:29: DeprecationWarning: numpy.core.umath_tests is an internal NumPy module and should not be imported. It will be removed in a future NumPy release.\n",
      "  from numpy.core.umath_tests import inner1d\n"
     ]
    }
   ],
   "source": [
    "from sklearn import model_selection, preprocessing, linear_model, naive_bayes, metrics, svm\n",
    "from sklearn.feature_extraction.text import TfidfVectorizer, CountVectorizer\n",
    "from sklearn import decomposition, ensemble\n",
    "import pandas as pd"
   ]
  },
  {
   "cell_type": "code",
   "execution_count": 3,
   "metadata": {},
   "outputs": [],
   "source": [
    "df = pd.read_csv('csv_files/9_1_all_books_df.csv')"
   ]
  },
  {
   "cell_type": "code",
   "execution_count": 4,
   "metadata": {},
   "outputs": [],
   "source": [
    "# load in database"
   ]
  },
  {
   "cell_type": "code",
   "execution_count": 5,
   "metadata": {},
   "outputs": [
    {
     "data": {
      "text/plain": [
       "Index(['author', 'description', 'format', 'genre', 'month', 'pages',\n",
       "       'publisher', 'rating', 'title', 'year', 'best_seller'],\n",
       "      dtype='object')"
      ]
     },
     "execution_count": 5,
     "metadata": {},
     "output_type": "execute_result"
    }
   ],
   "source": [
    "df.columns"
   ]
  },
  {
   "cell_type": "code",
   "execution_count": 6,
   "metadata": {},
   "outputs": [
    {
     "data": {
      "text/plain": [
       "(1373, 11)"
      ]
     },
     "execution_count": 6,
     "metadata": {},
     "output_type": "execute_result"
    }
   ],
   "source": [
    "df.shape"
   ]
  },
  {
   "cell_type": "code",
   "execution_count": 7,
   "metadata": {},
   "outputs": [
    {
     "data": {
      "text/html": [
       "<div>\n",
       "<style scoped>\n",
       "    .dataframe tbody tr th:only-of-type {\n",
       "        vertical-align: middle;\n",
       "    }\n",
       "\n",
       "    .dataframe tbody tr th {\n",
       "        vertical-align: top;\n",
       "    }\n",
       "\n",
       "    .dataframe thead th {\n",
       "        text-align: right;\n",
       "    }\n",
       "</style>\n",
       "<table border=\"1\" class=\"dataframe\">\n",
       "  <thead>\n",
       "    <tr style=\"text-align: right;\">\n",
       "      <th></th>\n",
       "      <th>author</th>\n",
       "      <th>description</th>\n",
       "      <th>format</th>\n",
       "      <th>genre</th>\n",
       "      <th>month</th>\n",
       "      <th>pages</th>\n",
       "      <th>publisher</th>\n",
       "      <th>rating</th>\n",
       "      <th>title</th>\n",
       "      <th>year</th>\n",
       "      <th>best_seller</th>\n",
       "    </tr>\n",
       "  </thead>\n",
       "  <tbody>\n",
       "    <tr>\n",
       "      <th>0</th>\n",
       "      <td>Liane Moriarty</td>\n",
       "      <td>Six responsible adults. Three cute kids. One s...</td>\n",
       "      <td>Hardcover</td>\n",
       "      <td>Fiction</td>\n",
       "      <td>July</td>\n",
       "      <td>415</td>\n",
       "      <td>Flatiron Books</td>\n",
       "      <td>3.56</td>\n",
       "      <td>Truly Madly Guilty</td>\n",
       "      <td>2016.0</td>\n",
       "      <td>0</td>\n",
       "    </tr>\n",
       "    <tr>\n",
       "      <th>1</th>\n",
       "      <td>Bryn Greenwood</td>\n",
       "      <td>As the daughter of a meth dealer, Wavy knows n...</td>\n",
       "      <td>Hardcover</td>\n",
       "      <td>Fiction</td>\n",
       "      <td>August</td>\n",
       "      <td>346</td>\n",
       "      <td>Thomas Dunne Books</td>\n",
       "      <td>4.07</td>\n",
       "      <td>All the Ugly and Wonderful Things</td>\n",
       "      <td>2016.0</td>\n",
       "      <td>0</td>\n",
       "    </tr>\n",
       "    <tr>\n",
       "      <th>2</th>\n",
       "      <td>Emma Cline</td>\n",
       "      <td>Northern California, during the violent end of...</td>\n",
       "      <td>Hardcover</td>\n",
       "      <td>Fiction</td>\n",
       "      <td>June</td>\n",
       "      <td>355</td>\n",
       "      <td>Random House</td>\n",
       "      <td>3.47</td>\n",
       "      <td>The Girls</td>\n",
       "      <td>2016.0</td>\n",
       "      <td>0</td>\n",
       "    </tr>\n",
       "    <tr>\n",
       "      <th>3</th>\n",
       "      <td>Cynthia D'Aprix Sweeney</td>\n",
       "      <td>&lt;i&gt;A warm, funny and acutely perceptive debut ...</td>\n",
       "      <td>Hardcover</td>\n",
       "      <td>Fiction</td>\n",
       "      <td>March</td>\n",
       "      <td>368</td>\n",
       "      <td>Ecco</td>\n",
       "      <td>3.42</td>\n",
       "      <td>The Nest</td>\n",
       "      <td>2016.0</td>\n",
       "      <td>0</td>\n",
       "    </tr>\n",
       "    <tr>\n",
       "      <th>4</th>\n",
       "      <td>Jodi Picoult</td>\n",
       "      <td>Ruth Jefferson is a labor and delivery nurse a...</td>\n",
       "      <td>Hardcover</td>\n",
       "      <td>Fiction</td>\n",
       "      <td>October</td>\n",
       "      <td>480</td>\n",
       "      <td>Ballantine Books</td>\n",
       "      <td>4.35</td>\n",
       "      <td>Small Great Things</td>\n",
       "      <td>2016.0</td>\n",
       "      <td>0</td>\n",
       "    </tr>\n",
       "  </tbody>\n",
       "</table>\n",
       "</div>"
      ],
      "text/plain": [
       "                    author                                        description  \\\n",
       "0           Liane Moriarty  Six responsible adults. Three cute kids. One s...   \n",
       "1           Bryn Greenwood  As the daughter of a meth dealer, Wavy knows n...   \n",
       "2               Emma Cline  Northern California, during the violent end of...   \n",
       "3  Cynthia D'Aprix Sweeney  <i>A warm, funny and acutely perceptive debut ...   \n",
       "4             Jodi Picoult  Ruth Jefferson is a labor and delivery nurse a...   \n",
       "\n",
       "      format    genre    month  pages           publisher  rating  \\\n",
       "0  Hardcover  Fiction     July    415      Flatiron Books    3.56   \n",
       "1  Hardcover  Fiction   August    346  Thomas Dunne Books    4.07   \n",
       "2  Hardcover  Fiction     June    355        Random House    3.47   \n",
       "3  Hardcover  Fiction    March    368                Ecco    3.42   \n",
       "4  Hardcover  Fiction  October    480    Ballantine Books    4.35   \n",
       "\n",
       "                               title    year  best_seller  \n",
       "0                 Truly Madly Guilty  2016.0            0  \n",
       "1  All the Ugly and Wonderful Things  2016.0            0  \n",
       "2                          The Girls  2016.0            0  \n",
       "3                           The Nest  2016.0            0  \n",
       "4                 Small Great Things  2016.0            0  "
      ]
     },
     "execution_count": 7,
     "metadata": {},
     "output_type": "execute_result"
    }
   ],
   "source": [
    "df.head()"
   ]
  },
  {
   "cell_type": "code",
   "execution_count": null,
   "metadata": {},
   "outputs": [],
   "source": [
    "# split the dataset into training and validation datasets \n",
    "train_x, valid_x, train_y, valid_y = model_selection.train_test_split(naive_df['description'], naive_df['best_seller'])\n",
    "\n",
    "# label encode the target variable \n",
    "encoder = preprocessing.LabelEncoder()\n",
    "train_y = encoder.fit_transform(train_y)\n",
    "valid_y = encoder.fit_transform(valid_y)"
   ]
  },
  {
   "cell_type": "code",
   "execution_count": null,
   "metadata": {},
   "outputs": [],
   "source": []
  },
  {
   "cell_type": "code",
   "execution_count": null,
   "metadata": {},
   "outputs": [],
   "source": []
  }
 ],
 "metadata": {
  "kernelspec": {
   "display_name": "Python 3",
   "language": "python",
   "name": "python3"
  },
  "language_info": {
   "codemirror_mode": {
    "name": "ipython",
    "version": 3
   },
   "file_extension": ".py",
   "mimetype": "text/x-python",
   "name": "python",
   "nbconvert_exporter": "python",
   "pygments_lexer": "ipython3",
   "version": "3.6.5"
  }
 },
 "nbformat": 4,
 "nbformat_minor": 2
}
