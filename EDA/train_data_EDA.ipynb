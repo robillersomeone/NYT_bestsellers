{
 "cells": [
  {
   "cell_type": "markdown",
   "metadata": {},
   "source": [
    "# EDA"
   ]
  },
  {
   "cell_type": "code",
   "execution_count": 54,
   "metadata": {},
   "outputs": [],
   "source": [
    "import numpy as np\n",
    "import pandas as pd \n",
    "import seaborn as sns\n",
    "from matplotlib import pyplot as plt\n",
    "from sklearn import model_selection"
   ]
  },
  {
   "cell_type": "code",
   "execution_count": 55,
   "metadata": {},
   "outputs": [],
   "source": [
    "# metadata\n",
    "df = pd.read_csv('csv_files/9_1_all_books_df.csv')\n",
    "\n",
    "# vectorized text\n",
    "# the index is reset in this one \n",
    "df_text = pd.read_csv('csv_files/X_train_nlp.csv')\n",
    "\n",
    "# 'csv_files/y_train_nlp.csv', encoding='utf-8', index=False"
   ]
  },
  {
   "cell_type": "code",
   "execution_count": 56,
   "metadata": {
    "scrolled": true
   },
   "outputs": [],
   "source": [
    "# will concat X_train_nlp with X_train\n",
    "# processing flow, split metadata, reset index to match nlp data, concat, subset bestsellers and not\n",
    "X_train, X_test, y_train, y_test = model_selection.train_test_split(df[['title', 'author', 'format', 'genre', 'pages', 'rating']], \n",
    "                                                                    df['best_seller'], \n",
    "                                                                    test_size = .2,\n",
    "                                                                    random_state = 42)\n",
    "\n",
    "# reset the index to match processed df_text\n",
    "len(X_train)\n",
    "type(X_train)\n",
    "\n",
    "# X_train.reset_index(drop = True)\n",
    "# y_train.reset_index(drop = True)\n",
    "\n",
    "# testing to rewrite index\n",
    "X_train = X_train.reset_index(drop = True)\n",
    "y_train = y_train.reset_index(drop = True)"
   ]
  },
  {
   "cell_type": "markdown",
   "metadata": {},
   "source": [
    "# metadata\n",
    "- y_train is bestseller ~bestseller\n",
    "- X_train is book meta data\n",
    "- df_text is just text data"
   ]
  },
  {
   "cell_type": "markdown",
   "metadata": {},
   "source": [
    "## concat meatadata and text dataframes"
   ]
  },
  {
   "cell_type": "code",
   "execution_count": 57,
   "metadata": {},
   "outputs": [
    {
     "name": "stdout",
     "output_type": "stream",
     "text": [
      "number of best sellers in training set 227\n",
      "number of total books in training set 1098\n"
     ]
    }
   ],
   "source": [
    "print('number of best sellers in training set', y_train.sum())\n",
    "print('number of total books in training set', len(y_train))"
   ]
  },
  {
   "cell_type": "code",
   "execution_count": 58,
   "metadata": {},
   "outputs": [
    {
     "data": {
      "text/plain": [
       "871"
      ]
     },
     "execution_count": 58,
     "metadata": {},
     "output_type": "execute_result"
    }
   ],
   "source": [
    "1098 - 227"
   ]
  },
  {
   "cell_type": "code",
   "execution_count": 59,
   "metadata": {},
   "outputs": [
    {
     "data": {
      "text/plain": [
       "0.6573584905660378"
      ]
     },
     "execution_count": 59,
     "metadata": {},
     "output_type": "execute_result"
    }
   ],
   "source": [
    "871/(1098 +227)"
   ]
  },
  {
   "cell_type": "code",
   "execution_count": 60,
   "metadata": {},
   "outputs": [
    {
     "data": {
      "text/plain": [
       "Index(['author', 'description', 'format', 'genre', 'month', 'pages',\n",
       "       'publisher', 'rating', 'title', 'year', 'best_seller'],\n",
       "      dtype='object')"
      ]
     },
     "execution_count": 60,
     "metadata": {},
     "output_type": "execute_result"
    }
   ],
   "source": [
    "df.columns"
   ]
  },
  {
   "cell_type": "code",
   "execution_count": 61,
   "metadata": {},
   "outputs": [],
   "source": [
    "X_train['bestseller'] = y_train"
   ]
  },
  {
   "cell_type": "code",
   "execution_count": 62,
   "metadata": {},
   "outputs": [],
   "source": [
    "# rename meta columns to not affect text dataframe\n",
    "X_train.rename(columns={'genre':'book_genre', 'author':'meta_author', \n",
    "                        'title':'meta_title', 'format':'meta_format',\n",
    "                        'pages':'meta_pages', 'rating':'meta_rating'},\n",
    "                        inplace = True)\n",
    "# X_train['book_genre'] = "
   ]
  },
  {
   "cell_type": "code",
   "execution_count": 63,
   "metadata": {},
   "outputs": [],
   "source": [
    "df = X_train.reset_index(drop = True)"
   ]
  },
  {
   "cell_type": "code",
   "execution_count": 64,
   "metadata": {},
   "outputs": [],
   "source": [
    "df = pd.concat([df, df_text], axis =1)"
   ]
  },
  {
   "cell_type": "code",
   "execution_count": 65,
   "metadata": {},
   "outputs": [
    {
     "data": {
      "text/plain": [
       "(1098, 5849)"
      ]
     },
     "execution_count": 65,
     "metadata": {},
     "output_type": "execute_result"
    }
   ],
   "source": [
    "df.shape"
   ]
  },
  {
   "cell_type": "code",
   "execution_count": 66,
   "metadata": {},
   "outputs": [],
   "source": [
    "# subset the dataframe into best sellers and not\n",
    "books = df.loc[df['bestseller'] == 0]\n",
    "best_books = df.loc[df['bestseller'] == 1]"
   ]
  },
  {
   "cell_type": "markdown",
   "metadata": {},
   "source": [
    "## rating analysis"
   ]
  },
  {
   "cell_type": "code",
   "execution_count": 67,
   "metadata": {},
   "outputs": [
    {
     "data": {
      "text/plain": [
       "0"
      ]
     },
     "execution_count": 67,
     "metadata": {},
     "output_type": "execute_result"
    }
   ],
   "source": [
    "# check that every book is rated\n",
    "df.meta_rating.isnull().sum()"
   ]
  },
  {
   "cell_type": "code",
   "execution_count": 68,
   "metadata": {
    "scrolled": false
   },
   "outputs": [
    {
     "data": {
      "image/png": "[encoded data removed]",
      "text/plain": [
       "<Figure size 720x720 with 1 Axes>"
      ]
     },
     "metadata": {
      "needs_background": "light"
     },
     "output_type": "display_data"
    }
   ],
   "source": [
    "plt.figure(figsize=(10,10))\n",
    "ratings = sns.boxplot(x=df[\"bestseller\"], y=df['meta_rating']).set_title('Distribution of Goodreads Ratings by Class')\n"
   ]
  },
  {
   "cell_type": "code",
   "execution_count": 69,
   "metadata": {},
   "outputs": [
    {
     "name": "stdout",
     "output_type": "stream",
     "text": [
      "the raitng mean is 4.056265938069216\n",
      "the rating mode is 4.07\n",
      "the raitng median is 4.08\n"
     ]
    }
   ],
   "source": [
    "print('the raitng mean is',df.meta_rating.mean())\n",
    "print('the rating mode is', df.meta_rating.mode()[0])\n",
    "print('the raitng median is',df.meta_rating.median())"
   ]
  },
  {
   "cell_type": "code",
   "execution_count": 70,
   "metadata": {},
   "outputs": [
    {
     "name": "stdout",
     "output_type": "stream",
     "text": [
      "the raitng mean is 4.091733639494837\n",
      "the rating mode is 4.27\n",
      "the raitng median is 4.11\n"
     ]
    }
   ],
   "source": [
    "print('the raitng mean is',books.meta_rating.mean())\n",
    "print('the rating mode is', books.meta_rating.mode()[0])\n",
    "print('the raitng median is',books.meta_rating.median())"
   ]
  },
  {
   "cell_type": "code",
   "execution_count": 71,
   "metadata": {},
   "outputs": [
    {
     "name": "stdout",
     "output_type": "stream",
     "text": [
      "the raitng mean is 3.9201762114537426\n",
      "the rating mode is 3.81\n",
      "the raitng median is 3.94\n"
     ]
    }
   ],
   "source": [
    "print('the raitng mean is',best_books.meta_rating.mean())\n",
    "print('the rating mode is', best_books.meta_rating.mode()[0])\n",
    "print('the raitng median is',best_books.meta_rating.median())"
   ]
  },
  {
   "cell_type": "markdown",
   "metadata": {},
   "source": [
    "## format analysis"
   ]
  },
  {
   "cell_type": "code",
   "execution_count": 72,
   "metadata": {},
   "outputs": [
    {
     "data": {
      "text/plain": [
       "array(['Hardcover', 'Paperback', 'Mass Market Paperback',\n",
       "       'Kindle Edition', 'ebook', 'Library Binding', 'Audio CD',\n",
       "       'Trade Paperback'], dtype=object)"
      ]
     },
     "execution_count": 72,
     "metadata": {},
     "output_type": "execute_result"
    }
   ],
   "source": [
    "df.meta_format.unique()"
   ]
  },
  {
   "cell_type": "code",
   "execution_count": 73,
   "metadata": {},
   "outputs": [
    {
     "data": {
      "text/plain": [
       "Hardcover                836\n",
       "Paperback                207\n",
       "Kindle Edition            31\n",
       "ebook                     17\n",
       "Mass Market Paperback      4\n",
       "Trade Paperback            1\n",
       "Library Binding            1\n",
       "Audio CD                   1\n",
       "Name: meta_format, dtype: int64"
      ]
     },
     "execution_count": 73,
     "metadata": {},
     "output_type": "execute_result"
    }
   ],
   "source": [
    "df.meta_format.value_counts()"
   ]
  },
  {
   "cell_type": "code",
   "execution_count": 74,
   "metadata": {},
   "outputs": [
    {
     "data": {
      "text/html": [
       "<div>\n",
       "<style scoped>\n",
       "    .dataframe tbody tr th:only-of-type {\n",
       "        vertical-align: middle;\n",
       "    }\n",
       "\n",
       "    .dataframe tbody tr th {\n",
       "        vertical-align: top;\n",
       "    }\n",
       "\n",
       "    .dataframe thead th {\n",
       "        text-align: right;\n",
       "    }\n",
       "</style>\n",
       "<table border=\"1\" class=\"dataframe\">\n",
       "  <thead>\n",
       "    <tr style=\"text-align: right;\">\n",
       "      <th></th>\n",
       "      <th>meta_title</th>\n",
       "      <th>meta_author</th>\n",
       "      <th>meta_format</th>\n",
       "      <th>book_genre</th>\n",
       "      <th>meta_pages</th>\n",
       "      <th>meta_rating</th>\n",
       "      <th>bestseller</th>\n",
       "      <th>aaron</th>\n",
       "      <th>ab</th>\n",
       "      <th>abandon</th>\n",
       "      <th>...</th>\n",
       "      <th>zelda</th>\n",
       "      <th>zest</th>\n",
       "      <th>zeus</th>\n",
       "      <th>zillion</th>\n",
       "      <th>zimmer</th>\n",
       "      <th>zoe</th>\n",
       "      <th>zone</th>\n",
       "      <th>zoom</th>\n",
       "      <th>zorie</th>\n",
       "      <th>zoroastrian</th>\n",
       "    </tr>\n",
       "  </thead>\n",
       "  <tbody>\n",
       "    <tr>\n",
       "      <th>390</th>\n",
       "      <td>Ninety-Nine Stories of God</td>\n",
       "      <td>Joy Williams</td>\n",
       "      <td>Audio CD</td>\n",
       "      <td>Short Stories</td>\n",
       "      <td>1</td>\n",
       "      <td>3.63</td>\n",
       "      <td>1</td>\n",
       "      <td>0</td>\n",
       "      <td>0</td>\n",
       "      <td>0</td>\n",
       "      <td>...</td>\n",
       "      <td>0</td>\n",
       "      <td>0</td>\n",
       "      <td>0</td>\n",
       "      <td>0</td>\n",
       "      <td>0</td>\n",
       "      <td>0</td>\n",
       "      <td>0</td>\n",
       "      <td>0</td>\n",
       "      <td>0</td>\n",
       "      <td>0</td>\n",
       "    </tr>\n",
       "  </tbody>\n",
       "</table>\n",
       "<p>1 rows × 5849 columns</p>\n",
       "</div>"
      ],
      "text/plain": [
       "                     meta_title   meta_author meta_format     book_genre  \\\n",
       "390  Ninety-Nine Stories of God  Joy Williams    Audio CD  Short Stories   \n",
       "\n",
       "     meta_pages  meta_rating  bestseller  aaron  ab  abandon     ...       \\\n",
       "390           1         3.63           1      0   0        0     ...        \n",
       "\n",
       "     zelda  zest  zeus  zillion  zimmer  zoe  zone  zoom  zorie  zoroastrian  \n",
       "390      0     0     0        0       0    0     0     0      0            0  \n",
       "\n",
       "[1 rows x 5849 columns]"
      ]
     },
     "execution_count": 74,
     "metadata": {},
     "output_type": "execute_result"
    }
   ],
   "source": [
    "# TODO drop from dataframe\n",
    "df.loc[df['meta_format'] == 'Audio CD']"
   ]
  },
  {
   "cell_type": "code",
   "execution_count": null,
   "metadata": {},
   "outputs": [],
   "source": []
  },
  {
   "cell_type": "markdown",
   "metadata": {},
   "source": [
    "## pages analysis"
   ]
  },
  {
   "cell_type": "code",
   "execution_count": 75,
   "metadata": {},
   "outputs": [
    {
     "data": {
      "text/plain": [
       "array([[<matplotlib.axes._subplots.AxesSubplot object at 0x1a25c045f8>,\n",
       "        <matplotlib.axes._subplots.AxesSubplot object at 0x1a25bdc9e8>]],\n",
       "      dtype=object)"
      ]
     },
     "execution_count": 75,
     "metadata": {},
     "output_type": "execute_result"
    },
    {
     "data": {
      "image/png": "[encoded data removed]",
      "text/plain": [
       "<Figure size 648x432 with 2 Axes>"
      ]
     },
     "metadata": {
      "needs_background": "light"
     },
     "output_type": "display_data"
    }
   ],
   "source": [
    "df.hist(column=['meta_pages', 'meta_rating'], figsize=(9,6))"
   ]
  },
  {
   "cell_type": "markdown",
   "metadata": {},
   "source": [
    "## genre analysis"
   ]
  },
  {
   "cell_type": "code",
   "execution_count": 76,
   "metadata": {},
   "outputs": [
    {
     "data": {
      "text/plain": [
       "array(['Autobiography', 'Sequential Art', 'Economics', 'Fantasy',\n",
       "       'Historical', 'Fiction', 'Nonfiction', 'Horror', 'Young Adult',\n",
       "       'Poetry', 'Science', 'Short Stories', 'New Adult', 'Classics',\n",
       "       'Contemporary', 'Science Fiction', 'Childrens', 'Food and Drink',\n",
       "       'Humor', 'Thriller', 'Polyamorous', 'History', 'Romance',\n",
       "       'Mystery', 'Media Tie In', 'Literature', 'Biography', 'Politics',\n",
       "       'Paranormal', 'Writing', 'Dark', 'Business', 'Religion',\n",
       "       'Philosophy', 'Christian', 'Sports and Games'], dtype=object)"
      ]
     },
     "execution_count": 76,
     "metadata": {},
     "output_type": "execute_result"
    }
   ],
   "source": [
    "# need to look at book_genre more\n",
    "df['book_genre'].unique()\n",
    "# df['book_genre'].isnull().sum()"
   ]
  },
  {
   "cell_type": "code",
   "execution_count": 77,
   "metadata": {},
   "outputs": [
    {
     "data": {
      "text/plain": [
       "<matplotlib.axes._subplots.AxesSubplot at 0x1a242bb780>"
      ]
     },
     "execution_count": 77,
     "metadata": {},
     "output_type": "execute_result"
    },
    {
     "data": {
      "image/png": "[encoded data removed]",
      "text/plain": [
       "<Figure size 864x720 with 1 Axes>"
      ]
     },
     "metadata": {
      "needs_background": "light"
     },
     "output_type": "display_data"
    }
   ],
   "source": [
    "# distrubtion by genre of all books\n",
    "df['book_genre'].value_counts().plot(kind='bar', title='distrubtion of books by genre', figsize=(12,10))\n"
   ]
  },
  {
   "cell_type": "code",
   "execution_count": 78,
   "metadata": {},
   "outputs": [
    {
     "name": "stdout",
     "output_type": "stream",
     "text": [
      "(871, 5849)\n",
      "(227, 5849)\n"
     ]
    }
   ],
   "source": [
    "# this is just the distribution in the training data of bestsellers and not\n",
    "# non-bestsellers\n",
    "print(books.shape)\n",
    "# bestsellers\n",
    "print(best_books.shape)"
   ]
  },
  {
   "cell_type": "code",
   "execution_count": 79,
   "metadata": {},
   "outputs": [
    {
     "data": {
      "text/plain": [
       "<matplotlib.axes._subplots.AxesSubplot at 0x1a1cf650b8>"
      ]
     },
     "execution_count": 79,
     "metadata": {},
     "output_type": "execute_result"
    },
    {
     "data": {
      "image/png": "[encoded data removed]",
      "text/plain": [
       "<Figure size 864x720 with 1 Axes>"
      ]
     },
     "metadata": {
      "needs_background": "light"
     },
     "output_type": "display_data"
    }
   ],
   "source": [
    "books['book_genre'].value_counts().plot(kind='bar', \n",
    "                                        title='distrubtion of non bestsellers booksby genre', figsize=(12,10))\n"
   ]
  },
  {
   "cell_type": "code",
   "execution_count": 80,
   "metadata": {},
   "outputs": [
    {
     "data": {
      "text/plain": [
       "<matplotlib.axes._subplots.AxesSubplot at 0x1a1d1aaa90>"
      ]
     },
     "execution_count": 80,
     "metadata": {},
     "output_type": "execute_result"
    },
    {
     "data": {
      "image/png": "[encoded data removed]",
      "text/plain": [
       "<Figure size 864x720 with 1 Axes>"
      ]
     },
     "metadata": {
      "needs_background": "light"
     },
     "output_type": "display_data"
    }
   ],
   "source": [
    "best_books['book_genre'].value_counts().plot(kind='bar', \n",
    "                                            title='distrubtion of bestsellering books by genre', figsize=(12,10))\n"
   ]
  },
  {
   "cell_type": "code",
   "execution_count": 81,
   "metadata": {},
   "outputs": [
    {
     "name": "stdout",
     "output_type": "stream",
     "text": [
      " NYT bestselling genres ['Economics' 'Fiction' 'Short Stories' 'Classics' 'Nonfiction' 'Science'\n",
      " 'Autobiography' 'Sequential Art' 'Poetry' 'Literature' 'Biography'\n",
      " 'Historical' 'History' 'Politics' 'Writing' 'Fantasy' 'Romance' 'Mystery'\n",
      " 'Young Adult' 'Philosophy' 'Horror'] \n",
      " \n",
      " Non-bestselling genres ['Autobiography' 'Sequential Art' 'Fantasy' 'Historical' 'Nonfiction'\n",
      " 'Fiction' 'Horror' 'Young Adult' 'Poetry' 'Science' 'New Adult'\n",
      " 'Contemporary' 'Science Fiction' 'Childrens' 'Food and Drink' 'Humor'\n",
      " 'Thriller' 'Polyamorous' 'History' 'Romance' 'Mystery' 'Media Tie In'\n",
      " 'Biography' 'Politics' 'Paranormal' 'Short Stories' 'Dark' 'Business'\n",
      " 'Religion' 'Economics' 'Christian' 'Sports and Games' 'Writing']\n"
     ]
    }
   ],
   "source": [
    "print(' NYT bestselling genres',best_books['book_genre'].unique(), '\\n \\n', \n",
    "      'Non-bestselling genres', books['book_genre'].unique())"
   ]
  },
  {
   "cell_type": "code",
   "execution_count": 82,
   "metadata": {},
   "outputs": [
    {
     "name": "stdout",
     "output_type": "stream",
     "text": [
      " There are NYT bestselling 21 genres \n",
      " \n",
      " Non-bestselling genres 33\n"
     ]
    }
   ],
   "source": [
    "print(' There are NYT bestselling',len(best_books['book_genre'].unique()), 'genres \\n \\n', \n",
    "'Non-bestselling genres', len(books['book_genre'].unique()))"
   ]
  },
  {
   "cell_type": "code",
   "execution_count": 83,
   "metadata": {},
   "outputs": [
    {
     "name": "stdout",
     "output_type": "stream",
     "text": [
      " Genres that don't appear on the NYT bestseller list \n",
      " ['New Adult', 'Contemporary', 'Science Fiction', 'Childrens', 'Food and Drink', 'Humor', 'Thriller', 'Polyamorous', 'Media Tie In', 'Paranormal', 'Dark', 'Business', 'Religion', 'Christian', 'Sports and Games']\n"
     ]
    }
   ],
   "source": [
    "print(\" Genres that don't appear on the NYT bestseller list \\n\", \n",
    "      [x for x in books['book_genre'].unique() if not x in best_books['book_genre'].unique()])\n",
    "\n"
   ]
  },
  {
   "cell_type": "markdown",
   "metadata": {},
   "source": [
    "These genres might be to predictive during modeling\n",
    "- consider dropping books with those genres\n",
    "- consolidating genres to 'top hits'"
   ]
  },
  {
   "cell_type": "markdown",
   "metadata": {},
   "source": [
    "## author analysis"
   ]
  },
  {
   "cell_type": "code",
   "execution_count": 84,
   "metadata": {},
   "outputs": [
    {
     "data": {
      "text/plain": [
       "(1098,)"
      ]
     },
     "execution_count": 84,
     "metadata": {},
     "output_type": "execute_result"
    }
   ],
   "source": [
    "df.columns\n",
    "df.meta_author.shape"
   ]
  },
  {
   "cell_type": "code",
   "execution_count": 85,
   "metadata": {},
   "outputs": [
    {
     "name": "stdout",
     "output_type": "stream",
     "text": [
      "There are 955 unique authors of 1098 books\n"
     ]
    }
   ],
   "source": [
    "print('There are', df.meta_author.unique().shape[0], 'unique authors of', df.meta_author.shape[0], 'books')"
   ]
  },
  {
   "cell_type": "code",
   "execution_count": 86,
   "metadata": {},
   "outputs": [
    {
     "data": {
      "text/plain": [
       "Stephen King         6\n",
       "Sarah J. Maas        6\n",
       "Brandon Sanderson    5\n",
       "Brian K. Vaughan     5\n",
       "Rick Riordan         4\n",
       "Penny Reid           3\n",
       "Sarah Andersen       3\n",
       "Mark  Lawrence       3\n",
       "B.A. Paris           3\n",
       "Tahereh Mafi         3\n",
       "Name: meta_author, dtype: int64"
      ]
     },
     "execution_count": 86,
     "metadata": {},
     "output_type": "execute_result"
    }
   ],
   "source": [
    "df.meta_author.value_counts()[:10]"
   ]
  },
  {
   "cell_type": "markdown",
   "metadata": {},
   "source": [
    "Sarah j. Maas and Stephen King are the most prolific authors in the dataset."
   ]
  },
  {
   "cell_type": "code",
   "execution_count": 87,
   "metadata": {},
   "outputs": [
    {
     "data": {
      "text/plain": [
       "array([  0,   1,   2,   3,   4,   5,   6,   7,   8,   9,  10,  11,  12,\n",
       "        13,  14,  15,  16,  17,  18,  19,  20,  21,  22,  23,  24,  25,\n",
       "        26,  27,  28,  29,  30,  31,  32,  33,  34,  35,  36,  37,  38,\n",
       "        39,  40,  41,  42,  43,  44,  45,  46,  47,  48,  49,  50,  51,\n",
       "        52,  53,  54,  55,  56,  57,  58,  59,  60,  61,  62,  63,  64,\n",
       "        65,  66,  67,  68,  69,  70,  71,  72,  73,  74,  75,  76,  77,\n",
       "        78,  79,  80,  81,  82,  83,  84,  85,  86,  87,  88,  89,  90,\n",
       "        91,  92,  93,  94,  95,  96,  97,  98,  99, 100, 101, 102, 103,\n",
       "       104, 105, 106, 107, 108, 109, 110])"
      ]
     },
     "execution_count": 87,
     "metadata": {},
     "output_type": "execute_result"
    }
   ],
   "source": [
    "# 111 authors have more than one book \n",
    "# 844 authors have one book on the Best Seller list\n",
    "np.where(df.meta_author.value_counts() > 1)[0]\n"
   ]
  },
  {
   "cell_type": "markdown",
   "metadata": {},
   "source": [
    "# Text EDA"
   ]
  },
  {
   "cell_type": "code",
   "execution_count": 88,
   "metadata": {},
   "outputs": [
    {
     "data": {
      "text/plain": [
       "Index(['aaron', 'ab', 'abandon', 'abandonment', 'abby', 'abc', 'abduct',\n",
       "       'abducted', 'ability', 'able',\n",
       "       ...\n",
       "       'zelda', 'zest', 'zeus', 'zillion', 'zimmer', 'zoe', 'zone', 'zoom',\n",
       "       'zorie', 'zoroastrian'],\n",
       "      dtype='object', length=5842)"
      ]
     },
     "execution_count": 88,
     "metadata": {},
     "output_type": "execute_result"
    }
   ],
   "source": [
    "# sorted(df_text.sum(axis=0),reverse=True )[0].index\n",
    "df_text.sum(axis=0).index\n"
   ]
  },
  {
   "cell_type": "code",
   "execution_count": 114,
   "metadata": {},
   "outputs": [
    {
     "data": {
      "text/plain": [
       "time    151\n",
       "dtype: int64"
      ]
     },
     "execution_count": 114,
     "metadata": {},
     "output_type": "execute_result"
    }
   ],
   "source": [
    "# df_text.sum(axis=0).where(df_text.sum(axis=0) == 150)\n",
    "# df_text.sum(axis=0).where(df_text.sum(axis=0) == 150)\n",
    "# df_text.sum(axis=0)[df_text.sum(axis=0).value ==150]\n",
    "df_text.sum(axis=0).max()\n",
    "# 151 is the max number\n",
    "# find the word that sum is 151\n",
    "df_text.sum(axis=0)[df_text.sum(axis=0) == df_text.sum(axis=0).max()]\n",
    "# df_text.sum(axis=0)[151]"
   ]
  },
  {
   "cell_type": "code",
   "execution_count": 90,
   "metadata": {},
   "outputs": [
    {
     "data": {
      "text/plain": [
       "151"
      ]
     },
     "execution_count": 90,
     "metadata": {},
     "output_type": "execute_result"
    }
   ],
   "source": [
    "df_text.sum(axis=0)['time']"
   ]
  },
  {
   "cell_type": "code",
   "execution_count": 91,
   "metadata": {},
   "outputs": [
    {
     "data": {
      "text/plain": [
       "23"
      ]
     },
     "execution_count": 91,
     "metadata": {},
     "output_type": "execute_result"
    }
   ],
   "source": [
    "df_text.sum(axis=0)['prize']"
   ]
  },
  {
   "cell_type": "code",
   "execution_count": 92,
   "metadata": {},
   "outputs": [
    {
     "data": {
      "text/plain": [
       "151"
      ]
     },
     "execution_count": 92,
     "metadata": {},
     "output_type": "execute_result"
    }
   ],
   "source": [
    "sorted(df_text.sum(axis=0), reverse=True)[0]"
   ]
  },
  {
   "cell_type": "code",
   "execution_count": 93,
   "metadata": {},
   "outputs": [
    {
     "data": {
      "text/plain": [
       "<matplotlib.axes._subplots.AxesSubplot at 0x1a1cf09208>"
      ]
     },
     "execution_count": 93,
     "metadata": {},
     "output_type": "execute_result"
    },
    {
     "data": {
      "image/png": "[encoded data removed]",
      "text/plain": [
       "<Figure size 864x504 with 1 Axes>"
      ]
     },
     "metadata": {
      "needs_background": "light"
     },
     "output_type": "display_data"
    }
   ],
   "source": [
    "type(df_text.sum(axis=0).sort_values(ascending=False)[:20])\n",
    "df_text.sum(axis=0).sort_values(ascending=False)[:20].plot(kind='bar', figsize=(12,7), \n",
    "                                                            title='most common words in description')\n",
    "\n",
    "\n",
    "\n"
   ]
  },
  {
   "cell_type": "code",
   "execution_count": 96,
   "metadata": {},
   "outputs": [
    {
     "data": {
      "text/plain": [
       "Index(['meta_title', 'meta_author', 'meta_format', 'book_genre', 'meta_pages',\n",
       "       'meta_rating', 'bestseller', 'aaron', 'ab', 'abandon',\n",
       "       ...\n",
       "       'zelda', 'zest', 'zeus', 'zillion', 'zimmer', 'zoe', 'zone', 'zoom',\n",
       "       'zorie', 'zoroastrian'],\n",
       "      dtype='object', length=5849)"
      ]
     },
     "execution_count": 96,
     "metadata": {},
     "output_type": "execute_result"
    }
   ],
   "source": [
    "best_books.columns"
   ]
  },
  {
   "cell_type": "code",
   "execution_count": 99,
   "metadata": {},
   "outputs": [
    {
     "data": {
      "text/plain": [
       "Index(['meta_title', 'meta_author', 'meta_format', 'book_genre', 'meta_pages',\n",
       "       'meta_rating', 'bestseller', 'aaron', 'ab', 'abandon',\n",
       "       ...\n",
       "       'zelda', 'zest', 'zeus', 'zillion', 'zimmer', 'zoe', 'zone', 'zoom',\n",
       "       'zorie', 'zoroastrian'],\n",
       "      dtype='object', length=5849)"
      ]
     },
     "execution_count": 99,
     "metadata": {},
     "output_type": "execute_result"
    }
   ],
   "source": [
    "books.columns"
   ]
  },
  {
   "cell_type": "code",
   "execution_count": 109,
   "metadata": {},
   "outputs": [
    {
     "data": {
      "text/plain": [
       "<matplotlib.axes._subplots.AxesSubplot at 0x1a1ec45a20>"
      ]
     },
     "execution_count": 109,
     "metadata": {},
     "output_type": "execute_result"
    },
    {
     "data": {
      "image/png": "[encoded data removed]",
      "text/plain": [
       "<Figure size 864x504 with 1 Axes>"
      ]
     },
     "metadata": {
      "needs_background": "light"
     },
     "output_type": "display_data"
    }
   ],
   "source": [
    "# print(books.shape)\n",
    "# bestsellers\n",
    "# print(best_books.shape)\n",
    "\n",
    "best_books.loc[:, ~df.columns.isin(['meta_title', 'meta_author', 'meta_format', 'book_genre', 'meta_pages',\n",
    "       'meta_rating', 'bestseller'])].sum(axis=0).sort_values(ascending=False)[:26].plot(kind='bar', figsize=(12,7), \n",
    "                                                            title='most common words in Best Seller descriptions')"
   ]
  },
  {
   "cell_type": "code",
   "execution_count": 110,
   "metadata": {},
   "outputs": [
    {
     "data": {
      "text/plain": [
       "<matplotlib.axes._subplots.AxesSubplot at 0x1a1ee59f98>"
      ]
     },
     "execution_count": 110,
     "metadata": {},
     "output_type": "execute_result"
    },
    {
     "data": {
      "image/png": "[encoded data removed]",
      "text/plain": [
       "<Figure size 864x504 with 1 Axes>"
      ]
     },
     "metadata": {
      "needs_background": "light"
     },
     "output_type": "display_data"
    }
   ],
   "source": [
    "books.loc[:, ~df.columns.isin(['meta_title', 'meta_author', 'meta_format', 'book_genre', 'meta_pages',\n",
    "       'meta_rating', 'bestseller'])].sum(axis=0).sort_values(ascending=False)[:26].plot(kind='bar', figsize=(12,7), \n",
    "                                                            title='most common words in Non Best Seller descriptions')"
   ]
  },
  {
   "cell_type": "markdown",
   "metadata": {},
   "source": [
    "# TODO\n",
    "- Add text feature EDA\n",
    "- export graphics to readme \n",
    "- clean dataframe"
   ]
  },
  {
   "cell_type": "code",
   "execution_count": null,
   "metadata": {},
   "outputs": [],
   "source": []
  }
 ],
 "metadata": {
  "kernelspec": {
   "display_name": "Python 3",
   "language": "python",
   "name": "python3"
  },
  "language_info": {
   "codemirror_mode": {
    "name": "ipython",
    "version": 3
   },
   "file_extension": ".py",
   "mimetype": "text/x-python",
   "name": "python",
   "nbconvert_exporter": "python",
   "pygments_lexer": "ipython3",
   "version": "3.6.5"
  },
  "toc": {
   "base_numbering": 1,
   "nav_menu": {},
   "number_sections": true,
   "sideBar": true,
   "skip_h1_title": false,
   "title_cell": "Table of Contents",
   "title_sidebar": "Contents",
   "toc_cell": false,
   "toc_position": {},
   "toc_section_display": true,
   "toc_window_display": false
  }
 },
 "nbformat": 4,
 "nbformat_minor": 2
}
