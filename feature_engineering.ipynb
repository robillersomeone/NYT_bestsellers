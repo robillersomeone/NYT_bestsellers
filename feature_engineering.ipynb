{
 "cells": [
  {
   "cell_type": "markdown",
   "metadata": {},
   "source": [
    "# Text Feature Engineering"
   ]
  },
  {
   "cell_type": "code",
   "execution_count": 2,
   "metadata": {},
   "outputs": [],
   "source": [
    "import re\n",
    "import numpy as np\n",
    "import pandas as pd\n",
    "from sklearn import model_selection\n",
    "from sklearn.feature_extraction import text\n",
    "from sklearn.feature_extraction.text import CountVectorizer\n",
    "import nltk\n",
    "from nltk.stem.wordnet import WordNetLemmatizer"
   ]
  },
  {
   "cell_type": "code",
   "execution_count": 3,
   "metadata": {},
   "outputs": [],
   "source": [
    "# nltk.download('wordnet')"
   ]
  },
  {
   "cell_type": "markdown",
   "metadata": {},
   "source": [
    "### Split the data in a training set to apply transformations"
   ]
  },
  {
   "cell_type": "code",
   "execution_count": 4,
   "metadata": {},
   "outputs": [],
   "source": [
    "df = pd.read_csv('csv_files/9_1_all_books_df.csv')"
   ]
  },
  {
   "cell_type": "code",
   "execution_count": 5,
   "metadata": {},
   "outputs": [],
   "source": [
    "X_train, X_test, y_train, y_test = model_selection.train_test_split(df['description'], \n",
    "                                                                    df['best_seller'], \n",
    "                                                                    test_size = .2,\n",
    "                                                                    random_state = 42)"
   ]
  },
  {
   "cell_type": "code",
   "execution_count": 6,
   "metadata": {},
   "outputs": [
    {
     "data": {
      "text/plain": [
       "pandas.core.series.Series"
      ]
     },
     "execution_count": 6,
     "metadata": {},
     "output_type": "execute_result"
    }
   ],
   "source": [
    "# T_train on it's own is a series\n",
    "type(X_train)"
   ]
  },
  {
   "cell_type": "markdown",
   "metadata": {},
   "source": [
    "# one hot encoding categories\n",
    "- genres\n",
    "- format\n",
    "- publisher\n",
    "- month (most likely not)"
   ]
  },
  {
   "cell_type": "markdown",
   "metadata": {},
   "source": [
    "# vectorize the description\n",
    "- look at html format\n",
    "- key words\n",
    "- take out NYT reference"
   ]
  },
  {
   "cell_type": "markdown",
   "metadata": {},
   "source": [
    "### cleaning html tags\n",
    "- as well as exploring vectorizing in pandas."
   ]
  },
  {
   "cell_type": "code",
   "execution_count": 7,
   "metadata": {},
   "outputs": [
    {
     "data": {
      "text/plain": [
       "'<b>Nonpareil science writer David Quammen explains how recent discoveries in molecular biology can change our understanding of evolution and life’s history, with powerful implications for human health and even our own human nature. </b>'"
      ]
     },
     "execution_count": 7,
     "metadata": {},
     "output_type": "execute_result"
    }
   ],
   "source": [
    "# no_html = df.description[3].replace('<i>', '')\n",
    "# no_html\n",
    "df.description[1371]\n",
    "# this is what we want to act on\n",
    "# df.description.values\n",
    "\n",
    "# use regrex to clean the html tags\n",
    "# no_reg_html = re.sub('<.{1,9}>',' ', df.description[1372])\n",
    "# no_reg_html\n",
    "# vec_html = re.sub('<.{1,9}>',' ', df.description.values)"
   ]
  },
  {
   "cell_type": "markdown",
   "metadata": {},
   "source": [
    "#### function to take out the tags"
   ]
  },
  {
   "cell_type": "code",
   "execution_count": 8,
   "metadata": {},
   "outputs": [],
   "source": [
    "def no_html(text):\n",
    "    return re.sub('<.{1,9}>',' ', text)"
   ]
  },
  {
   "cell_type": "markdown",
   "metadata": {},
   "source": [
    "#### function to remove years and numbers in general"
   ]
  },
  {
   "cell_type": "code",
   "execution_count": 9,
   "metadata": {},
   "outputs": [],
   "source": [
    "def no_nums(text):\n",
    "    return re.sub('\\d+', ' ', text)"
   ]
  },
  {
   "cell_type": "markdown",
   "metadata": {},
   "source": [
    "#### function to remove punc"
   ]
  },
  {
   "cell_type": "code",
   "execution_count": 166,
   "metadata": {},
   "outputs": [],
   "source": [
    "def no_punc(text):\n",
    "    return re.sub('\\.|-|\\(|\\)|\\\"|,|\\?', ' ', text)"
   ]
  },
  {
   "cell_type": "code",
   "execution_count": 170,
   "metadata": {},
   "outputs": [
    {
     "data": {
      "text/plain": [
       "\"  an intelligent explanation of the mechanisms that produced the crisis and the response to it   one of the great strengths of tooze's book is to demonstrate the deeply intertwined nature of the european and american financial systems      the new york times book review       from a prizewinning economic historian  an eye-opening reinterpretation of the   economic crisis   \""
      ]
     },
     "execution_count": 170,
     "metadata": {},
     "output_type": "execute_result"
    }
   ],
   "source": [
    "X_train[2]"
   ]
  },
  {
   "cell_type": "code",
   "execution_count": 171,
   "metadata": {},
   "outputs": [
    {
     "data": {
      "text/plain": [
       "\"  an intelligent explanation of the mechanisms that produced the crisis and the response to it   one of the great strengths of tooze's book is to demonstrate the deeply intertwined nature of the european and american financial systems      the new york times book review       from a prizewinning economic historian  an eye opening reinterpretation of the   economic crisis   \""
      ]
     },
     "execution_count": 171,
     "metadata": {},
     "output_type": "execute_result"
    }
   ],
   "source": [
    "no_punc(X_train[2])"
   ]
  },
  {
   "cell_type": "markdown",
   "metadata": {},
   "source": [
    "#### function to remove cases"
   ]
  },
  {
   "cell_type": "code",
   "execution_count": 172,
   "metadata": {},
   "outputs": [],
   "source": [
    "def no_upper(text):\n",
    "    return text.lower()"
   ]
  },
  {
   "cell_type": "markdown",
   "metadata": {},
   "source": [
    "#### method 1 np.vectorize"
   ]
  },
  {
   "cell_type": "code",
   "execution_count": 10,
   "metadata": {},
   "outputs": [],
   "source": [
    "no_html_v = np.vectorize(no_html)"
   ]
  },
  {
   "cell_type": "code",
   "execution_count": 11,
   "metadata": {},
   "outputs": [
    {
     "data": {
      "text/plain": [
       "array([' Nonpareil science writer David Quammen explains how recent discoveries in molecular biology can change our understanding of evolution and life’s history, with powerful implications for human health and even our own human nature.  ',\n",
       "       ' NAMED A BEST BOOK OF 2018 BY  THE NEW YORK TIMES  \"Somehow Casey Gerald has pulled off the most urgently political, most deeply personal, and most engagingly spiritual statement of our time by just looking outside his window and inside himself. Extraordinary.\" - Marlon James \"Staccato prose and peripatetic storytelling combine the cadences of the Bible with an urgency reminisc '],\n",
       "      dtype='<U381')"
      ]
     },
     "execution_count": 11,
     "metadata": {},
     "output_type": "execute_result"
    }
   ],
   "source": [
    "no_html_v([X_train[1371],df.description[1372] ])"
   ]
  },
  {
   "cell_type": "code",
   "execution_count": 12,
   "metadata": {},
   "outputs": [],
   "source": [
    "X_train = no_html_v(X_train)"
   ]
  },
  {
   "cell_type": "code",
   "execution_count": 13,
   "metadata": {},
   "outputs": [],
   "source": [
    "# some series magic... originally made the function for a dataframe\n",
    "# X_train[\"no_html\"] = no_html_v(X_train.values)"
   ]
  },
  {
   "cell_type": "code",
   "execution_count": 14,
   "metadata": {},
   "outputs": [],
   "source": [
    "# X_train = X_train['no_html']"
   ]
  },
  {
   "cell_type": "code",
   "execution_count": 153,
   "metadata": {},
   "outputs": [
    {
     "data": {
      "text/plain": [
       "array(['an exquisite memoir about how to live and love every day with  death in the room   from poet nina riggs  mother of two young sons and the direct descendant of ralph waldo emerson  in the tradition of ',\n",
       "       \"the vision wants to be human  and what's more human than family? so he heads back to the beginning  to the laboratory where ultron created him and molded him into a weapon  the place where he first rebelled against his given destiny and imagined that he could be more -that he could be a man  there  he builds them  a wife  virginia  two teenage twins  viv and vin  they look\",\n",
       "       \"  an intelligent explanation of the mechanisms that produced the crisis and the response to it   one of the great strengths of tooze's book is to demonstrate the deeply intertwined nature of the european and american financial systems      the new york times book review       from a prizewinning economic historian  an eye-opening reinterpretation of the   economic crisis   \",\n",
       "       ...,\n",
       "       ' a moving story of love  friendship  grief  healing  and the magical bond between a woman and her dog  ',\n",
       "       'in celebration of ',\n",
       "       ' the magisterial concluding volume in the definitive biography of eleanor roosevelt '],\n",
       "      dtype='<U387')"
      ]
     },
     "execution_count": 153,
     "metadata": {},
     "output_type": "execute_result"
    }
   ],
   "source": [
    "X_train"
   ]
  },
  {
   "cell_type": "markdown",
   "metadata": {},
   "source": [
    "#### apply numpy function"
   ]
  },
  {
   "cell_type": "code",
   "execution_count": 16,
   "metadata": {},
   "outputs": [],
   "source": [
    "no_nums_v = np.vectorize(no_nums)"
   ]
  },
  {
   "cell_type": "code",
   "execution_count": 17,
   "metadata": {},
   "outputs": [],
   "source": [
    "X_train = no_nums_v(X_train)"
   ]
  },
  {
   "cell_type": "code",
   "execution_count": 173,
   "metadata": {},
   "outputs": [],
   "source": [
    "no_punc_v = np.vectorize(no_punc)"
   ]
  },
  {
   "cell_type": "code",
   "execution_count": 174,
   "metadata": {},
   "outputs": [],
   "source": [
    "X_train = no_punc_v(X_train)"
   ]
  },
  {
   "cell_type": "code",
   "execution_count": 151,
   "metadata": {},
   "outputs": [],
   "source": [
    "no_upper_v = np.vectorize(no_upper)"
   ]
  },
  {
   "cell_type": "code",
   "execution_count": 152,
   "metadata": {},
   "outputs": [],
   "source": [
    "X_train = no_upper_v(X_train)"
   ]
  },
  {
   "cell_type": "markdown",
   "metadata": {},
   "source": [
    "#### method 2 pandas apply, this doesn't not apply to X_train"
   ]
  },
  {
   "cell_type": "code",
   "execution_count": 18,
   "metadata": {},
   "outputs": [],
   "source": [
    "# df['no_html_apply'] = df.description.apply(no_html)\n",
    "\n",
    "# df.head()"
   ]
  },
  {
   "cell_type": "markdown",
   "metadata": {},
   "source": [
    "## Cleaning text\n",
    "- punctuation\n",
    "- lowercase\n",
    "- lemmas"
   ]
  },
  {
   "cell_type": "code",
   "execution_count": 228,
   "metadata": {},
   "outputs": [],
   "source": [
    "cv = CountVectorizer(stop_words='english')"
   ]
  },
  {
   "cell_type": "code",
   "execution_count": 229,
   "metadata": {},
   "outputs": [
    {
     "data": {
      "text/plain": [
       "array(['an exquisite memoir about how to live and love every day with death in the room from poet nina riggs mother of two young son and the direct descendant of ralph waldo emerson in the tradition of',\n",
       "       \"the vision want to be human and what's more human than family so he head back to the begin to the laboratory where ultron create him and mold him into a weapon the place where he first rebel against his give destiny and imagine that he could be more that he could be a man there he build them a wife virginia two teenage twin viv and vin they look\",\n",
       "       \"an intelligent explanation of the mechanism that produce the crisis and the response to it one of the great strength of tooze's book be to demonstrate the deeply intertwine nature of the european and american financial system the new york time book review from a prizewinning economic historian an eye opening reinterpretation of the economic crisis\",\n",
       "       ...,\n",
       "       'a move story of love friendship grief heal and the magical bond between a woman and her dog',\n",
       "       'in celebration of',\n",
       "       'the magisterial conclude volume in the definitive biography of eleanor roosevelt'],\n",
       "      dtype='<U367')"
      ]
     },
     "execution_count": 229,
     "metadata": {},
     "output_type": "execute_result"
    }
   ],
   "source": [
    "X_train"
   ]
  },
  {
   "cell_type": "code",
   "execution_count": 230,
   "metadata": {},
   "outputs": [],
   "source": [
    "v_X_train = cv.fit_transform(X_train)"
   ]
  },
  {
   "cell_type": "code",
   "execution_count": 84,
   "metadata": {},
   "outputs": [
    {
     "data": {
      "text/plain": [
       "7162"
      ]
     },
     "execution_count": 84,
     "metadata": {},
     "output_type": "execute_result"
    }
   ],
   "source": [
    "# act on the CountVectorizer object to get feature names\n",
    "# this is the first past, with numbers and no stop words\n",
    "len(cv.get_feature_names())\n",
    "# number of words 7162"
   ]
  },
  {
   "cell_type": "code",
   "execution_count": 87,
   "metadata": {},
   "outputs": [
    {
     "data": {
      "text/plain": [
       "6902"
      ]
     },
     "execution_count": 87,
     "metadata": {},
     "output_type": "execute_result"
    }
   ],
   "source": [
    "# second pass with stop words\n",
    "len(cv.get_feature_names())\n",
    "# number of words 6902"
   ]
  },
  {
   "cell_type": "code",
   "execution_count": 103,
   "metadata": {},
   "outputs": [
    {
     "name": "stdout",
     "output_type": "stream",
     "text": [
      "6799\n"
     ]
    }
   ],
   "source": [
    "# third pass, no numbers and stop words\n",
    "print(len(cv.get_feature_names()))\n",
    "# cv.get_feature_names()\n",
    "# number of words 6799"
   ]
  },
  {
   "cell_type": "code",
   "execution_count": null,
   "metadata": {},
   "outputs": [],
   "source": [
    "# fourth pass will use lemmas\n",
    "print(len(cv.get_feature_names()))\n",
    "# number of words 5847 "
   ]
  },
  {
   "cell_type": "markdown",
   "metadata": {},
   "source": [
    "### POS for lemmas"
   ]
  },
  {
   "cell_type": "code",
   "execution_count": 21,
   "metadata": {},
   "outputs": [
    {
     "data": {
      "text/plain": [
       "'C'"
      ]
     },
     "execution_count": 21,
     "metadata": {},
     "output_type": "execute_result"
    }
   ],
   "source": [
    "nltk.pos_tag(['5'])[0][1][0]\n",
    "# ADJ = adjective\n",
    "# NOUN = noun\n",
    "# VERB = verb\n",
    "# ADV = adverb"
   ]
  },
  {
   "cell_type": "code",
   "execution_count": 38,
   "metadata": {},
   "outputs": [],
   "source": [
    "lemmatizer = WordNetLemmatizer()\n",
    "# n = noun\n",
    "# v = verb\n",
    "# a = adjective\n",
    "# r = adverb"
   ]
  },
  {
   "cell_type": "code",
   "execution_count": 23,
   "metadata": {},
   "outputs": [],
   "source": [
    "def mapping_pos(word):\n",
    "    if word.isdigit():\n",
    "        return ' '\n",
    "    else:\n",
    "        tag = nltk.pos_tag([word])[0][1][0]\n",
    "        if tag == 'J':\n",
    "            return 'a'\n",
    "        elif tag == 'V':\n",
    "            return 'v'\n",
    "        elif tag == 'R':\n",
    "            return 'r'\n",
    "        else:\n",
    "            return 'n'"
   ]
  },
  {
   "cell_type": "code",
   "execution_count": 24,
   "metadata": {},
   "outputs": [
    {
     "data": {
      "text/plain": [
       "' '"
      ]
     },
     "execution_count": 24,
     "metadata": {},
     "output_type": "execute_result"
    }
   ],
   "source": [
    "mapping_pos('5')"
   ]
  },
  {
   "cell_type": "code",
   "execution_count": 25,
   "metadata": {},
   "outputs": [
    {
     "data": {
      "text/plain": [
       "'twin'"
      ]
     },
     "execution_count": 25,
     "metadata": {},
     "output_type": "execute_result"
    }
   ],
   "source": [
    "lemmatizer.lemmatize('bigger', mapping_pos('bigger'))\n",
    "lemmatizer.lemmatize('twin', mapping_pos('twin'))"
   ]
  },
  {
   "cell_type": "code",
   "execution_count": 203,
   "metadata": {},
   "outputs": [],
   "source": [
    "kids = ['girls', 'boys',' and']\n",
    "kids_string = 'girls boys and'\n",
    "size = ['bigger', 'biggest']\n",
    "size_string = 'bigger biggest'\n",
    "def lemmtize_it(sentences):\n",
    "    # split the string of sentences\n",
    "    sentence = sentences.split(' ')\n",
    "    cleaned = [lemmatizer.lemmatize(i, mapping_pos(i)) for i in sentence if i is not '']\n",
    "    return \" \".join(cleaned)\n",
    "\n"
   ]
  },
  {
   "cell_type": "code",
   "execution_count": 204,
   "metadata": {},
   "outputs": [
    {
     "data": {
      "text/plain": [
       "'big big'"
      ]
     },
     "execution_count": 204,
     "metadata": {},
     "output_type": "execute_result"
    }
   ],
   "source": [
    "lemmtize_it(size_list)"
   ]
  },
  {
   "cell_type": "code",
   "execution_count": 197,
   "metadata": {},
   "outputs": [
    {
     "data": {
      "text/plain": [
       "\"an intelligent explanation of the mechanism that produce the crisis and the response to it one of the great strength of tooze's book be to demonstrate the deeply intertwine nature of the european and american financial system the new york time book review from a prizewinning economic historian an eye opening reinterpretation of the economic crisis\""
      ]
     },
     "execution_count": 197,
     "metadata": {},
     "output_type": "execute_result"
    }
   ],
   "source": [
    "lemmtize_it(X_train[2])\n",
    "# X_train[0].split(' ')"
   ]
  },
  {
   "cell_type": "code",
   "execution_count": 190,
   "metadata": {},
   "outputs": [
    {
     "data": {
      "text/plain": [
       "'an exquisite memoir about how to live and love every day with  death in the room   from poet nina riggs  mother of two young sons and the direct descendant of ralph waldo emerson  in the tradition of '"
      ]
     },
     "execution_count": 190,
     "metadata": {},
     "output_type": "execute_result"
    }
   ],
   "source": [
    "X_train[0]"
   ]
  },
  {
   "cell_type": "code",
   "execution_count": 186,
   "metadata": {},
   "outputs": [
    {
     "data": {
      "text/plain": [
       "['girl', 'boy', ' and']"
      ]
     },
     "execution_count": 186,
     "metadata": {},
     "output_type": "execute_result"
    }
   ],
   "source": [
    "[lemmatizer.lemmatize(i, mapping_pos(i)) for i in kids]"
   ]
  },
  {
   "cell_type": "code",
   "execution_count": 207,
   "metadata": {},
   "outputs": [],
   "source": [
    "# doing this processing before transforming with the count vectorizer\n",
    "# class Nyt_LemmaTokenizer(object):\n",
    "#     def __call__(self, sentences):\n",
    "#         sentence = sentences.split(' ')\n",
    "#         return [lemmatizer.lemmatize(i, mapping_pos(i)) for i in sentence]"
   ]
  },
  {
   "cell_type": "code",
   "execution_count": 28,
   "metadata": {},
   "outputs": [],
   "source": [
    "# lemmtize_it(X_train[2])"
   ]
  },
  {
   "cell_type": "code",
   "execution_count": 29,
   "metadata": {},
   "outputs": [
    {
     "data": {
      "text/plain": [
       "'An exquisite memoir about how to live--and love--every day with \"death in the room,\" from poet Nina Riggs, mother of two young sons and the direct descendant of Ralph Waldo Emerson, in the tradition of '"
      ]
     },
     "execution_count": 29,
     "metadata": {},
     "output_type": "execute_result"
    }
   ],
   "source": [
    "X_train[0]"
   ]
  },
  {
   "cell_type": "code",
   "execution_count": 209,
   "metadata": {},
   "outputs": [],
   "source": [
    "v_lemmtize_it =  np.vectorize(lemmtize_it)"
   ]
  },
  {
   "cell_type": "code",
   "execution_count": 227,
   "metadata": {},
   "outputs": [],
   "source": [
    "X_train = v_lemmtize_it(X_train)"
   ]
  },
  {
   "cell_type": "code",
   "execution_count": 237,
   "metadata": {},
   "outputs": [
    {
     "data": {
      "text/plain": [
       "'brilliantly'"
      ]
     },
     "execution_count": 237,
     "metadata": {},
     "output_type": "execute_result"
    }
   ],
   "source": [
    "# accompanied\n",
    "lemmatizer.lemmatize('brilliantly', 'a')\n",
    "# lemmtize_it('brilliantly')"
   ]
  },
  {
   "cell_type": "code",
   "execution_count": 214,
   "metadata": {},
   "outputs": [
    {
     "name": "stdout",
     "output_type": "stream",
     "text": [
      "6799\n"
     ]
    }
   ],
   "source": [
    "# fourth pass will use lemmas\n",
    "print(len(cv.get_feature_names()))"
   ]
  },
  {
   "cell_type": "code",
   "execution_count": 231,
   "metadata": {},
   "outputs": [
    {
     "name": "stdout",
     "output_type": "stream",
     "text": [
      "5847\n"
     ]
    }
   ],
   "source": [
    "# fourth pass will use lemmas\n",
    "print(len(cv.get_feature_names()))\n",
    "# 5847 "
   ]
  },
  {
   "cell_type": "code",
   "execution_count": 232,
   "metadata": {},
   "outputs": [
    {
     "data": {
      "text/plain": [
       "['aaron',\n",
       " 'ab',\n",
       " 'abandon',\n",
       " 'abandonment',\n",
       " 'abby',\n",
       " 'abc',\n",
       " 'abduct',\n",
       " 'abducted',\n",
       " 'ability',\n",
       " 'able',\n",
       " 'aboard',\n",
       " 'abou',\n",
       " 'abraham',\n",
       " 'abroad',\n",
       " 'absconds',\n",
       " 'absence',\n",
       " 'absolutely',\n",
       " 'absurd',\n",
       " 'absurdity',\n",
       " 'absurdly',\n",
       " 'abuser',\n",
       " 'academic',\n",
       " 'academies',\n",
       " 'academy',\n",
       " 'accelerate',\n",
       " 'accept',\n",
       " 'acceptance',\n",
       " 'accepted',\n",
       " 'access',\n",
       " 'accident',\n",
       " 'acclaim',\n",
       " 'accolade',\n",
       " 'accompany',\n",
       " 'accomplish',\n",
       " 'accord',\n",
       " 'account',\n",
       " 'accustom',\n",
       " 'ace',\n",
       " 'acevedo',\n",
       " 'achieve',\n",
       " 'achievement',\n",
       " 'acknowledge',\n",
       " 'acne',\n",
       " 'acquire',\n",
       " 'act',\n",
       " 'action',\n",
       " 'activism',\n",
       " 'activist',\n",
       " 'actor',\n",
       " 'actress',\n",
       " 'actually',\n",
       " 'acutely',\n",
       " 'ad',\n",
       " 'ada',\n",
       " 'adam',\n",
       " 'adapt',\n",
       " 'adapts',\n",
       " 'add',\n",
       " 'addict',\n",
       " 'addiction',\n",
       " 'addictive',\n",
       " 'address',\n",
       " 'adhd',\n",
       " 'adjei',\n",
       " 'adjust',\n",
       " 'administration',\n",
       " 'admiral',\n",
       " 'admire',\n",
       " 'admit',\n",
       " 'adolescence',\n",
       " 'adolescent',\n",
       " 'adorable',\n",
       " 'adrienne',\n",
       " 'adult',\n",
       " 'adulthood',\n",
       " 'adulting',\n",
       " 'advance',\n",
       " 'advanced',\n",
       " 'advancement',\n",
       " 'adventure',\n",
       " 'adventurer',\n",
       " 'adversity',\n",
       " 'advice',\n",
       " 'advise',\n",
       " 'advocate',\n",
       " 'aelin',\n",
       " 'aerospace',\n",
       " 'affair',\n",
       " 'affect',\n",
       " 'affected',\n",
       " 'affinity',\n",
       " 'affliction',\n",
       " 'afraid',\n",
       " 'africa',\n",
       " 'african',\n",
       " 'afterlife',\n",
       " 'aftermath',\n",
       " 'agatha',\n",
       " 'age',\n",
       " 'agency',\n",
       " 'agent',\n",
       " 'aggression',\n",
       " 'ago',\n",
       " 'agree',\n",
       " 'agreed',\n",
       " 'agreement',\n",
       " 'agrees',\n",
       " 'agriculture',\n",
       " 'ah',\n",
       " 'ahead',\n",
       " 'ai',\n",
       " 'aide',\n",
       " 'aiden',\n",
       " 'aim',\n",
       " 'aimee',\n",
       " 'air',\n",
       " 'airplane',\n",
       " 'airport',\n",
       " 'ajayi',\n",
       " 'aka',\n",
       " 'akbar',\n",
       " 'akielos',\n",
       " 'akin',\n",
       " 'alabama',\n",
       " 'alarm',\n",
       " 'alaska',\n",
       " 'alaskan',\n",
       " 'albert',\n",
       " 'album',\n",
       " 'alcatraz',\n",
       " 'alcoholism',\n",
       " 'aldrin',\n",
       " 'alex',\n",
       " 'alexander',\n",
       " 'alexandra',\n",
       " 'alexis',\n",
       " 'algorithm',\n",
       " 'alice',\n",
       " 'alicia',\n",
       " 'aliebn',\n",
       " 'alien',\n",
       " 'alike',\n",
       " 'aline',\n",
       " 'alisa',\n",
       " 'alive',\n",
       " 'allende',\n",
       " 'alliance',\n",
       " 'allie',\n",
       " 'alligator',\n",
       " 'allow',\n",
       " 'allows',\n",
       " 'allure',\n",
       " 'ally',\n",
       " 'alongside',\n",
       " 'aloud',\n",
       " 'alpha',\n",
       " 'alt',\n",
       " 'alter',\n",
       " 'alternate',\n",
       " 'alternative',\n",
       " 'alton',\n",
       " 'alveston',\n",
       " 'alyan',\n",
       " 'alyssa',\n",
       " 'amal',\n",
       " 'amanda',\n",
       " 'amara',\n",
       " 'amarantha',\n",
       " 'amaze',\n",
       " 'amazon',\n",
       " 'amber',\n",
       " 'ambiguous',\n",
       " 'ambition',\n",
       " 'ambitious',\n",
       " 'ambitiously',\n",
       " 'amble',\n",
       " 'ambrose',\n",
       " 'amendment',\n",
       " 'america',\n",
       " 'american',\n",
       " 'americanah',\n",
       " 'amid',\n",
       " 'amidst',\n",
       " 'amina',\n",
       " 'amity',\n",
       " 'amos',\n",
       " 'amp',\n",
       " 'amuse',\n",
       " 'amusement',\n",
       " 'amy',\n",
       " 'analysis',\n",
       " 'analyst',\n",
       " 'ancestral',\n",
       " 'ancestry',\n",
       " 'ancient',\n",
       " 'anders',\n",
       " 'andersen',\n",
       " 'anderson',\n",
       " 'andie',\n",
       " 'andrew',\n",
       " 'android',\n",
       " 'anecdotal',\n",
       " 'anecdote',\n",
       " 'angel',\n",
       " 'angela',\n",
       " 'angeles',\n",
       " 'anger',\n",
       " 'angie',\n",
       " 'angler',\n",
       " 'angry',\n",
       " 'anguish',\n",
       " 'animal',\n",
       " 'animation',\n",
       " 'ann',\n",
       " 'anna',\n",
       " 'annabelle',\n",
       " 'anne',\n",
       " 'anner',\n",
       " 'anniversary',\n",
       " 'announce',\n",
       " 'announcement',\n",
       " 'answer',\n",
       " 'answers',\n",
       " 'anthology',\n",
       " 'anthony',\n",
       " 'anthropologist',\n",
       " 'anticipate',\n",
       " 'antonine',\n",
       " 'antonio',\n",
       " 'anxiety',\n",
       " 'anxious',\n",
       " 'anymore',\n",
       " 'anythi',\n",
       " 'apart',\n",
       " 'apartheid',\n",
       " 'apartment',\n",
       " 'apocalypse',\n",
       " 'apollo',\n",
       " 'app',\n",
       " 'appalachia',\n",
       " 'appalachian',\n",
       " 'apparent',\n",
       " 'apparently',\n",
       " 'appear',\n",
       " 'appetite',\n",
       " 'apply',\n",
       " 'appoint',\n",
       " 'appreciates',\n",
       " 'apprentice',\n",
       " 'approach',\n",
       " 'approve',\n",
       " 'apricot',\n",
       " 'april',\n",
       " 'arab',\n",
       " 'arabia',\n",
       " 'arabic',\n",
       " 'arbit',\n",
       " 'arc',\n",
       " 'archeological',\n",
       " 'archery',\n",
       " 'archive',\n",
       " 'area',\n",
       " 'aren',\n",
       " 'arena',\n",
       " 'arguably',\n",
       " 'argues',\n",
       " 'arid',\n",
       " 'aristocratic',\n",
       " 'arizona',\n",
       " 'ark',\n",
       " 'arm',\n",
       " 'armstrong',\n",
       " 'army',\n",
       " 'arnold',\n",
       " 'aron',\n",
       " 'arrest',\n",
       " 'arrival',\n",
       " 'arrive',\n",
       " 'arrives',\n",
       " 'arrogant',\n",
       " 'art',\n",
       " 'artemisia',\n",
       " 'arthur',\n",
       " 'artificial',\n",
       " 'artist',\n",
       " 'artistic',\n",
       " 'aru',\n",
       " 'asami',\n",
       " 'asexual',\n",
       " 'asia',\n",
       " 'asian',\n",
       " 'aside',\n",
       " 'asin',\n",
       " 'ask',\n",
       " 'asks',\n",
       " 'aspire',\n",
       " 'assail',\n",
       " 'assailant',\n",
       " 'assassin',\n",
       " 'assassinate',\n",
       " 'assassination',\n",
       " 'assault',\n",
       " 'asset',\n",
       " 'assignment',\n",
       " 'associate',\n",
       " 'assumes',\n",
       " 'assumption',\n",
       " 'assure',\n",
       " 'assures',\n",
       " 'astonish',\n",
       " 'astonishingly',\n",
       " 'astound',\n",
       " 'astronaut',\n",
       " 'astronomy',\n",
       " 'astrophysicist',\n",
       " 'athlete',\n",
       " 'atlantic',\n",
       " 'atmospheric',\n",
       " 'atrocity',\n",
       " 'attack',\n",
       " 'attempt',\n",
       " 'attenborough',\n",
       " 'attend',\n",
       " 'attica',\n",
       " 'atticus',\n",
       " 'attractive',\n",
       " 'atul',\n",
       " 'auction',\n",
       " 'audacious',\n",
       " 'audacity',\n",
       " 'audience',\n",
       " 'audio',\n",
       " 'auggie',\n",
       " 'augment',\n",
       " 'august',\n",
       " 'augustus',\n",
       " 'aura',\n",
       " 'aurora',\n",
       " 'auschwitz',\n",
       " 'austen',\n",
       " 'auster',\n",
       " 'austere',\n",
       " 'austin',\n",
       " 'author',\n",
       " 'authoritarianism',\n",
       " 'authority',\n",
       " 'authors',\n",
       " 'autism',\n",
       " 'autistic',\n",
       " 'autobiographical',\n",
       " 'autocracy',\n",
       " 'autumn',\n",
       " 'avenge',\n",
       " 'avenger',\n",
       " 'avenue',\n",
       " 'average',\n",
       " 'avert',\n",
       " 'avery',\n",
       " 'aviator',\n",
       " 'avidity',\n",
       " 'avocado',\n",
       " 'avoid',\n",
       " 'await',\n",
       " 'awaited',\n",
       " 'awaits',\n",
       " 'awake',\n",
       " 'awaken',\n",
       " 'awakens',\n",
       " 'awakes',\n",
       " 'award',\n",
       " 'away',\n",
       " 'awe',\n",
       " 'awesomelyluvvie',\n",
       " 'awful',\n",
       " 'awkward',\n",
       " 'awoke',\n",
       " 'aydin',\n",
       " 'aza',\n",
       " 'ba',\n",
       " 'babe',\n",
       " 'baby',\n",
       " 'backdrop',\n",
       " 'background',\n",
       " 'backlash',\n",
       " 'backpack',\n",
       " 'backstairs',\n",
       " 'backyard',\n",
       " 'bad',\n",
       " 'baker',\n",
       " 'baking',\n",
       " 'balance',\n",
       " 'baldwin',\n",
       " 'ball',\n",
       " 'baltimore',\n",
       " 'band',\n",
       " 'bandmates',\n",
       " 'banish',\n",
       " 'bankers',\n",
       " 'bannon',\n",
       " 'banyan',\n",
       " 'bao',\n",
       " 'bar',\n",
       " 'barack',\n",
       " 'barb',\n",
       " 'barbados',\n",
       " 'barbalien',\n",
       " 'bard',\n",
       " 'bardo',\n",
       " 'bare',\n",
       " 'barely',\n",
       " 'bargain',\n",
       " 'barnett',\n",
       " 'baron',\n",
       " 'barrack',\n",
       " 'barrel',\n",
       " 'barren',\n",
       " 'barrier',\n",
       " 'barrow',\n",
       " 'barry',\n",
       " 'base',\n",
       " 'baseball',\n",
       " 'bashara',\n",
       " 'basic',\n",
       " 'basketball',\n",
       " 'bastille',\n",
       " 'bath',\n",
       " 'batman',\n",
       " 'battle',\n",
       " 'battlefield',\n",
       " 'battling',\n",
       " 'bawdiness',\n",
       " 'bawse',\n",
       " 'bay',\n",
       " 'beach',\n",
       " 'bear',\n",
       " 'beard',\n",
       " 'bearing',\n",
       " 'beartown',\n",
       " 'beast',\n",
       " 'beat',\n",
       " 'beautiful',\n",
       " 'beautifully',\n",
       " 'beauty',\n",
       " 'beauvoir',\n",
       " 'bec',\n",
       " 'bed',\n",
       " 'bedroom',\n",
       " 'bedside',\n",
       " 'bedtime',\n",
       " 'beekle',\n",
       " 'beethoven',\n",
       " 'befits',\n",
       " 'befriend',\n",
       " 'befriending',\n",
       " 'begin',\n",
       " 'beginner',\n",
       " 'beguiling',\n",
       " 'behavior',\n",
       " 'behavioral',\n",
       " 'beirut',\n",
       " 'bel',\n",
       " 'belief',\n",
       " 'believe',\n",
       " 'belittle',\n",
       " 'bell',\n",
       " 'bella',\n",
       " 'belle',\n",
       " 'belly',\n",
       " 'belong',\n",
       " 'belonging',\n",
       " 'beloved',\n",
       " 'belpre',\n",
       " 'belters',\n",
       " 'ben',\n",
       " 'bend',\n",
       " 'bender',\n",
       " 'bending',\n",
       " 'beneath',\n",
       " 'benedict',\n",
       " 'beneficial',\n",
       " 'benefit',\n",
       " 'benjamin',\n",
       " 'benn',\n",
       " 'bennet',\n",
       " 'bennett',\n",
       " 'bequeathing',\n",
       " 'bermuda',\n",
       " 'bernadette',\n",
       " 'bernard',\n",
       " 'berne',\n",
       " 'berry',\n",
       " 'beset',\n",
       " 'besmirch',\n",
       " 'best',\n",
       " 'besteller',\n",
       " 'bestseller',\n",
       " 'bestselling',\n",
       " 'bet',\n",
       " 'beth',\n",
       " 'betrayal',\n",
       " 'betrayed',\n",
       " 'betty',\n",
       " 'bev',\n",
       " 'beverly',\n",
       " 'bewilder',\n",
       " 'bff',\n",
       " 'bianchi',\n",
       " 'bible',\n",
       " 'biden',\n",
       " 'big',\n",
       " 'bike',\n",
       " 'bilbao',\n",
       " 'billion',\n",
       " 'billionaire',\n",
       " 'billy',\n",
       " 'bind',\n",
       " 'binge',\n",
       " 'bingo',\n",
       " 'binti',\n",
       " 'bioengineered',\n",
       " 'biographer',\n",
       " 'biography',\n",
       " 'biology',\n",
       " 'biotech',\n",
       " 'bipolar',\n",
       " 'bird',\n",
       " 'birkenau',\n",
       " 'birth',\n",
       " 'birthday',\n",
       " 'birthplace',\n",
       " 'birthright',\n",
       " 'bisexual',\n",
       " 'bishop',\n",
       " 'bit',\n",
       " 'bitch',\n",
       " 'biting',\n",
       " 'bitter',\n",
       " 'bizarre',\n",
       " 'black',\n",
       " 'blackberry',\n",
       " 'blackheath',\n",
       " 'blacklock',\n",
       " 'blackout',\n",
       " 'blake',\n",
       " 'blame',\n",
       " 'blanket',\n",
       " 'blast',\n",
       " 'bleakness',\n",
       " 'bleeding',\n",
       " 'blend',\n",
       " 'blending',\n",
       " 'blessing',\n",
       " 'blight',\n",
       " 'blind',\n",
       " 'bliss',\n",
       " 'blistering',\n",
       " 'blitz',\n",
       " 'blitzkrieg',\n",
       " 'blockbuster',\n",
       " 'blockquote',\n",
       " 'blog',\n",
       " 'blogger',\n",
       " 'blood',\n",
       " 'bloodiest',\n",
       " 'blossom',\n",
       " 'blowing',\n",
       " 'blown',\n",
       " 'blue',\n",
       " 'bluffin',\n",
       " 'blunt',\n",
       " 'blur',\n",
       " 'blush',\n",
       " 'bo',\n",
       " 'board',\n",
       " 'boast',\n",
       " 'boat',\n",
       " 'bob',\n",
       " 'bobby',\n",
       " 'body',\n",
       " 'bodyguard',\n",
       " 'boer',\n",
       " 'boil',\n",
       " 'bold',\n",
       " 'boldest',\n",
       " 'bolt',\n",
       " 'bomb',\n",
       " 'bombay',\n",
       " 'bombing',\n",
       " 'bond',\n",
       " 'bone',\n",
       " 'booby',\n",
       " 'book',\n",
       " 'booker',\n",
       " 'bookfrogs',\n",
       " 'bookish',\n",
       " 'books',\n",
       " 'bookshop',\n",
       " 'bookstore',\n",
       " 'boom',\n",
       " 'boone',\n",
       " 'border',\n",
       " 'bore',\n",
       " 'boring',\n",
       " 'borman',\n",
       " 'born',\n",
       " 'borne',\n",
       " 'bos',\n",
       " 'boson',\n",
       " 'boston',\n",
       " 'botany',\n",
       " 'bought',\n",
       " 'bound',\n",
       " 'boundary',\n",
       " 'boundless',\n",
       " 'bourdain',\n",
       " 'bout',\n",
       " 'bowen',\n",
       " 'bowl',\n",
       " 'bowtie',\n",
       " 'box',\n",
       " 'boxing',\n",
       " 'boy',\n",
       " 'boyd',\n",
       " 'boyfriend',\n",
       " 'br',\n",
       " 'bracingly',\n",
       " 'brad',\n",
       " 'bradford',\n",
       " 'brain',\n",
       " 'brainy',\n",
       " 'bram',\n",
       " 'branch',\n",
       " 'brand',\n",
       " 'brandon',\n",
       " 'brash',\n",
       " 'brat',\n",
       " 'brave',\n",
       " 'bread',\n",
       " 'breadth',\n",
       " 'break',\n",
       " 'breakdown',\n",
       " 'breakfast',\n",
       " 'breakout',\n",
       " 'breaks',\n",
       " 'breath',\n",
       " 'breathe',\n",
       " 'breathes',\n",
       " 'breathtaking',\n",
       " 'breathtakingly',\n",
       " 'brennan',\n",
       " 'brent',\n",
       " 'brenyah',\n",
       " 'brian',\n",
       " 'bride',\n",
       " 'brien',\n",
       " 'briggs',\n",
       " 'bright',\n",
       " 'brighter',\n",
       " 'brilliance',\n",
       " 'brilliant',\n",
       " 'brilliantly',\n",
       " 'brimming',\n",
       " 'bring',\n",
       " 'brings',\n",
       " 'brink',\n",
       " 'brit',\n",
       " 'britain',\n",
       " 'british',\n",
       " 'broad',\n",
       " 'broadcast',\n",
       " 'broadcasting',\n",
       " 'broadway',\n",
       " 'brogrammers',\n",
       " 'broke',\n",
       " 'broken',\n",
       " 'broker',\n",
       " 'bromance',\n",
       " 'brood',\n",
       " 'brooke',\n",
       " 'brooklyn',\n",
       " 'brosh',\n",
       " 'brother',\n",
       " 'brotherhood',\n",
       " 'brought',\n",
       " 'brown',\n",
       " 'brownstone',\n",
       " 'bruce',\n",
       " 'brush',\n",
       " 'brutal',\n",
       " 'brutality',\n",
       " 'brutally',\n",
       " 'bubbly',\n",
       " 'budapest',\n",
       " 'budgeting',\n",
       " 'buffet',\n",
       " 'build',\n",
       " 'building',\n",
       " 'built',\n",
       " 'bullet',\n",
       " 'bully',\n",
       " 'bullying',\n",
       " 'bump',\n",
       " 'burgeon',\n",
       " 'burger',\n",
       " 'burgess',\n",
       " 'burglar',\n",
       " 'burke',\n",
       " 'burn',\n",
       " 'burst',\n",
       " 'bury',\n",
       " 'bus',\n",
       " 'business',\n",
       " 'bustle',\n",
       " 'busy',\n",
       " 'butchery',\n",
       " 'butterfly',\n",
       " 'buy',\n",
       " 'buzz',\n",
       " 'buzzfeed',\n",
       " 'ca',\n",
       " 'cabin',\n",
       " 'cabinet',\n",
       " 'cadence',\n",
       " 'caesar',\n",
       " 'caine',\n",
       " 'cake',\n",
       " 'calculate',\n",
       " 'caldecott',\n",
       " 'california',\n",
       " 'californian',\n",
       " 'calla',\n",
       " 'callahan',\n",
       " 'callow',\n",
       " 'calm',\n",
       " 'calorie',\n",
       " 'cambridge',\n",
       " 'camelot',\n",
       " 'cameroonian',\n",
       " 'camille',\n",
       " 'camp',\n",
       " 'campaign',\n",
       " 'campbell',\n",
       " 'campus',\n",
       " 'canada',\n",
       " 'canadian',\n",
       " 'canal',\n",
       " 'cancer',\n",
       " 'candid',\n",
       " 'candor',\n",
       " 'canner',\n",
       " 'canon',\n",
       " 'capital',\n",
       " 'capitol',\n",
       " 'capote',\n",
       " 'captain',\n",
       " 'captivate',\n",
       " 'captive',\n",
       " 'captor',\n",
       " 'capture',\n",
       " 'capulets',\n",
       " 'car',\n",
       " 'cara',\n",
       " 'carbon',\n",
       " 'card',\n",
       " 'care',\n",
       " 'career',\n",
       " 'careful',\n",
       " 'careless',\n",
       " 'carl',\n",
       " 'carlyle',\n",
       " 'carmindor',\n",
       " 'carol',\n",
       " 'carolina',\n",
       " 'carpenter',\n",
       " 'carrie',\n",
       " 'carroll',\n",
       " 'carry',\n",
       " 'carter',\n",
       " 'carthage',\n",
       " 'cartoonist',\n",
       " 'carving',\n",
       " 'case',\n",
       " 'casey',\n",
       " 'cash',\n",
       " 'casillas',\n",
       " 'cassidy',\n",
       " 'cassius',\n",
       " 'cast',\n",
       " 'castillo',\n",
       " 'castle',\n",
       " 'casua',\n",
       " 'casual',\n",
       " 'cat',\n",
       " 'cataclysm',\n",
       " 'catalogue',\n",
       " 'catalyze',\n",
       " 'catastrophe',\n",
       " 'catch',\n",
       " 'cathedral',\n",
       " 'catherine',\n",
       " 'catholic',\n",
       " 'caught',\n",
       " 'cause',\n",
       " 'cedar',\n",
       " 'celebrant',\n",
       " 'celebrate',\n",
       " 'celebrates',\n",
       " 'celebration',\n",
       " 'celebrity',\n",
       " 'celebs',\n",
       " 'celestial',\n",
       " 'cell',\n",
       " 'center',\n",
       " 'central',\n",
       " 'century',\n",
       " 'ceo',\n",
       " 'certain',\n",
       " 'certainly',\n",
       " 'certainty',\n",
       " 'certitude',\n",
       " 'ch',\n",
       " 'chadwick',\n",
       " 'chain',\n",
       " 'chainani',\n",
       " 'challenge',\n",
       " 'chamoiseau',\n",
       " 'champagne',\n",
       " 'champion',\n",
       " 'championship',\n",
       " 'champlain',\n",
       " 'chance',\n",
       " 'chancellorsville',\n",
       " 'change',\n",
       " 'channel',\n",
       " 'chaol',\n",
       " 'chaos',\n",
       " 'chapter',\n",
       " 'character',\n",
       " 'characteristic',\n",
       " 'characters',\n",
       " 'charge',\n",
       " 'charisma',\n",
       " 'charismatic',\n",
       " 'charles',\n",
       " 'charleston',\n",
       " 'charley',\n",
       " 'charlie',\n",
       " 'charlotte',\n",
       " 'charm',\n",
       " 'charmer',\n",
       " 'chart',\n",
       " 'chase',\n",
       " 'cheat',\n",
       " 'cheating',\n",
       " 'check',\n",
       " 'checkpoint',\n",
       " 'checkup',\n",
       " 'cheek',\n",
       " 'cheerful',\n",
       " 'cheerleader',\n",
       " 'cheese',\n",
       " 'chef',\n",
       " 'chelsea',\n",
       " 'chen',\n",
       " 'cheris',\n",
       " 'cherished',\n",
       " 'chernow',\n",
       " 'cherry',\n",
       " 'cheryl',\n",
       " 'chest',\n",
       " 'chestnut',\n",
       " 'chi',\n",
       " 'chiang',\n",
       " 'chianti',\n",
       " 'chicago',\n",
       " 'chick',\n",
       " 'chicken',\n",
       " 'chief',\n",
       " 'chilbury',\n",
       " 'child',\n",
       " 'childbirth',\n",
       " 'childhood',\n",
       " 'childlike',\n",
       " 'children',\n",
       " 'chill',\n",
       " 'china',\n",
       " 'chinese',\n",
       " 'chocolate',\n",
       " 'choice',\n",
       " 'choose',\n",
       " 'chooses',\n",
       " 'chorus',\n",
       " 'chosen',\n",
       " 'chris',\n",
       " 'chrisann',\n",
       " 'chrissy',\n",
       " 'christen',\n",
       " 'christmas',\n",
       " 'chronicle',\n",
       " 'chronicler',\n",
       " 'church',\n",
       " 'churchill',\n",
       " 'cia',\n",
       " 'cincinnati',\n",
       " 'cinder',\n",
       " 'cinderella',\n",
       " 'cinematic',\n",
       " 'circe',\n",
       " 'circle',\n",
       " 'circumstance',\n",
       " 'cit',\n",
       " 'city',\n",
       " 'civics',\n",
       " 'civil',\n",
       " 'civilian',\n",
       " 'civilization',\n",
       " 'ck',\n",
       " 'claim',\n",
       " 'clan',\n",
       " 'clare',\n",
       " 'clarity',\n",
       " 'clarke',\n",
       " 'clary',\n",
       " 'clash',\n",
       " 'class',\n",
       " 'classic',\n",
       " 'classmate',\n",
       " 'clay',\n",
       " 'clean',\n",
       " 'cleaning',\n",
       " 'cleanse',\n",
       " 'clear',\n",
       " 'clearwater',\n",
       " 'cleo',\n",
       " 'clerk',\n",
       " 'clever',\n",
       " 'client',\n",
       " 'cliff',\n",
       " 'climate',\n",
       " 'climax',\n",
       " 'clinch',\n",
       " 'clinic',\n",
       " 'clinton',\n",
       " 'cloister',\n",
       " 'clone',\n",
       " 'close',\n",
       " 'closer',\n",
       " 'closest',\n",
       " 'closet',\n",
       " 'clover',\n",
       " 'club',\n",
       " 'clue',\n",
       " 'clutch',\n",
       " 'clutter',\n",
       " 'cnn',\n",
       " 'coalition',\n",
       " 'coast',\n",
       " 'coastal',\n",
       " 'coaster',\n",
       " 'coat',\n",
       " 'coates',\n",
       " 'cobbler',\n",
       " 'coben',\n",
       " 'cocktail',\n",
       " 'cocoon',\n",
       " 'cocreator',\n",
       " 'code',\n",
       " 'coffee',\n",
       " 'cohen',\n",
       " 'coin',\n",
       " 'coincide',\n",
       " 'coincidence',\n",
       " 'cold',\n",
       " 'coldest',\n",
       " 'cole',\n",
       " 'colfer',\n",
       " 'collapse',\n",
       " 'colleague',\n",
       " 'collect',\n",
       " 'collection',\n",
       " 'collector',\n",
       " 'college',\n",
       " 'collins',\n",
       " 'colombia',\n",
       " 'colonel',\n",
       " 'colonial',\n",
       " 'colonization',\n",
       " 'colonize',\n",
       " 'colony',\n",
       " 'color',\n",
       " 'colorado',\n",
       " 'colorful',\n",
       " 'colossal',\n",
       " 'colour',\n",
       " 'colourful',\n",
       " 'columbia',\n",
       " 'columbine',\n",
       " 'com',\n",
       " 'coma',\n",
       " 'combat',\n",
       " ...]"
      ]
     },
     "execution_count": 232,
     "metadata": {},
     "output_type": "execute_result"
    }
   ],
   "source": [
    "cv.get_feature_names()"
   ]
  },
  {
   "cell_type": "code",
   "execution_count": 215,
   "metadata": {},
   "outputs": [
    {
     "data": {
      "text/plain": [
       "['aaron',\n",
       " 'ab',\n",
       " 'abandon',\n",
       " 'abandoned',\n",
       " 'abandonment',\n",
       " 'abandons',\n",
       " 'abby',\n",
       " 'abc',\n",
       " 'abducted',\n",
       " 'abilities',\n",
       " 'ability',\n",
       " 'able',\n",
       " 'aboard',\n",
       " 'abou',\n",
       " 'abraham',\n",
       " 'abroad',\n",
       " 'absconds',\n",
       " 'absence',\n",
       " 'absolutely',\n",
       " 'absurd',\n",
       " 'absurdities',\n",
       " 'absurdity',\n",
       " 'absurdly',\n",
       " 'abusers',\n",
       " 'academic',\n",
       " 'academies',\n",
       " 'academy',\n",
       " 'accelerated',\n",
       " 'accept',\n",
       " 'acceptance',\n",
       " 'accepted',\n",
       " 'access',\n",
       " 'accident',\n",
       " 'acclaimed',\n",
       " 'accolade',\n",
       " 'accompanied',\n",
       " 'accomplished',\n",
       " 'accord',\n",
       " 'according',\n",
       " 'account',\n",
       " 'accustomed',\n",
       " 'aced',\n",
       " 'acevedo',\n",
       " 'achieve',\n",
       " 'achievement',\n",
       " 'acknowledged',\n",
       " 'acne',\n",
       " 'acquire',\n",
       " 'act',\n",
       " 'action',\n",
       " 'actions',\n",
       " 'activism',\n",
       " 'activist',\n",
       " 'activists',\n",
       " 'actor',\n",
       " 'actors',\n",
       " 'actress',\n",
       " 'actually',\n",
       " 'acutely',\n",
       " 'ad',\n",
       " 'ada',\n",
       " 'adam',\n",
       " 'adams',\n",
       " 'adapt',\n",
       " 'adapted',\n",
       " 'adapts',\n",
       " 'add',\n",
       " 'addicted',\n",
       " 'addiction',\n",
       " 'addictive',\n",
       " 'address',\n",
       " 'addressing',\n",
       " 'adds',\n",
       " 'adhd',\n",
       " 'adjei',\n",
       " 'adjusting',\n",
       " 'administration',\n",
       " 'admiral',\n",
       " 'admired',\n",
       " 'admiring',\n",
       " 'admit',\n",
       " 'adolescence',\n",
       " 'adolescent',\n",
       " 'adorable',\n",
       " 'adrienne',\n",
       " 'adult',\n",
       " 'adulthood',\n",
       " 'adulting',\n",
       " 'adults',\n",
       " 'advance',\n",
       " 'advanced',\n",
       " 'advancements',\n",
       " 'adventure',\n",
       " 'adventurer',\n",
       " 'adventurers',\n",
       " 'adventures',\n",
       " 'adversity',\n",
       " 'advice',\n",
       " 'advise',\n",
       " 'advocate',\n",
       " 'aelin',\n",
       " 'aerospace',\n",
       " 'affair',\n",
       " 'affect',\n",
       " 'affected',\n",
       " 'affecting',\n",
       " 'affinity',\n",
       " 'affliction',\n",
       " 'afraid',\n",
       " 'africa',\n",
       " 'african',\n",
       " 'africans',\n",
       " 'afterlife',\n",
       " 'aftermath',\n",
       " 'agatha',\n",
       " 'age',\n",
       " 'aged',\n",
       " 'agency',\n",
       " 'agent',\n",
       " 'agents',\n",
       " 'ages',\n",
       " 'aggression',\n",
       " 'aging',\n",
       " 'ago',\n",
       " 'agreed',\n",
       " 'agreement',\n",
       " 'agrees',\n",
       " 'agriculture',\n",
       " 'ah',\n",
       " 'ahead',\n",
       " 'ai',\n",
       " 'aide',\n",
       " 'aiden',\n",
       " 'aim',\n",
       " 'aimee',\n",
       " 'aims',\n",
       " 'air',\n",
       " 'airplane',\n",
       " 'airport',\n",
       " 'ajayi',\n",
       " 'aka',\n",
       " 'akbar',\n",
       " 'akielos',\n",
       " 'akin',\n",
       " 'alabama',\n",
       " 'alarm',\n",
       " 'alaska',\n",
       " 'alaskan',\n",
       " 'albert',\n",
       " 'album',\n",
       " 'alcatraz',\n",
       " 'alcoholism',\n",
       " 'aldrin',\n",
       " 'alex',\n",
       " 'alexander',\n",
       " 'alexandra',\n",
       " 'alexis',\n",
       " 'algorithm',\n",
       " 'algorithms',\n",
       " 'alice',\n",
       " 'alicia',\n",
       " 'aliebn',\n",
       " 'alien',\n",
       " 'aliens',\n",
       " 'alike',\n",
       " 'aline',\n",
       " 'alisa',\n",
       " 'alive',\n",
       " 'allende',\n",
       " 'alliance',\n",
       " 'alliances',\n",
       " 'allie',\n",
       " 'alligator',\n",
       " 'allowed',\n",
       " 'allows',\n",
       " 'alluring',\n",
       " 'ally',\n",
       " 'alongside',\n",
       " 'aloud',\n",
       " 'alpha',\n",
       " 'alt',\n",
       " 'alter',\n",
       " 'alternate',\n",
       " 'alternative',\n",
       " 'alton',\n",
       " 'alveston',\n",
       " 'alyan',\n",
       " 'alyssa',\n",
       " 'amal',\n",
       " 'amanda',\n",
       " 'amara',\n",
       " 'amarantha',\n",
       " 'amazing',\n",
       " 'amazon',\n",
       " 'amber',\n",
       " 'ambiguous',\n",
       " 'ambition',\n",
       " 'ambitions',\n",
       " 'ambitious',\n",
       " 'ambitiously',\n",
       " 'ambled',\n",
       " 'ambrose',\n",
       " 'amendment',\n",
       " 'america',\n",
       " 'american',\n",
       " 'americanah',\n",
       " 'americans',\n",
       " 'amid',\n",
       " 'amidst',\n",
       " 'amina',\n",
       " 'amity',\n",
       " 'amos',\n",
       " 'amp',\n",
       " 'amusement',\n",
       " 'amusing',\n",
       " 'amy',\n",
       " 'analysis',\n",
       " 'analyst',\n",
       " 'ancestral',\n",
       " 'ancestry',\n",
       " 'ancient',\n",
       " 'anders',\n",
       " 'andersen',\n",
       " 'anderson',\n",
       " 'andie',\n",
       " 'andrew',\n",
       " 'android',\n",
       " 'androids',\n",
       " 'anecdotal',\n",
       " 'anecdotes',\n",
       " 'angel',\n",
       " 'angela',\n",
       " 'angeles',\n",
       " 'anger',\n",
       " 'angie',\n",
       " 'anglers',\n",
       " 'angry',\n",
       " 'anguished',\n",
       " 'animal',\n",
       " 'animals',\n",
       " 'animation',\n",
       " 'ann',\n",
       " 'anna',\n",
       " 'annabelle',\n",
       " 'anne',\n",
       " 'anner',\n",
       " 'anniversary',\n",
       " 'announced',\n",
       " 'announcement',\n",
       " 'answer',\n",
       " 'answers',\n",
       " 'anthology',\n",
       " 'anthony',\n",
       " 'anthropologist',\n",
       " 'anticipated',\n",
       " 'antonine',\n",
       " 'antonio',\n",
       " 'anxiety',\n",
       " 'anxious',\n",
       " 'anymore',\n",
       " 'anythi',\n",
       " 'apart',\n",
       " 'apartheid',\n",
       " 'apartments',\n",
       " 'apocalypse',\n",
       " 'apollo',\n",
       " 'app',\n",
       " 'appalachia',\n",
       " 'appalachian',\n",
       " 'apparent',\n",
       " 'apparently',\n",
       " 'appears',\n",
       " 'appetites',\n",
       " 'applied',\n",
       " 'appoint',\n",
       " 'appreciates',\n",
       " 'apprenticed',\n",
       " 'approach',\n",
       " 'approaches',\n",
       " 'approved',\n",
       " 'apricot',\n",
       " 'april',\n",
       " 'arab',\n",
       " 'arabia',\n",
       " 'arabic',\n",
       " 'arbit',\n",
       " 'arc',\n",
       " 'archeological',\n",
       " 'archery',\n",
       " 'archive',\n",
       " 'areas',\n",
       " 'aren',\n",
       " 'arena',\n",
       " 'arguably',\n",
       " 'argues',\n",
       " 'arid',\n",
       " 'aristocratic',\n",
       " 'arizona',\n",
       " 'ark',\n",
       " 'armed',\n",
       " 'arms',\n",
       " 'armstrong',\n",
       " 'army',\n",
       " 'arnold',\n",
       " 'aron',\n",
       " 'arrested',\n",
       " 'arrival',\n",
       " 'arrive',\n",
       " 'arrived',\n",
       " 'arrives',\n",
       " 'arrogant',\n",
       " 'art',\n",
       " 'artemisia',\n",
       " 'arthur',\n",
       " 'artificial',\n",
       " 'artist',\n",
       " 'artistic',\n",
       " 'artists',\n",
       " 'arts',\n",
       " 'aru',\n",
       " 'asami',\n",
       " 'asexual',\n",
       " 'asia',\n",
       " 'asians',\n",
       " 'aside',\n",
       " 'asin',\n",
       " 'ask',\n",
       " 'asked',\n",
       " 'asking',\n",
       " 'asks',\n",
       " 'aspiring',\n",
       " 'assailant',\n",
       " 'assailed',\n",
       " 'assassin',\n",
       " 'assassinate',\n",
       " 'assassination',\n",
       " 'assault',\n",
       " 'assets',\n",
       " 'assignment',\n",
       " 'associate',\n",
       " 'assumes',\n",
       " 'assumptions',\n",
       " 'assured',\n",
       " 'assures',\n",
       " 'astonishing',\n",
       " 'astonishingly',\n",
       " 'astounded',\n",
       " 'astounding',\n",
       " 'astronaut',\n",
       " 'astronauts',\n",
       " 'astronomy',\n",
       " 'astrophysicist',\n",
       " 'athletes',\n",
       " 'atlantic',\n",
       " 'atmospheric',\n",
       " 'atrocity',\n",
       " 'attack',\n",
       " 'attacks',\n",
       " 'attempt',\n",
       " 'attempts',\n",
       " 'attenborough',\n",
       " 'attend',\n",
       " 'attica',\n",
       " 'atticus',\n",
       " 'attractive',\n",
       " 'atul',\n",
       " 'auction',\n",
       " 'audacious',\n",
       " 'audacity',\n",
       " 'audience',\n",
       " 'audiences',\n",
       " 'audio',\n",
       " 'auggie',\n",
       " 'augmented',\n",
       " 'august',\n",
       " 'augustus',\n",
       " 'aura',\n",
       " 'aurora',\n",
       " 'auschwitz',\n",
       " 'austen',\n",
       " 'auster',\n",
       " 'austere',\n",
       " 'austin',\n",
       " 'author',\n",
       " 'authoritarianism',\n",
       " 'authority',\n",
       " 'authors',\n",
       " 'autism',\n",
       " 'autistic',\n",
       " 'autobiographical',\n",
       " 'autocracy',\n",
       " 'autumn',\n",
       " 'avenged',\n",
       " 'avenger',\n",
       " 'avenue',\n",
       " 'average',\n",
       " 'avert',\n",
       " 'avery',\n",
       " 'aviator',\n",
       " 'avidity',\n",
       " 'avocados',\n",
       " 'avoid',\n",
       " 'avoiding',\n",
       " 'await',\n",
       " 'awaited',\n",
       " 'awaits',\n",
       " 'awake',\n",
       " 'awaken',\n",
       " 'awakens',\n",
       " 'awakes',\n",
       " 'award',\n",
       " 'awards',\n",
       " 'away',\n",
       " 'awe',\n",
       " 'awesomelyluvvie',\n",
       " 'awful',\n",
       " 'awkward',\n",
       " 'awoke',\n",
       " 'aydin',\n",
       " 'aza',\n",
       " 'ba',\n",
       " 'babe',\n",
       " 'baby',\n",
       " 'backdrop',\n",
       " 'backed',\n",
       " 'background',\n",
       " 'backgrounds',\n",
       " 'backlash',\n",
       " 'backpacks',\n",
       " 'backstairs',\n",
       " 'backyard',\n",
       " 'bad',\n",
       " 'baker',\n",
       " 'baking',\n",
       " 'balance',\n",
       " 'baldwin',\n",
       " 'ball',\n",
       " 'baltimore',\n",
       " 'band',\n",
       " 'bandmates',\n",
       " 'banished',\n",
       " 'bankers',\n",
       " 'bannon',\n",
       " 'banyan',\n",
       " 'bao',\n",
       " 'bar',\n",
       " 'barack',\n",
       " 'barbados',\n",
       " 'barbalien',\n",
       " 'barbs',\n",
       " 'bard',\n",
       " 'bardo',\n",
       " 'bare',\n",
       " 'barely',\n",
       " 'bargain',\n",
       " 'barnett',\n",
       " 'baron',\n",
       " 'barrack',\n",
       " 'barreled',\n",
       " 'barren',\n",
       " 'barrier',\n",
       " 'barrow',\n",
       " 'barry',\n",
       " 'baseball',\n",
       " 'based',\n",
       " 'bases',\n",
       " 'bashara',\n",
       " 'basic',\n",
       " 'basketball',\n",
       " 'bastille',\n",
       " 'bath',\n",
       " 'batman',\n",
       " 'battle',\n",
       " 'battlefields',\n",
       " 'battling',\n",
       " 'bawdiness',\n",
       " 'bawse',\n",
       " 'bay',\n",
       " 'beach',\n",
       " 'beaches',\n",
       " 'bear',\n",
       " 'beard',\n",
       " 'bearded',\n",
       " 'bearing',\n",
       " 'bears',\n",
       " 'beartown',\n",
       " 'beast',\n",
       " 'beasts',\n",
       " 'beat',\n",
       " 'beautiful',\n",
       " 'beautifully',\n",
       " 'beauty',\n",
       " 'beauvoir',\n",
       " 'bec',\n",
       " 'bed',\n",
       " 'bedroom',\n",
       " 'bedside',\n",
       " 'bedtime',\n",
       " 'beekle',\n",
       " 'beethoven',\n",
       " 'befits',\n",
       " 'befriended',\n",
       " 'befriending',\n",
       " 'began',\n",
       " 'begin',\n",
       " 'beginners',\n",
       " 'beginning',\n",
       " 'begins',\n",
       " 'beguiling',\n",
       " 'begun',\n",
       " 'behavior',\n",
       " 'behavioral',\n",
       " 'beings',\n",
       " 'beirut',\n",
       " 'bel',\n",
       " 'belief',\n",
       " 'beliefs',\n",
       " 'believe',\n",
       " 'believed',\n",
       " 'believes',\n",
       " 'believing',\n",
       " 'belittled',\n",
       " 'bell',\n",
       " 'bella',\n",
       " 'belle',\n",
       " 'belly',\n",
       " 'belong',\n",
       " 'belonging',\n",
       " 'beloved',\n",
       " 'belpre',\n",
       " 'belters',\n",
       " 'ben',\n",
       " 'bend',\n",
       " 'bender',\n",
       " 'bending',\n",
       " 'beneath',\n",
       " 'benedict',\n",
       " 'beneficial',\n",
       " 'benefits',\n",
       " 'benjamin',\n",
       " 'benn',\n",
       " 'bennet',\n",
       " 'bennett',\n",
       " 'bequeathing',\n",
       " 'bermuda',\n",
       " 'bernadette',\n",
       " 'bernard',\n",
       " 'berne',\n",
       " 'berries',\n",
       " 'beset',\n",
       " 'besmirched',\n",
       " 'best',\n",
       " 'besteller',\n",
       " 'bestseller',\n",
       " 'bestsellers',\n",
       " 'bestselling',\n",
       " 'bet',\n",
       " 'beth',\n",
       " 'betrayal',\n",
       " 'betrayed',\n",
       " 'better',\n",
       " 'betty',\n",
       " 'bev',\n",
       " 'beverly',\n",
       " 'bewildered',\n",
       " 'bff',\n",
       " 'bianchi',\n",
       " 'bible',\n",
       " 'biden',\n",
       " 'big',\n",
       " 'bigger',\n",
       " 'biggest',\n",
       " 'bike',\n",
       " 'bilbao',\n",
       " 'billion',\n",
       " 'billionaire',\n",
       " 'billionaires',\n",
       " 'billions',\n",
       " 'billy',\n",
       " 'bind',\n",
       " 'binge',\n",
       " 'bingo',\n",
       " 'binti',\n",
       " 'bioengineered',\n",
       " 'biographer',\n",
       " 'biography',\n",
       " 'biology',\n",
       " 'biotech',\n",
       " 'bipolar',\n",
       " 'bird',\n",
       " 'birds',\n",
       " 'birkenau',\n",
       " 'birth',\n",
       " 'birthdays',\n",
       " 'birthplace',\n",
       " 'birthright',\n",
       " 'bisexual',\n",
       " 'bishop',\n",
       " 'bit',\n",
       " 'bitch',\n",
       " 'bitches',\n",
       " 'biting',\n",
       " 'bitter',\n",
       " 'bizarre',\n",
       " 'black',\n",
       " 'blackberry',\n",
       " 'blackheath',\n",
       " 'blacklock',\n",
       " 'blackouts',\n",
       " 'blake',\n",
       " 'blamed',\n",
       " 'blankets',\n",
       " 'blasts',\n",
       " 'bleakness',\n",
       " 'bleeding',\n",
       " 'blending',\n",
       " 'blends',\n",
       " 'blessing',\n",
       " 'blighted',\n",
       " 'blind',\n",
       " 'bliss',\n",
       " 'blistering',\n",
       " 'blitz',\n",
       " 'blitzkrieg',\n",
       " 'blockbuster',\n",
       " 'blockquote',\n",
       " 'blog',\n",
       " 'blogger',\n",
       " 'blood',\n",
       " 'bloodiest',\n",
       " 'blossom',\n",
       " 'blowing',\n",
       " 'blown',\n",
       " 'blue',\n",
       " 'blues',\n",
       " 'bluffin',\n",
       " 'blunt',\n",
       " 'blurs',\n",
       " 'blush',\n",
       " 'bo',\n",
       " 'board',\n",
       " 'boasted',\n",
       " 'boat',\n",
       " 'bob',\n",
       " 'bobby',\n",
       " 'bodies',\n",
       " 'body',\n",
       " 'bodyguard',\n",
       " 'boer',\n",
       " 'boiling',\n",
       " 'bold',\n",
       " 'boldest',\n",
       " 'bolt',\n",
       " 'bomb',\n",
       " 'bombay',\n",
       " 'bombing',\n",
       " 'bond',\n",
       " 'bonded',\n",
       " 'bone',\n",
       " 'bones',\n",
       " 'booby',\n",
       " 'book',\n",
       " 'booker',\n",
       " 'bookfrogs',\n",
       " 'bookish',\n",
       " 'books',\n",
       " 'bookshop',\n",
       " 'bookstore',\n",
       " 'boom',\n",
       " 'boone',\n",
       " 'border',\n",
       " 'borders',\n",
       " 'bored',\n",
       " 'boring',\n",
       " 'borman',\n",
       " 'born',\n",
       " 'borne',\n",
       " 'bosons',\n",
       " 'boss',\n",
       " 'boston',\n",
       " 'botany',\n",
       " 'bought',\n",
       " 'bound',\n",
       " 'boundaries',\n",
       " 'boundary',\n",
       " 'boundless',\n",
       " 'bounds',\n",
       " 'bourdain',\n",
       " 'bout',\n",
       " 'bowen',\n",
       " 'bowl',\n",
       " 'bowties',\n",
       " 'box',\n",
       " 'boxing',\n",
       " 'boy',\n",
       " 'boyd',\n",
       " 'boyfriend',\n",
       " 'boys',\n",
       " 'br',\n",
       " 'bracingly',\n",
       " 'brad',\n",
       " 'bradford',\n",
       " 'brain',\n",
       " 'brainy',\n",
       " 'bram',\n",
       " 'branch',\n",
       " 'brand',\n",
       " 'brandon',\n",
       " 'brands',\n",
       " 'brash',\n",
       " 'brats',\n",
       " 'brave',\n",
       " 'braves',\n",
       " 'bread',\n",
       " 'breadth',\n",
       " 'break',\n",
       " 'breakdown',\n",
       " 'breakfast',\n",
       " 'breaking',\n",
       " 'breakout',\n",
       " 'breaks',\n",
       " 'breath',\n",
       " 'breathed',\n",
       " 'breathes',\n",
       " 'breathtaking',\n",
       " 'breathtakingly',\n",
       " 'brennan',\n",
       " 'brent',\n",
       " 'brenyah',\n",
       " 'brian',\n",
       " 'bride',\n",
       " 'brien',\n",
       " 'briggs',\n",
       " 'bright',\n",
       " 'brighter',\n",
       " 'brilliance',\n",
       " 'brilliant',\n",
       " 'brilliantly',\n",
       " 'brimming',\n",
       " 'bring',\n",
       " 'bringing',\n",
       " 'brings',\n",
       " 'brink',\n",
       " 'brit',\n",
       " 'britain',\n",
       " 'british',\n",
       " 'broad',\n",
       " 'broadcast',\n",
       " 'broadcasting',\n",
       " 'broadway',\n",
       " 'brogrammers',\n",
       " 'broke',\n",
       " 'broken',\n",
       " 'brokers',\n",
       " 'bromance',\n",
       " 'brood',\n",
       " 'brooke',\n",
       " 'brooklyn',\n",
       " 'brosh',\n",
       " 'brother',\n",
       " 'brotherhood',\n",
       " 'brothers',\n",
       " 'brought',\n",
       " 'brown',\n",
       " 'brownstone',\n",
       " 'bruce',\n",
       " 'brush',\n",
       " 'brutal',\n",
       " 'brutality',\n",
       " 'brutally',\n",
       " 'bubbly',\n",
       " 'budapest',\n",
       " 'budgeting',\n",
       " 'buffets',\n",
       " 'building',\n",
       " 'builds',\n",
       " 'built',\n",
       " 'bullets',\n",
       " 'bullies',\n",
       " 'bullying',\n",
       " 'bump',\n",
       " 'burgeoning',\n",
       " 'burger',\n",
       " 'burgers',\n",
       " 'burgess',\n",
       " 'burglars',\n",
       " 'buried',\n",
       " 'burke',\n",
       " 'burned',\n",
       " 'burns',\n",
       " 'burst',\n",
       " 'bursts',\n",
       " 'bus',\n",
       " 'business',\n",
       " 'bustle',\n",
       " 'busy',\n",
       " 'butchery',\n",
       " 'butterflies',\n",
       " 'butterfly',\n",
       " 'buy',\n",
       " 'buzz',\n",
       " 'buzzfeed',\n",
       " 'ca',\n",
       " 'cabinets',\n",
       " 'cabins',\n",
       " 'cadence',\n",
       " 'cadences',\n",
       " 'caesar',\n",
       " 'caine',\n",
       " 'cake',\n",
       " 'calculating',\n",
       " 'caldecott',\n",
       " 'california',\n",
       " 'californian',\n",
       " 'calla',\n",
       " 'callahan',\n",
       " 'called',\n",
       " 'calling',\n",
       " 'callow',\n",
       " 'calls',\n",
       " 'calm',\n",
       " 'calories',\n",
       " 'cambridge',\n",
       " 'came',\n",
       " 'camelot',\n",
       " 'cameroonian',\n",
       " 'camille',\n",
       " 'camp',\n",
       " 'campaign',\n",
       " 'campbell',\n",
       " 'campus',\n",
       " 'canada',\n",
       " 'canadian',\n",
       " 'canal',\n",
       " 'cancer',\n",
       " 'candid',\n",
       " 'candor',\n",
       " 'canner',\n",
       " 'canon',\n",
       " 'capital',\n",
       " 'capitol',\n",
       " 'capote',\n",
       " 'captain',\n",
       " 'captivated',\n",
       " 'captivating',\n",
       " 'captive',\n",
       " 'captors',\n",
       " 'captured',\n",
       " 'captures',\n",
       " 'capturing',\n",
       " 'capulets',\n",
       " 'car',\n",
       " 'cara',\n",
       " 'carbon',\n",
       " 'card',\n",
       " 'care',\n",
       " 'career',\n",
       " 'careful',\n",
       " 'careless',\n",
       " 'cares',\n",
       " 'carl',\n",
       " 'carlyle',\n",
       " 'carmindor',\n",
       " 'carol',\n",
       " 'carolina',\n",
       " 'carpenter',\n",
       " 'carrie',\n",
       " 'carroll',\n",
       " 'carry',\n",
       " 'cars',\n",
       " 'carter',\n",
       " 'carthage',\n",
       " 'cartoonist',\n",
       " 'carvings',\n",
       " 'case',\n",
       " 'casey',\n",
       " 'cash',\n",
       " 'casillas',\n",
       " 'cass',\n",
       " 'cassidy',\n",
       " 'cassius',\n",
       " 'cast',\n",
       " 'castillo',\n",
       " 'casting',\n",
       " 'castle',\n",
       " 'castles',\n",
       " 'casts',\n",
       " 'casua',\n",
       " 'casual',\n",
       " 'cat',\n",
       " 'cataclysm',\n",
       " 'catalogue',\n",
       " 'catalyzed',\n",
       " 'catastrophe',\n",
       " 'catch',\n",
       " 'cathedral',\n",
       " 'catherine',\n",
       " 'catholics',\n",
       " 'cats',\n",
       " 'caught',\n",
       " 'cause',\n",
       " 'caused',\n",
       " 'causing',\n",
       " 'cedar',\n",
       " 'celebrant',\n",
       " 'celebrated',\n",
       " 'celebrates',\n",
       " 'celebrating',\n",
       " 'celebration',\n",
       " 'celebrity',\n",
       " 'celebs',\n",
       " 'celestial',\n",
       " 'cell',\n",
       " 'center',\n",
       " 'central',\n",
       " 'centuries',\n",
       " 'century',\n",
       " 'ceo',\n",
       " 'certain',\n",
       " 'certainly',\n",
       " 'certainty',\n",
       " 'certitude',\n",
       " 'ch',\n",
       " 'chadwick',\n",
       " 'chain',\n",
       " 'chainani',\n",
       " 'chains',\n",
       " 'challenge',\n",
       " 'challenges',\n",
       " 'challenging',\n",
       " 'chamoiseau',\n",
       " 'champagne',\n",
       " 'champion',\n",
       " 'championing',\n",
       " 'champions',\n",
       " 'championships',\n",
       " 'champlain',\n",
       " 'chance',\n",
       " 'chancellorsville',\n",
       " 'change',\n",
       " 'changed',\n",
       " 'changes',\n",
       " 'changing',\n",
       " 'channel',\n",
       " 'chaol',\n",
       " 'chaos',\n",
       " 'chapter',\n",
       " 'chapters',\n",
       " 'character',\n",
       " 'characteristic',\n",
       " 'characters',\n",
       " 'charge',\n",
       " 'charged',\n",
       " 'charisma',\n",
       " 'charismatic',\n",
       " 'charles',\n",
       " 'charleston',\n",
       " 'charley',\n",
       " 'charlie',\n",
       " 'charlotte',\n",
       " 'charm',\n",
       " 'charmed',\n",
       " 'charmer',\n",
       " 'charming',\n",
       " 'charts',\n",
       " 'chase',\n",
       " 'chased',\n",
       " 'cheating',\n",
       " 'check',\n",
       " 'checkpoints',\n",
       " 'checkup',\n",
       " 'cheek',\n",
       " 'cheerful',\n",
       " 'cheerleaders',\n",
       " 'cheese',\n",
       " 'chef',\n",
       " 'chelsea',\n",
       " 'chen',\n",
       " 'cheris',\n",
       " 'cherished',\n",
       " 'chernow',\n",
       " 'cherry',\n",
       " 'cheryl',\n",
       " 'chest',\n",
       " 'chestnut',\n",
       " 'chi',\n",
       " 'chiang',\n",
       " 'chianti',\n",
       " 'chicago',\n",
       " 'chicken',\n",
       " 'chickens',\n",
       " 'chicks',\n",
       " 'chief',\n",
       " 'chiefs',\n",
       " 'chilbury',\n",
       " 'child',\n",
       " 'childbirth',\n",
       " 'childhood',\n",
       " 'childlike',\n",
       " 'children',\n",
       " ...]"
      ]
     },
     "execution_count": 215,
     "metadata": {},
     "output_type": "execute_result"
    }
   ],
   "source": [
    "# feature names before lemmas\n",
    "cv.get_feature_names()"
   ]
  },
  {
   "cell_type": "markdown",
   "metadata": {},
   "source": [
    "## Stop words"
   ]
  },
  {
   "cell_type": "code",
   "execution_count": 158,
   "metadata": {},
   "outputs": [],
   "source": [
    "# this base of stop words is a frozen set\n",
    "# text.ENGLISH_STOP_WORDS\n"
   ]
  },
  {
   "cell_type": "markdown",
   "metadata": {},
   "source": [
    "# testing out a sentence to vectorize"
   ]
  },
  {
   "cell_type": "code",
   "execution_count": 33,
   "metadata": {},
   "outputs": [
    {
     "data": {
      "text/plain": [
       "array(['An exquisite memoir about how to live--and love--every day with \"death in the room,\" from poet Nina Riggs, mother of two young sons and the direct descendant of Ralph Waldo Emerson, in the tradition of ',\n",
       "       \"The Vision wants to be human, and what's more human than family? So he heads back to the beginning, to the laboratory where Ultron created him and molded him into a weapon. The place where he first rebelled against his given destiny and imagined that he could be more -that he could be a man. There, he builds them. A wife, Virginia. Two teenage twins, Viv and Vin. They look\",\n",
       "       ' \"An intelligent explanation of the mechanisms that produced the crisis and the response to it...One of the great strengths of Tooze\\'s book is to demonstrate the deeply intertwined nature of the European and American financial systems.\"   --The New York Times Book Review       From a prizewinning economic historian, an eye-opening reinterpretation of the   economic crisis ( ',\n",
       "       ' In the next installment of the  New York Times  bestselling  Throne of Glass series , follow Chaol on his sweeping journey to a distant empire. ',\n",
       "       'In  , eighteen-year old Juliet Armstrong is reluctantly recruited into the world of espionage. Sent to an obscure department of MI  tasked with monitoring the comings and goings of British Fascist sympathizers, she discovers the work to be by turns both tedious and terrifying. But after the war has ended, she presumes the events of those years have been relegated to the'],\n",
       "      dtype='<U387')"
      ]
     },
     "execution_count": 33,
     "metadata": {},
     "output_type": "execute_result"
    }
   ],
   "source": [
    "X_train[0:5]"
   ]
  },
  {
   "cell_type": "code",
   "execution_count": 34,
   "metadata": {
    "scrolled": true
   },
   "outputs": [
    {
     "data": {
      "text/plain": [
       "numpy.str_"
      ]
     },
     "execution_count": 34,
     "metadata": {},
     "output_type": "execute_result"
    }
   ],
   "source": [
    "type(X_train[2])"
   ]
  },
  {
   "cell_type": "code",
   "execution_count": 35,
   "metadata": {},
   "outputs": [
    {
     "data": {
      "text/plain": [
       "' \"An intelligent explanation of the mechanisms that produced the crisis and the response to it...One of the great strengths of Tooze\\'s book is to demonstrate the deeply intertwined nature of the European and American financial systems.\"   --The New York Times Book Review       From a prizewinning economic historian, an eye-opening reinterpretation of the   economic crisis ( '"
      ]
     },
     "execution_count": 35,
     "metadata": {},
     "output_type": "execute_result"
    }
   ],
   "source": [
    "X_train[2]"
   ]
  },
  {
   "cell_type": "code",
   "execution_count": 233,
   "metadata": {},
   "outputs": [
    {
     "data": {
      "text/plain": [
       "\"an intelligent explanation of the mechanism that produce the crisis and the response to it one of the great strength of tooze's book be to demonstrate the deeply intertwine nature of the european and american financial system the new york time book review from a prizewinning economic historian an eye opening reinterpretation of the economic crisis\""
      ]
     },
     "execution_count": 233,
     "metadata": {},
     "output_type": "execute_result"
    }
   ],
   "source": [
    "X_train[2]"
   ]
  },
  {
   "cell_type": "code",
   "execution_count": 179,
   "metadata": {},
   "outputs": [
    {
     "data": {
      "text/plain": [
       "'an exquisite memoir about how to live and love every day with  death in the room   from poet nina riggs  mother of two young sons and the direct descendant of ralph waldo emerson  in the tradition of '"
      ]
     },
     "execution_count": 179,
     "metadata": {},
     "output_type": "execute_result"
    }
   ],
   "source": [
    "X_train[0]"
   ]
  },
  {
   "cell_type": "code",
   "execution_count": 205,
   "metadata": {},
   "outputs": [
    {
     "data": {
      "text/plain": [
       "'an exquisite memoir about how to live and love every day with death in the room from poet nina riggs mother of two young son and the direct descendant of ralph waldo emerson in the tradition of'"
      ]
     },
     "execution_count": 205,
     "metadata": {},
     "output_type": "execute_result"
    }
   ],
   "source": [
    "# this doesn't work... need to process charaters before\n",
    "lemmtize_it(X_train[0])"
   ]
  },
  {
   "cell_type": "code",
   "execution_count": 37,
   "metadata": {},
   "outputs": [
    {
     "data": {
      "text/plain": [
       "<function re.sub(pattern, repl, string, count=0, flags=0)>"
      ]
     },
     "execution_count": 37,
     "metadata": {},
     "output_type": "execute_result"
    }
   ],
   "source": [
    "re.sub\n",
    "# X_train[0].replace('.')"
   ]
  },
  {
   "cell_type": "code",
   "execution_count": 146,
   "metadata": {},
   "outputs": [],
   "source": [
    "def no_punc(text):\n",
    "    return re.sub('\\.|--|\\(|\\)|\\\"|,', ' ', text)\n",
    "\n",
    "def no_upper(text):\n",
    "    return text.lower()"
   ]
  },
  {
   "cell_type": "code",
   "execution_count": 148,
   "metadata": {},
   "outputs": [
    {
     "data": {
      "text/plain": [
       "\"  an intelligent explanation of the mechanisms that produced the crisis and the response to it   one of the great strengths of tooze's book is to demonstrate the deeply intertwined nature of the european and american financial systems      the new york times book review       from a prizewinning economic historian  an eye-opening reinterpretation of the   economic crisis   \""
      ]
     },
     "execution_count": 148,
     "metadata": {},
     "output_type": "execute_result"
    }
   ],
   "source": [
    "no_punc(no_upper(X_train[2]))"
   ]
  },
  {
   "cell_type": "markdown",
   "metadata": {},
   "source": [
    "## testing lemmas and POS"
   ]
  },
  {
   "cell_type": "code",
   "execution_count": 113,
   "metadata": {},
   "outputs": [
    {
     "data": {
      "text/plain": [
       "'accessibility'"
      ]
     },
     "execution_count": 113,
     "metadata": {},
     "output_type": "execute_result"
    }
   ],
   "source": [
    "# accompanied\n",
    "lemmatizer.lemmatize('accessibility', wordnet.ADJ)"
   ]
  },
  {
   "cell_type": "code",
   "execution_count": 65,
   "metadata": {},
   "outputs": [],
   "source": [
    "from nltk.corpus import wordnet as wn"
   ]
  },
  {
   "cell_type": "code",
   "execution_count": 112,
   "metadata": {},
   "outputs": [
    {
     "name": "stdout",
     "output_type": "stream",
     "text": [
      "None\n"
     ]
    }
   ],
   "source": [
    "\n",
    "print(wordnet.morphy(\"accessibility\",wordnet.ADJ))"
   ]
  },
  {
   "cell_type": "code",
   "execution_count": 114,
   "metadata": {},
   "outputs": [
    {
     "name": "stdout",
     "output_type": "stream",
     "text": [
      "[]\n",
      "[]\n"
     ]
    }
   ],
   "source": [
    "for ss in wn.synsets('accessibility'):\n",
    "    print(ss.lemmas()[0].pertainyms())\n",
    "    thingy = ss.lemmas()[0].pertainyms()"
   ]
  },
  {
   "cell_type": "code",
   "execution_count": 115,
   "metadata": {},
   "outputs": [
    {
     "data": {
      "text/plain": [
       "[]"
      ]
     },
     "execution_count": 115,
     "metadata": {},
     "output_type": "execute_result"
    }
   ],
   "source": [
    "\n",
    "thingy"
   ]
  },
  {
   "cell_type": "code",
   "execution_count": 117,
   "metadata": {},
   "outputs": [
    {
     "name": "stdout",
     "output_type": "stream",
     "text": [
      "Synset('handiness.n.02')\n",
      "[Lemma('handiness.n.02.handiness'), Lemma('handiness.n.02.accessibility'), Lemma('handiness.n.02.availability'), Lemma('handiness.n.02.availableness')]\n",
      "Synset('approachability.n.01')\n",
      "[Lemma('approachability.n.01.approachability'), Lemma('approachability.n.01.accessibility')]\n"
     ]
    }
   ],
   "source": [
    "for ss in wn.synsets('accessibility'):\n",
    "    print(ss)#[0].pertainyms())\n",
    "#     thingy = ss.lemmas()[0].pertainyms()\n",
    "    print(ss.lemmas())\n",
    "    thingq = ss.lemmas()[1]"
   ]
  },
  {
   "cell_type": "code",
   "execution_count": 118,
   "metadata": {},
   "outputs": [
    {
     "data": {
      "text/plain": [
       "Lemma('approachability.n.01.accessibility')"
      ]
     },
     "execution_count": 118,
     "metadata": {},
     "output_type": "execute_result"
    }
   ],
   "source": [
    "thingq"
   ]
  },
  {
   "cell_type": "code",
   "execution_count": 110,
   "metadata": {},
   "outputs": [
    {
     "data": {
      "text/plain": [
       "[Lemma('approachability.n.01.approachability'),\n",
       " Lemma('approachability.n.01.accessibility')]"
      ]
     },
     "execution_count": 110,
     "metadata": {},
     "output_type": "execute_result"
    }
   ],
   "source": [
    "ss.lemmas()"
   ]
  },
  {
   "cell_type": "code",
   "execution_count": 154,
   "metadata": {},
   "outputs": [
    {
     "data": {
      "text/plain": [
       "'accessible'"
      ]
     },
     "execution_count": 154,
     "metadata": {},
     "output_type": "execute_result"
    }
   ],
   "source": [
    "wn.lemmas('accessibility')[0].derivationally_related_forms()[0].name()"
   ]
  },
  {
   "cell_type": "markdown",
   "metadata": {},
   "source": [
    "## to dos"
   ]
  },
  {
   "cell_type": "markdown",
   "metadata": {},
   "source": [
    "#### review endings of Adverbs\n",
    "- ly\n",
    "\n",
    "visualize counts and train dataframe\n",
    "put processing in .py file"
   ]
  },
  {
   "cell_type": "code",
   "execution_count": null,
   "metadata": {},
   "outputs": [],
   "source": []
  }
 ],
 "metadata": {
  "kernelspec": {
   "display_name": "Python 3",
   "language": "python",
   "name": "python3"
  },
  "language_info": {
   "codemirror_mode": {
    "name": "ipython",
    "version": 3
   },
   "file_extension": ".py",
   "mimetype": "text/x-python",
   "name": "python",
   "nbconvert_exporter": "python",
   "pygments_lexer": "ipython3",
   "version": "3.7.1"
  }
 },
 "nbformat": 4,
 "nbformat_minor": 2
}
