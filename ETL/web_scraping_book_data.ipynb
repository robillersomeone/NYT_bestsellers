{
 "cells": [
  {
   "cell_type": "markdown",
   "metadata": {},
   "source": [
    "# Good Reads Books Dataframe"
   ]
  },
  {
   "cell_type": "markdown",
   "metadata": {},
   "source": [
    "this notebook prototypes web scraping goodreads for 2016, 2017, and 2018\n",
    "\n",
    "updated functions are in `get_data.py`"
   ]
  },
  {
   "cell_type": "code",
   "execution_count": 1,
   "metadata": {},
   "outputs": [],
   "source": [
    "from bs4 import BeautifulSoup as bs\n",
    "import urllib.request\n",
    "import requests\n",
    "import re\n",
    "import time\n",
    "import pandas as pd"
   ]
  },
  {
   "cell_type": "code",
   "execution_count": 2,
   "metadata": {},
   "outputs": [],
   "source": [
    "url_2018 = 'https://www.goodreads.com/list/show/129936.NYT_100_Notable_Books_of_2018'\n",
    "r = urllib.request.urlopen(url_2018)\n",
    "\n",
    "soup = bs(r, 'html.parser')"
   ]
  },
  {
   "cell_type": "code",
   "execution_count": 96,
   "metadata": {},
   "outputs": [],
   "source": [
    "url_2017 = 'https://www.goodreads.com/list/show/117971.100_Notable_Books_of_2017_The_New_York_Times_'\n",
    "r2017 = urllib.request.urlopen(url_2017)\n",
    "\n",
    "soup2017 = bs(r2017, 'html.parser')"
   ]
  },
  {
   "cell_type": "code",
   "execution_count": 100,
   "metadata": {},
   "outputs": [],
   "source": [
    "url_2016 = 'https://www.goodreads.com/list/show/105933.New_York_Times_100_Notable_Books_of_2016'\n",
    "r2016 = urllib.request.urlopen(url_2016)\n",
    "\n",
    "soup2016 = bs(r2016, 'html.parser')"
   ]
  },
  {
   "cell_type": "code",
   "execution_count": 97,
   "metadata": {},
   "outputs": [],
   "source": [
    "s2017 = soup2017.find_all('div', {\"data-resource-type\":\"Book\"})"
   ]
  },
  {
   "cell_type": "code",
   "execution_count": 99,
   "metadata": {},
   "outputs": [
    {
     "data": {
      "text/plain": [
       "'/book/show/29496076-killers-of-the-flower-moon'"
      ]
     },
     "execution_count": 99,
     "metadata": {},
     "output_type": "execute_result"
    }
   ],
   "source": [
    "s2017[0].a['href']"
   ]
  },
  {
   "cell_type": "code",
   "execution_count": 104,
   "metadata": {},
   "outputs": [
    {
     "data": {
      "text/plain": [
       "'/book/show/35657511-warlight'"
      ]
     },
     "execution_count": 104,
     "metadata": {},
     "output_type": "execute_result"
    }
   ],
   "source": [
    "#data-resource-type=\"Book\"\n",
    "s = soup.find_all('div', {\"data-resource-type\":\"Book\"})\n",
    "s[0].a['href']"
   ]
  },
  {
   "cell_type": "code",
   "execution_count": 47,
   "metadata": {},
   "outputs": [
    {
     "data": {
      "text/plain": [
       "100"
      ]
     },
     "execution_count": 47,
     "metadata": {},
     "output_type": "execute_result"
    }
   ],
   "source": [
    "len(s)"
   ]
  },
  {
   "cell_type": "code",
   "execution_count": 101,
   "metadata": {},
   "outputs": [],
   "source": [
    "s2016 = soup2016.find_all('div', {\"data-resource-type\":\"Book\"})"
   ]
  },
  {
   "cell_type": "code",
   "execution_count": 103,
   "metadata": {},
   "outputs": [
    {
     "data": {
      "text/plain": [
       "'/book/show/27071490-homegoing'"
      ]
     },
     "execution_count": 103,
     "metadata": {},
     "output_type": "execute_result"
    }
   ],
   "source": [
    "s2016[0].a['href']"
   ]
  },
  {
   "cell_type": "code",
   "execution_count": 51,
   "metadata": {},
   "outputs": [],
   "source": [
    "nyt_2018 = []\n",
    "s = soup.find_all('div', {\"data-resource-type\":\"Book\"})\n",
    "for i in range(len(s)):\n",
    "    nyt_2018.append('https://www.goodreads.com' +s[i].a['href'])"
   ]
  },
  {
   "cell_type": "code",
   "execution_count": 107,
   "metadata": {},
   "outputs": [],
   "source": [
    "nyt_2017 = []\n",
    "s = soup2017.find_all('div', {\"data-resource-type\":\"Book\"})\n",
    "for i in range(len(s2017)):\n",
    "    nyt_2017.append('https://www.goodreads.com' +s[i].a['href'])"
   ]
  },
  {
   "cell_type": "code",
   "execution_count": 108,
   "metadata": {},
   "outputs": [],
   "source": [
    "nyt_2016 = []\n",
    "s = soup2016.find_all('div', {\"data-resource-type\":\"Book\"})\n",
    "for i in range(len(s2016)):\n",
    "    nyt_2016.append('https://www.goodreads.com' +s[i].a['href'])"
   ]
  },
  {
   "cell_type": "code",
   "execution_count": 109,
   "metadata": {},
   "outputs": [
    {
     "data": {
      "text/plain": [
       "'https://www.goodreads.com/book/show/29496076-killers-of-the-flower-moon'"
      ]
     },
     "execution_count": 109,
     "metadata": {},
     "output_type": "execute_result"
    }
   ],
   "source": [
    "nyt_2017[0]"
   ]
  },
  {
   "cell_type": "code",
   "execution_count": 67,
   "metadata": {},
   "outputs": [
    {
     "data": {
      "text/plain": [
       "'https://www.goodreads.com/book/show/35657511-warlight'"
      ]
     },
     "execution_count": 67,
     "metadata": {},
     "output_type": "execute_result"
    }
   ],
   "source": [
    "nyt_2018[0]"
   ]
  },
  {
   "cell_type": "code",
   "execution_count": 110,
   "metadata": {},
   "outputs": [
    {
     "data": {
      "text/plain": [
       "'https://www.goodreads.com/book/show/27071490-homegoing'"
      ]
     },
     "execution_count": 110,
     "metadata": {},
     "output_type": "execute_result"
    }
   ],
   "source": [
    "nyt_2016[0]"
   ]
  },
  {
   "cell_type": "code",
   "execution_count": 54,
   "metadata": {},
   "outputs": [],
   "source": [
    "def get_rating(soup):    \n",
    "    get_rating = soup.find('span',{\"itemprop\":\"ratingValue\"})\n",
    "    get_rating = get_rating.get_text().replace('\\n', '').replace(' ', '')\n",
    "    return get_rating\n"
   ]
  },
  {
   "cell_type": "code",
   "execution_count": 55,
   "metadata": {},
   "outputs": [],
   "source": [
    "def get_title(soup):\n",
    "    get_title = soup.find('h1',{\"id\":\"bookTitle\"})\n",
    "    get_title = get_title.get_text().replace('\\n', '').replace('  ', '')\n",
    "    return get_title"
   ]
  },
  {
   "cell_type": "code",
   "execution_count": 56,
   "metadata": {},
   "outputs": [],
   "source": [
    "def get_author(soup):\n",
    "    get_author = soup.find('span', {'itemprop':\"name\"})\n",
    "    get_author = get_author.get_text()\n",
    "    return get_author"
   ]
  },
  {
   "cell_type": "code",
   "execution_count": 57,
   "metadata": {},
   "outputs": [],
   "source": [
    "def get_publisher(soup):\n",
    "    get_publisher = soup.find('div', {'id':\"details\"})\n",
    "    get_publisher = get_publisher.contents[3].get_text()\n",
    "    get_publisher = get_publisher.replace('\\n', '')\n",
    "    get_publisher = re.findall(r'(?<=by ).+\\b', get_publisher)[0]\n",
    "    return get_publisher"
   ]
  },
  {
   "cell_type": "code",
   "execution_count": 58,
   "metadata": {},
   "outputs": [],
   "source": [
    "def get_date(soup):\n",
    "    get_date = soup.find('div', {'id':\"details\"})\n",
    "    get_date = get_date.contents[3].get_text()\n",
    "    get_date = get_date.replace('\\n', '')\n",
    "    get_date = re.findall(r'((?<=Published        ).+\\b)(\\d{4})', get_date)[0]\n",
    "    return get_date\n",
    "def get_month_day(soup):\n",
    "    get_month_day = get_date(soup)[0]\n",
    "    return get_month_day\n",
    "def get_month(soup):\n",
    "    get_month = get_date(soup)[0].split(' ')[0]\n",
    "    return get_month\n",
    "def get_year(soup):\n",
    "    get_year = get_date(soup)[1]\n",
    "    return get_year"
   ]
  },
  {
   "cell_type": "code",
   "execution_count": 59,
   "metadata": {},
   "outputs": [],
   "source": [
    "def get_pages(soup):\n",
    "    get_pages = soup.find('span', {'itemprop':\"numberOfPages\"})\n",
    "    get_pages = get_pages.get_text().split(' ')[0]\n",
    "    return get_pages"
   ]
  },
  {
   "cell_type": "code",
   "execution_count": 60,
   "metadata": {},
   "outputs": [],
   "source": [
    "def get_genre(soup):\n",
    "    get_genre = soup.find('a', {'class':\"actionLinkLite bookPageGenreLink\"})\n",
    "    get_genre = get_genre.get_text()\n",
    "    return get_genre"
   ]
  },
  {
   "cell_type": "code",
   "execution_count": 61,
   "metadata": {},
   "outputs": [],
   "source": [
    "def get_descrip(soup):\n",
    "    get_descrip = soup.find('div', {'id':\"description\"})\n",
    "    get_descrip = get_descrip.find('span').contents[0]\n",
    "    return get_descrip"
   ]
  },
  {
   "cell_type": "code",
   "execution_count": 62,
   "metadata": {},
   "outputs": [],
   "source": [
    "def get_format(soup):\n",
    "    get_format = soup.find('span', {'itemprop':\"bookFormat\"})\n",
    "    get_format = get_format.get_text()\n",
    "    return get_format"
   ]
  },
  {
   "cell_type": "code",
   "execution_count": 112,
   "metadata": {},
   "outputs": [],
   "source": [
    "# take a list and return a list of dictionaries\n",
    "\n",
    "def book_info(url):\n",
    "    all_the_books = []\n",
    "    for x in url:\n",
    "        link = x\n",
    "        #link = 'https://www.goodreads.com/book/show/6148028-catching-fire?from_choice=true'\n",
    "        #probably add timer here\n",
    "        time.sleep(1)\n",
    "        page = urllib.request.urlopen(link)\n",
    "        soup = bs(page, 'html.parser')\n",
    "        try:\n",
    "            dictionary = {'rating': get_rating(soup), 'author': get_author(soup), 'publisher' : get_publisher(soup),'title':get_title(soup), 'pages': get_pages(soup),\n",
    "             'description': get_descrip(soup), 'format': get_format(soup), 'genre': get_genre(soup), 'year': get_year(soup), 'month': get_month(soup)}\n",
    "        except:\n",
    "            try:\n",
    "                dictionary = {'rating': get_rating(soup), 'author': get_author(soup),'publisher' : get_publisher(soup), 'title':get_title(soup), 'pages': get_pages(soup),\n",
    "                 'description': get_descrip(soup), 'format': get_format(soup), 'genre': get_genre(soup)}\n",
    "            except:\n",
    "                pass\n",
    "        all_the_books.append(dictionary)\n",
    "    #print(all_the_books)\n",
    "    return all_the_books"
   ]
  },
  {
   "cell_type": "code",
   "execution_count": 64,
   "metadata": {},
   "outputs": [],
   "source": [
    "all_books = book_info(nyt_2018)"
   ]
  },
  {
   "cell_type": "code",
   "execution_count": null,
   "metadata": {},
   "outputs": [],
   "source": [
    "all_books"
   ]
  },
  {
   "cell_type": "code",
   "execution_count": 66,
   "metadata": {},
   "outputs": [
    {
     "data": {
      "text/plain": [
       "100"
      ]
     },
     "execution_count": 66,
     "metadata": {},
     "output_type": "execute_result"
    }
   ],
   "source": [
    "len(all_books)"
   ]
  },
  {
   "cell_type": "code",
   "execution_count": 113,
   "metadata": {},
   "outputs": [],
   "source": [
    "all_books_2017 = book_info(nyt_2017)"
   ]
  },
  {
   "cell_type": "code",
   "execution_count": null,
   "metadata": {},
   "outputs": [],
   "source": [
    "all_books_2017"
   ]
  },
  {
   "cell_type": "code",
   "execution_count": 115,
   "metadata": {},
   "outputs": [],
   "source": [
    "all_books_2016 = book_info(nyt_2016)"
   ]
  },
  {
   "cell_type": "code",
   "execution_count": null,
   "metadata": {},
   "outputs": [],
   "source": [
    "all_books_2016"
   ]
  },
  {
   "cell_type": "code",
   "execution_count": 78,
   "metadata": {},
   "outputs": [],
   "source": [
    "nyt_2018_df = pd.DataFrame.from_dict(all_books)\n",
    "# nyt_2018_df.to_csv('../data/nyt_2018_df.csv', encoding='utf-8', index=False)\n",
    "\n",
    "nyt_2017_df = pd.DataFrame.from_dict(all_books_2017)\n",
    "# nyt_2017_df.to_csv('../data/nyt_2017_df.csv', encoding='utf-8', index=False)\n",
    "\n",
    "nyt_2016_df = pd.DataFrame.from_dict(all_books_2016)\n",
    "# nyt_2016_df.to_csv('../data/nyt_2016_df.csv', encoding='utf-8', index=False)"
   ]
  }
 ],
 "metadata": {
  "kernelspec": {
   "display_name": "Python 3",
   "language": "python",
   "name": "python3"
  },
  "language_info": {
   "codemirror_mode": {
    "name": "ipython",
    "version": 3
   },
   "file_extension": ".py",
   "mimetype": "text/x-python",
   "name": "python",
   "nbconvert_exporter": "python",
   "pygments_lexer": "ipython3",
   "version": "3.6.5"
  },
  "toc": {
   "base_numbering": 1,
   "nav_menu": {},
   "number_sections": true,
   "sideBar": true,
   "skip_h1_title": false,
   "title_cell": "Table of Contents",
   "title_sidebar": "Contents",
   "toc_cell": false,
   "toc_position": {},
   "toc_section_display": true,
   "toc_window_display": false
  }
 },
 "nbformat": 4,
 "nbformat_minor": 2
}
