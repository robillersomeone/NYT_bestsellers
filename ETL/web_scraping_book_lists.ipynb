{
 "cells": [
  {
   "cell_type": "markdown",
   "metadata": {},
   "source": [
    "# Good Reads Books Dataframe"
   ]
  },
  {
   "cell_type": "markdown",
   "metadata": {},
   "source": [
    "prototyping using BeautifulSoup and requests for webscraping\n",
    "\n",
    "these functions are updated in `get_data.py` "
   ]
  },
  {
   "cell_type": "code",
   "execution_count": 149,
   "metadata": {},
   "outputs": [],
   "source": [
    "import re\n",
    "import time\n",
    "import random\n",
    "import requests\n",
    "import pandas as pd\n",
    "import urllib.request\n",
    "from tqdm import tqdm\n",
    "from bs4 import BeautifulSoup as bs"
   ]
  },
  {
   "cell_type": "markdown",
   "metadata": {},
   "source": [
    "## URLs for the top books 2018"
   ]
  },
  {
   "cell_type": "markdown",
   "metadata": {},
   "source": [
    "We started by getting the webpages for the best fiction books of 2018."
   ]
  },
  {
   "cell_type": "code",
   "execution_count": 8,
   "metadata": {},
   "outputs": [],
   "source": [
    "# url_2018 = 'https://www.goodreads.com/choiceawards/best-fiction-books-2018'\n",
    "#url_2017 = 'https://www.goodreads.com/choiceawards/best-fiction-books-2017'\n",
    "url_2016 = 'https://www.goodreads.com/choiceawards/best-fiction-books-2016'\n",
    "# r2018 = urllib.request.urlopen(url_2018)\n",
    "# r2017 = urllib.request.urlopen(url_2017)\n",
    "r2016 = urllib.request.urlopen(url_2016)"
   ]
  },
  {
   "cell_type": "code",
   "execution_count": 9,
   "metadata": {},
   "outputs": [],
   "source": [
    "# soup2018 = bs(r2018, 'html.parser')\n",
    "# soup2017 = bs(r2017, 'html.parser')\n",
    "soup2016 = bs(r2016, 'html.parser')\n",
    "#soup"
   ]
  },
  {
   "cell_type": "code",
   "execution_count": 18,
   "metadata": {},
   "outputs": [],
   "source": [
    "# coolcats = soup.find_all('a', {\"class\":\"pollAnswer__bookLink\"})[0]\n",
    "# coolcats2017 = soup2017.find_all('a', {\"class\":\"pollAnswer__bookLink\"})[0]\n",
    "coolcats2016 = soup2016.find_all('a', {\"class\":\"pollAnswer__bookLink\"})[0]"
   ]
  },
  {
   "cell_type": "code",
   "execution_count": 19,
   "metadata": {},
   "outputs": [
    {
     "data": {
      "text/plain": [
       "<a class=\"pollAnswer__bookLink\" href=\"/book/show/26247008-truly-madly-guilty?from_choice=true\" id=\"bookCover_26247008\"><img alt=\"Truly Madly Guilty by Liane Moriarty\" src=\"https://i.gr-assets.com/images/S/compressed.photo.goodreads.com/books/1491249206l/26247008.jpg\" title=\"Truly Madly Guilty by Liane Moriarty\"/></a>"
      ]
     },
     "execution_count": 19,
     "metadata": {},
     "output_type": "execute_result"
    }
   ],
   "source": [
    "# coolcats2017\n",
    "coolcats2016"
   ]
  },
  {
   "cell_type": "markdown",
   "metadata": {},
   "source": [
    "Making a list to get the URLs from each book on the best fiction 2018 page."
   ]
  },
  {
   "cell_type": "code",
   "execution_count": 130,
   "metadata": {},
   "outputs": [],
   "source": [
    "# fiction_book_list_2018 = []\n",
    "# for a in soup.find_all('a',{\"class\":\"pollAnswer__bookLink\"},  href=True):\n",
    "#     fiction__book_list_2018.append('https://www.goodreads.com' + (a['href']))\n",
    "# fiction_book_list_2017 = []\n",
    "# for a in soup2017.find_all('a',{\"class\":\"pollAnswer__bookLink\"},  href=True):\n",
    "#     fiction_book_list_2017.append('https://www.goodreads.com' + (a['href']))\n",
    "fiction_book_list_2016 = []\n",
    "for a in soup2016.find_all('a',{\"class\":\"pollAnswer__bookLink\"},  href=True):\n",
    "    fiction_book_list_2016.append('https://www.goodreads.com' + (a['href']))"
   ]
  },
  {
   "cell_type": "code",
   "execution_count": 92,
   "metadata": {},
   "outputs": [
    {
     "data": {
      "text/plain": [
       "['https://www.goodreads.com/book/show/26247008-truly-madly-guilty?from_choice=true',\n",
       " 'https://www.goodreads.com/book/show/26114135-all-the-ugly-and-wonderful-things?from_choice=true',\n",
       " 'https://www.goodreads.com/book/show/26893819-the-girls?from_choice=true',\n",
       " 'https://www.goodreads.com/book/show/25781157-the-nest?from_choice=true',\n",
       " 'https://www.goodreads.com/book/show/28587957-small-great-things?from_choice=true',\n",
       " 'https://www.goodreads.com/book/show/25852870-eligible?from_choice=true',\n",
       " 'https://www.goodreads.com/book/show/28214365-commonwealth?from_choice=true',\n",
       " 'https://www.goodreads.com/book/show/27276262-lily-and-the-octopus?from_choice=true',\n",
       " 'https://www.goodreads.com/book/show/25893709-my-name-is-lucy-barton?from_choice=true',\n",
       " 'https://www.goodreads.com/book/show/25810500-what-is-not-yours-is-not-yours?from_choice=true',\n",
       " 'https://www.goodreads.com/book/show/27213163-another-brooklyn?from_choice=true',\n",
       " 'https://www.goodreads.com/book/show/28116847-here-i-am?from_choice=true',\n",
       " 'https://www.goodreads.com/book/show/27068575-everybody-s-fool?from_choice=true',\n",
       " 'https://www.goodreads.com/book/show/28251002-the-nix?from_choice=true',\n",
       " 'https://www.goodreads.com/book/show/25688974-shelter?from_choice=true',\n",
       " 'https://www.goodreads.com/book/show/25810398-the-association-of-small-bombs?from_choice=true',\n",
       " 'https://www.goodreads.com/book/show/30008702-nutshell?from_choice=true',\n",
       " 'https://www.goodreads.com/book/show/31246481-silver-threads?from_choice=true',\n",
       " 'https://www.goodreads.com/book/show/26114523-the-summer-that-melted-everything?from_choice=true',\n",
       " 'https://www.goodreads.com/book/show/29776246-an-ishmael-of-syria?from_choice=true']"
      ]
     },
     "execution_count": 92,
     "metadata": {},
     "output_type": "execute_result"
    }
   ],
   "source": [
    "#urls for all best fiction books 2018 (for one genre only)\n",
    "# there are 20 books on each of the best of pages\n",
    "fiction_book_list_2018\n",
    "fiction_book_list_2017\n",
    "fiction_book_list_2016"
   ]
  },
  {
   "cell_type": "code",
   "execution_count": 132,
   "metadata": {},
   "outputs": [],
   "source": [
    "#this pulls urls for every genre 2018\n",
    "soup.find_all('a', {'class':'categoriesList__categoryLink categoriesList__categoryLink--current'})\n",
    "choice_rewards_genre_list_2018 = []\n",
    "for a in soup.find_all('a',{'class':\"categoriesList__categoryLink categoriesList__categoryLink--current\"},  href=True):\n",
    "    choice_rewards_genre_list_2018.append('https://www.goodreads.com' + (a['href']))\n"
   ]
  },
  {
   "cell_type": "code",
   "execution_count": 13,
   "metadata": {},
   "outputs": [],
   "source": [
    "# choice_rewards_genre_list_2018"
   ]
  },
  {
   "cell_type": "code",
   "execution_count": 133,
   "metadata": {},
   "outputs": [],
   "source": [
    "#this pulls urls for every genre 2017\n",
    "soup2017.find_all('a', {'class':'categoriesList__categoryLink categoriesList__categoryLink--current'})\n",
    "choice_rewards_genre_list_2017 = []\n",
    "for a in soup2017.find_all('a',{'class':\"categoriesList__categoryLink\"},  href=True):\n",
    "    choice_rewards_genre_list_2017.append('https://www.goodreads.com' + (a['href']))\n"
   ]
  },
  {
   "cell_type": "code",
   "execution_count": 11,
   "metadata": {},
   "outputs": [],
   "source": [
    "# choice_rewards_genre_list_2017"
   ]
  },
  {
   "cell_type": "code",
   "execution_count": 94,
   "metadata": {},
   "outputs": [],
   "source": [
    "#this pulls urls for every genre 2017\n",
    "soup2016.find_all('a', {'class':'categoriesList__categoryLink categoriesList__categoryLink--current'})\n",
    "choice_rewards_genre_list_2016 = []\n",
    "for a in soup2016.find_all('a',{'class':\"categoriesList__categoryLink\"},  href=True):\n",
    "    choice_rewards_genre_list_2016.append('https://www.goodreads.com' + (a['href']))\n"
   ]
  },
  {
   "cell_type": "markdown",
   "metadata": {},
   "source": [
    "book_list_2018 is all URLs for the best books of 2018."
   ]
  },
  {
   "cell_type": "code",
   "execution_count": 18,
   "metadata": {},
   "outputs": [],
   "source": [
    "book_list_2018 = []\n",
    "for i in choice_rewards_genre_list_2018:\n",
    "    url = i\n",
    "    r = urllib.request.urlopen(url)\n",
    "    soup = bs(r, 'html.parser')\n",
    "    for a in soup.find_all('a',{\"class\":\"pollAnswer__bookLink\"},  href=True):\n",
    "        book_list_2018.append('https://www.goodreads.com' + (a['href']))"
   ]
  },
  {
   "cell_type": "code",
   "execution_count": 137,
   "metadata": {
    "scrolled": true
   },
   "outputs": [],
   "source": [
    "book_list_2017 = []\n",
    "for i in choice_rewards_genre_list_2017:\n",
    "    url = i\n",
    "    r = urllib.request.urlopen(url)\n",
    "    soup = bs(r, 'html.parser')\n",
    "    for a in soup.find_all('a',{\"class\":\"pollAnswer__bookLink\"},  href=True):\n",
    "        book_list_2017.append('https://www.goodreads.com' + (a['href']))"
   ]
  },
  {
   "cell_type": "code",
   "execution_count": 95,
   "metadata": {},
   "outputs": [],
   "source": [
    "book_list_2016 = []\n",
    "for i in choice_rewards_genre_list_2016:\n",
    "    url = i\n",
    "    r = urllib.request.urlopen(url)\n",
    "    soup = bs(r, 'html.parser')\n",
    "    for a in soup.find_all('a',{\"class\":\"pollAnswer__bookLink\"},  href=True):\n",
    "        book_list_2016.append('https://www.goodreads.com' + (a['href']))"
   ]
  },
  {
   "cell_type": "code",
   "execution_count": 19,
   "metadata": {},
   "outputs": [
    {
     "data": {
      "text/plain": [
       "440"
      ]
     },
     "execution_count": 19,
     "metadata": {},
     "output_type": "execute_result"
    }
   ],
   "source": [
    "book_list_2018 = book_list_2018 + fiction__book_list_2018\n",
    "len(book_list_2018 + fiction__book_list_2018)"
   ]
  },
  {
   "cell_type": "code",
   "execution_count": 138,
   "metadata": {},
   "outputs": [
    {
     "data": {
      "text/plain": [
       "400"
      ]
     },
     "execution_count": 138,
     "metadata": {},
     "output_type": "execute_result"
    }
   ],
   "source": [
    "book_list_2017 = book_list_2017\n",
    "len(book_list_2017)"
   ]
  },
  {
   "cell_type": "code",
   "execution_count": 100,
   "metadata": {},
   "outputs": [
    {
     "data": {
      "text/plain": [
       "400"
      ]
     },
     "execution_count": 100,
     "metadata": {},
     "output_type": "execute_result"
    }
   ],
   "source": [
    "book_list_2016 = book_list_2016\n",
    "len(book_list_2016)"
   ]
  },
  {
   "cell_type": "code",
   "execution_count": null,
   "metadata": {},
   "outputs": [],
   "source": [
    "# this is all urls for the best books of 2018\n",
    "len(book_list_2018)"
   ]
  },
  {
   "cell_type": "code",
   "execution_count": 22,
   "metadata": {},
   "outputs": [],
   "source": [
    "# list of all books in every genre for the given year\n",
    "\n",
    "# book_list_2018\n",
    "# book_list_2017\n",
    "# book_list_2016"
   ]
  },
  {
   "cell_type": "code",
   "execution_count": null,
   "metadata": {},
   "outputs": [],
   "source": [
    "# goodreads rating\n",
    "#testing one book's info\n",
    "link = 'https://www.goodreads.com/book/show/36124936-the-outsider?from_choice=true'\n",
    "page = urllib.request.urlopen(link)\n",
    "\n",
    "soup = bs(page, 'html.parser')\n",
    "\n",
    "soup.find('span',{\"itemprop\":\"ratingValue\"})"
   ]
  },
  {
   "cell_type": "code",
   "execution_count": 102,
   "metadata": {},
   "outputs": [],
   "source": [
    "def get_rating(soup):    \n",
    "    get_rating = soup.find('span',{\"itemprop\":\"ratingValue\"})\n",
    "    get_rating = get_rating.get_text().replace('\\n', '').replace(' ', '')\n",
    "    return get_rating\n"
   ]
  },
  {
   "cell_type": "code",
   "execution_count": null,
   "metadata": {},
   "outputs": [],
   "source": [
    "def get_title(soup):\n",
    "    get_title = soup.find('h1',{\"id\":\"bookTitle\"})\n",
    "    get_title = get_title.get_text().replace('\\n', '').replace('  ', '')\n",
    "    return get_title"
   ]
  },
  {
   "cell_type": "code",
   "execution_count": null,
   "metadata": {},
   "outputs": [],
   "source": [
    "title = get_title()\n",
    "title"
   ]
  },
  {
   "cell_type": "code",
   "execution_count": null,
   "metadata": {},
   "outputs": [],
   "source": [
    "def get_author(soup):\n",
    "    get_author = soup.find('span', {'itemprop':\"name\"})\n",
    "    get_author = get_author.get_text()\n",
    "    return get_author"
   ]
  },
  {
   "cell_type": "code",
   "execution_count": null,
   "metadata": {},
   "outputs": [],
   "source": [
    "author = get_author()\n",
    "author"
   ]
  },
  {
   "cell_type": "code",
   "execution_count": 104,
   "metadata": {},
   "outputs": [],
   "source": [
    "def get_publisher(soup):\n",
    "    get_publisher = soup.find('div', {'id':\"details\"})\n",
    "    get_publisher = get_publisher.contents[3].get_text()\n",
    "    get_publisher = get_publisher.replace('\\n', '')\n",
    "    get_publisher = re.findall(r'(?<=by ).+\\b', get_publisher)[0]\n",
    "    return get_publisher"
   ]
  },
  {
   "cell_type": "code",
   "execution_count": 107,
   "metadata": {},
   "outputs": [],
   "source": [
    "# ((?<=Published        ).+\\b)(\\d{4})\n",
    "def get_date(soup):\n",
    "    get_date = soup.find('div', {'id':\"details\"})\n",
    "    get_date = get_date.contents[3].get_text()\n",
    "    get_date = get_date.replace('\\n', '')\n",
    "    get_date = re.findall(r'((?<=Published        ).+\\b)(\\d{4})', get_date)[0]\n",
    "    return get_date\n",
    "def get_month_day(soup):\n",
    "    get_month_day = get_date(soup)[0]\n",
    "    return get_month_day\n",
    "def get_month(soup):\n",
    "    get_month = get_date(soup)[0].split(' ')[0]\n",
    "    return get_month\n",
    "def get_year(soup):\n",
    "    get_year = get_date(soup)[1]\n",
    "    return get_year"
   ]
  },
  {
   "cell_type": "code",
   "execution_count": 110,
   "metadata": {},
   "outputs": [],
   "source": [
    "def get_pages(soup):\n",
    "    get_pages = soup.find('span', {'itemprop':\"numberOfPages\"})\n",
    "    get_pages = get_pages.get_text().split(' ')[0]\n",
    "    return get_pages"
   ]
  },
  {
   "cell_type": "code",
   "execution_count": 112,
   "metadata": {},
   "outputs": [],
   "source": [
    "def get_genre(soup):\n",
    "    get_genre = soup.find('a', {'class':\"actionLinkLite bookPageGenreLink\"})\n",
    "    get_genre = get_genre.get_text()\n",
    "    return get_genre"
   ]
  },
  {
   "cell_type": "code",
   "execution_count": 114,
   "metadata": {},
   "outputs": [],
   "source": [
    "def get_descrip(soup):\n",
    "    get_descrip = soup.find('div', {'id':\"description\"})\n",
    "    get_descrip = get_descrip.find('span').contents[0]\n",
    "    return get_descrip"
   ]
  },
  {
   "cell_type": "code",
   "execution_count": 116,
   "metadata": {},
   "outputs": [],
   "source": [
    "def get_format(soup):\n",
    "    get_format = soup.find('span', {'itemprop':\"bookFormat\"})\n",
    "    get_format = get_format.get_text()\n",
    "    return get_format"
   ]
  },
  {
   "cell_type": "code",
   "execution_count": 118,
   "metadata": {},
   "outputs": [],
   "source": [
    "# take a list and return a list of dictionaries\n",
    "\n",
    "def book_info(url):\n",
    "    all_the_books = []\n",
    "    for x in url:\n",
    "        link = x\n",
    "        #link = 'https://www.goodreads.com/book/show/6148028-catching-fire?from_choice=true'\n",
    "        #probably add timer here\n",
    "        time.sleep(1)\n",
    "        page = urllib.request.urlopen(link)\n",
    "        soup = bs(page, 'html.parser')\n",
    "        try:\n",
    "            dictionary = {'rating': get_rating(soup), 'author': get_author(soup), 'publisher' : get_publisher(soup),'title':get_title(soup), 'pages': get_pages(soup),\n",
    "             'description': get_descrip(soup), 'format': get_format(soup), 'genre': get_genre(soup), 'year': get_year(soup), 'month': get_month(soup)}\n",
    "        except:\n",
    "            try:\n",
    "                dictionary = {'rating': get_rating(soup), 'author': get_author(soup),'publisher' : get_publisher(soup), 'title':get_title(soup), 'pages': get_pages(soup),\n",
    "                 'description': get_descrip(soup), 'format': get_format(soup), 'genre': get_genre(soup)}\n",
    "            except:\n",
    "                pass\n",
    "        all_the_books.append(dictionary)\n",
    "    #print(all_the_books)\n",
    "    return all_the_books\n",
    "    \n",
    "    "
   ]
  },
  {
   "cell_type": "code",
   "execution_count": null,
   "metadata": {},
   "outputs": [],
   "source": [
    "all_books = book_info(book_list_2018)"
   ]
  },
  {
   "cell_type": "code",
   "execution_count": null,
   "metadata": {},
   "outputs": [],
   "source": [
    "all_books"
   ]
  },
  {
   "cell_type": "code",
   "execution_count": null,
   "metadata": {},
   "outputs": [],
   "source": [
    "goodreads_2018_df = pd.DataFrame.from_dict(all_books)"
   ]
  },
  {
   "cell_type": "code",
   "execution_count": null,
   "metadata": {},
   "outputs": [],
   "source": [
    "goodreads_2018_df.to_csv('csv_files/goodreads_2018_df', encoding='utf-8', index=False)"
   ]
  },
  {
   "cell_type": "code",
   "execution_count": null,
   "metadata": {},
   "outputs": [],
   "source": [
    "goodreads_2018_df"
   ]
  },
  {
   "cell_type": "code",
   "execution_count": 81,
   "metadata": {},
   "outputs": [],
   "source": [
    "all_books2017 = book_info(book_list_2017)\n",
    "# a list of dictionaries of all the books\n",
    "# all_books2017"
   ]
  },
  {
   "cell_type": "code",
   "execution_count": 25,
   "metadata": {},
   "outputs": [],
   "source": [
    "# goodreads_2017_df = pd.DataFrame.from_dict(all_books2017)\n",
    "# goodreads_2017_df.to_csv('../data/goodreads_2017_df', encoding='utf-8', index=False)"
   ]
  },
  {
   "cell_type": "code",
   "execution_count": 26,
   "metadata": {},
   "outputs": [],
   "source": [
    "# all_books2016 = book_info(book_list_2016)\n",
    "# all_books2016\n",
    "\n",
    "# goodreads_2016_df = pd.DataFrame.from_dict(all_books2016)\n",
    "# goodreads_2016_df.to_csv('../data/goodreads_2016_df.csv', encoding='utf-8', index=False)"
   ]
  }
 ],
 "metadata": {
  "kernelspec": {
   "display_name": "Python 3",
   "language": "python",
   "name": "python3"
  },
  "language_info": {
   "codemirror_mode": {
    "name": "ipython",
    "version": 3
   },
   "file_extension": ".py",
   "mimetype": "text/x-python",
   "name": "python",
   "nbconvert_exporter": "python",
   "pygments_lexer": "ipython3",
   "version": "3.6.5"
  },
  "toc": {
   "base_numbering": 1,
   "nav_menu": {},
   "number_sections": true,
   "sideBar": true,
   "skip_h1_title": false,
   "title_cell": "Table of Contents",
   "title_sidebar": "Contents",
   "toc_cell": false,
   "toc_position": {},
   "toc_section_display": true,
   "toc_window_display": false
  }
 },
 "nbformat": 4,
 "nbformat_minor": 2
}
