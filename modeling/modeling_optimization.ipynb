{
 "cells": [
  {
   "cell_type": "markdown",
   "metadata": {},
   "source": [
    "# Modeling "
   ]
  },
  {
   "cell_type": "code",
   "execution_count": 1,
   "metadata": {},
   "outputs": [],
   "source": [
    "import warnings\n",
    "warnings.filterwarnings('ignore')\n",
    "import numpy as np\n",
    "import pandas as pd\n",
    "import random\n",
    "import pickle\n",
    "from modeling import baseline_modeling, class_names\n",
    "from sklearn.metrics import confusion_matrix, classification_report, plot_confusion_matrix\n",
    "from sklearn.dummy import DummyClassifier\n",
    "from sklearn.model_selection import train_test_split, RandomizedSearchCV, GridSearchCV\n",
    "from sklearn.ensemble import RandomForestClassifier\n",
    "from sklearn.linear_model import LogisticRegression, LogisticRegressionCV"
   ]
  },
  {
   "cell_type": "markdown",
   "metadata": {},
   "source": [
    "## Setting dataframes\n",
    "- df_baseline is just numerical data\n",
    "- just metadata dataframe (in the works)\n",
    "- df_text is with vectorized description\n",
    "    - this was already split into train and test sets to preprocess\n",
    "    - going to be joined to df after splitting into train/test"
   ]
  },
  {
   "cell_type": "code",
   "execution_count": 2,
   "metadata": {},
   "outputs": [],
   "source": [
    "# load in dataframe\n",
    "df = pd.read_csv('csv_files/9_1_all_books_df.csv')\n",
    "\n",
    "# this just includes pages and ratings along with the target of best seller or not\n",
    "df_baseline = df[['rating', 'pages', 'best_seller']]\n",
    "\n",
    "# this data is already split into the training set with a reset index\n",
    "# so it will be concated with the df after spliting into train and test sets\n",
    "df_text_X = pd.read_csv('csv_files/X_train_nlp.csv')\n",
    "df_text_y= pd.read_csv('csv_files/y_train_nlp.csv', header=None)\n",
    "df_text_X_test = pd.read_csv('csv_files/X_test_nlp.csv')\n",
    "df_text_y_test = pd.read_csv('csv_files/y_test_nlp.csv', header=None)\n",
    "\n",
    "# target names is in modeling.py\n",
    "# split the dataset into training and validation datasets for just numerical data\n",
    "X_train_rating, X_test_rating, y_train_rating, y_test_rating = train_test_split(df_baseline[['rating', 'pages']], \n",
    "                                                                    df_baseline['best_seller'], \n",
    "                                                                    test_size = .2,\n",
    "                                                                   random_state=42)\n",
    "\n",
    "df_text = df_text_X \n",
    "df_text['_target'] = df_text_y[0]\n",
    "# deep vs shallow copies\n",
    "df_text_X = df_text_X.loc[:, df_text_X.columns != '_target']"
   ]
  },
  {
   "cell_type": "markdown",
   "metadata": {},
   "source": [
    "# Tree based Modeling"
   ]
  },
  {
   "cell_type": "markdown",
   "metadata": {},
   "source": [
    "## Numerical Random Forest"
   ]
  },
  {
   "cell_type": "code",
   "execution_count": 3,
   "metadata": {},
   "outputs": [],
   "source": [
    "rf = RandomForestClassifier(random_state=42)"
   ]
  },
  {
   "cell_type": "code",
   "execution_count": 4,
   "metadata": {},
   "outputs": [
    {
     "data": {
      "text/plain": [
       "{'clf score': 0.982695810564663, 'clf confusion': array([[868,   3],\n",
       "        [ 16, 211]])}"
      ]
     },
     "execution_count": 4,
     "metadata": {},
     "output_type": "execute_result"
    }
   ],
   "source": [
    "baseline_modeling(rf, X_train_rating, y_train_rating)"
   ]
  },
  {
   "cell_type": "code",
   "execution_count": 5,
   "metadata": {},
   "outputs": [
    {
     "data": {
      "text/plain": [
       "{'clf score': 0.982695810564663, 'clf confusion': array([[868,   3],\n",
       "        [ 16, 211]])}"
      ]
     },
     "execution_count": 5,
     "metadata": {},
     "output_type": "execute_result"
    },
    {
     "data": {
      "image/png": "[encoded data removed]",
      "text/plain": [
       "<Figure size 432x288 with 2 Axes>"
      ]
     },
     "metadata": {
      "needs_background": "light"
     },
     "output_type": "display_data"
    }
   ],
   "source": [
    "baseline_modeling(rf, X_train_rating, y_train_rating)"
   ]
  },
  {
   "cell_type": "code",
   "execution_count": 6,
   "metadata": {},
   "outputs": [],
   "source": [
    "# random_forest.decision_path(X_train_rating)"
   ]
  },
  {
   "cell_type": "code",
   "execution_count": 7,
   "metadata": {},
   "outputs": [],
   "source": [
    "# random_forest.decision_path(X_test_rating)"
   ]
  },
  {
   "cell_type": "code",
   "execution_count": 8,
   "metadata": {},
   "outputs": [],
   "source": [
    "# random_forest.feature_importances_"
   ]
  },
  {
   "cell_type": "markdown",
   "metadata": {},
   "source": [
    "## Text Modeling Random Forest"
   ]
  },
  {
   "cell_type": "code",
   "execution_count": 9,
   "metadata": {},
   "outputs": [],
   "source": [
    "rf_text = RandomForestClassifier(random_state=42)"
   ]
  },
  {
   "cell_type": "code",
   "execution_count": 10,
   "metadata": {},
   "outputs": [
    {
     "data": {
      "text/plain": [
       "{'clf score': 0.98816029143898, 'clf confusion': array([[869,   2],\n",
       "        [ 11, 216]])}"
      ]
     },
     "execution_count": 10,
     "metadata": {},
     "output_type": "execute_result"
    },
    {
     "data": {
      "image/png": "[encoded data removed]",
      "text/plain": [
       "<Figure size 432x288 with 2 Axes>"
      ]
     },
     "metadata": {
      "needs_background": "light"
     },
     "output_type": "display_data"
    }
   ],
   "source": [
    "baseline_modeling(rf_text, df_text_X, df_text_y[0])\n"
   ]
  },
  {
   "cell_type": "code",
   "execution_count": 11,
   "metadata": {},
   "outputs": [
    {
     "data": {
      "text/plain": [
       "0.98816029143898"
      ]
     },
     "execution_count": 11,
     "metadata": {},
     "output_type": "execute_result"
    }
   ],
   "source": [
    "rf_text.score(df_text_X, df_text_y[0])"
   ]
  },
  {
   "cell_type": "markdown",
   "metadata": {},
   "source": [
    "# Logistic Regression"
   ]
  },
  {
   "cell_type": "markdown",
   "metadata": {},
   "source": [
    "## Numerical Logistic"
   ]
  },
  {
   "cell_type": "code",
   "execution_count": 12,
   "metadata": {},
   "outputs": [],
   "source": [
    "log  = LogisticRegression(random_state=42)"
   ]
  },
  {
   "cell_type": "code",
   "execution_count": 13,
   "metadata": {},
   "outputs": [
    {
     "data": {
      "text/plain": [
       "{'clf score': 0.807832422586521, 'clf confusion': array([[862,   9],\n",
       "        [202,  25]])}"
      ]
     },
     "execution_count": 13,
     "metadata": {},
     "output_type": "execute_result"
    },
    {
     "data": {
      "image/png": "[encoded data removed]",
      "text/plain": [
       "<Figure size 432x288 with 2 Axes>"
      ]
     },
     "metadata": {
      "needs_background": "light"
     },
     "output_type": "display_data"
    }
   ],
   "source": [
    "baseline_modeling(log, X_train_rating, y_train_rating)"
   ]
  },
  {
   "cell_type": "code",
   "execution_count": 14,
   "metadata": {},
   "outputs": [],
   "source": [
    "log_cv = LogisticRegressionCV(cv = 5, random_state=42)"
   ]
  },
  {
   "cell_type": "code",
   "execution_count": 15,
   "metadata": {},
   "outputs": [
    {
     "data": {
      "text/plain": [
       "{'clf score': 0.8060109289617486, 'clf confusion': array([[860,  11],\n",
       "        [202,  25]])}"
      ]
     },
     "execution_count": 15,
     "metadata": {},
     "output_type": "execute_result"
    },
    {
     "data": {
      "image/png": "[encoded data removed]",
      "text/plain": [
       "<Figure size 432x288 with 2 Axes>"
      ]
     },
     "metadata": {
      "needs_background": "light"
     },
     "output_type": "display_data"
    }
   ],
   "source": [
    "baseline_modeling(log_cv, X_train_rating, y_train_rating)"
   ]
  },
  {
   "cell_type": "markdown",
   "metadata": {},
   "source": [
    "## Text Modeling Logistic "
   ]
  },
  {
   "cell_type": "code",
   "execution_count": 16,
   "metadata": {},
   "outputs": [],
   "source": [
    "log_text = LogisticRegression(random_state=42)"
   ]
  },
  {
   "cell_type": "code",
   "execution_count": 17,
   "metadata": {},
   "outputs": [
    {
     "data": {
      "text/plain": [
       "{'clf score': 0.9653916211293261, 'clf confusion': array([[871,   0],\n",
       "        [ 38, 189]])}"
      ]
     },
     "execution_count": 17,
     "metadata": {},
     "output_type": "execute_result"
    },
    {
     "data": {
      "image/png": "[encoded data removed]",
      "text/plain": [
       "<Figure size 432x288 with 2 Axes>"
      ]
     },
     "metadata": {
      "needs_background": "light"
     },
     "output_type": "display_data"
    }
   ],
   "source": [
    "baseline_modeling(log_text, df_text_X, df_text_y[0] )"
   ]
  },
  {
   "cell_type": "code",
   "execution_count": 18,
   "metadata": {},
   "outputs": [],
   "source": [
    "# max iterations needed to be 100 -> 400 for text modeling\n",
    "log_text_cv = LogisticRegressionCV(cv = 5, max_iter=400, random_state=42)"
   ]
  },
  {
   "cell_type": "code",
   "execution_count": 19,
   "metadata": {},
   "outputs": [
    {
     "data": {
      "text/plain": [
       "{'clf score': 0.9389799635701275, 'clf confusion': array([[871,   0],\n",
       "        [ 67, 160]])}"
      ]
     },
     "execution_count": 19,
     "metadata": {},
     "output_type": "execute_result"
    },
    {
     "data": {
      "image/png": "[encoded data removed]",
      "text/plain": [
       "<Figure size 432x288 with 2 Axes>"
      ]
     },
     "metadata": {
      "needs_background": "light"
     },
     "output_type": "display_data"
    }
   ],
   "source": [
    "baseline_modeling(log_text_cv, df_text_X, df_text_y[0] )"
   ]
  },
  {
   "cell_type": "markdown",
   "metadata": {},
   "source": [
    "the cross validated logistic fit the training data slightly less."
   ]
  },
  {
   "cell_type": "markdown",
   "metadata": {},
   "source": [
    "# optimization"
   ]
  },
  {
   "cell_type": "markdown",
   "metadata": {},
   "source": [
    "## Logistic Regression"
   ]
  },
  {
   "cell_type": "code",
   "execution_count": 20,
   "metadata": {},
   "outputs": [],
   "source": [
    "# only use penalty_e with 'saga'\n",
    "penalty_e = 'elasticnet'\n",
    "solver_e = 'saga'\n",
    "\n",
    "#  'newton-cg', 'lbfgs', ‘sag’ and ‘saga’ handle L2 or no penalty\n",
    "# ‘liblinear’ solver supports both L1 and L2 regularization\n",
    "#  ‘elasticnet’ penalty is only supported by the ‘saga’ solver.\n",
    "penalty_l1_l2 = ['l1', 'l2']\n",
    "solvers_l1_l2 = ['saga', 'linlinear']\n",
    "\n",
    "# 'newton-cg' , 'lbfgs' , 'sag' , also not using 'saga'\n",
    "# using penalty_l2, these solvers can't use 'l1'\n",
    "penalty_l2 = ['l2', 'none']\n",
    "solvers_l2 = ['newton-cg', 'lbfgs', 'sag' ]\n",
    "\n",
    "# range of values for C\n",
    "C = np.logspace(-4, 4, 50)\n",
    "# {'C': [0.001, 0.01, 0.1, 1, 10, 100, 1000] }"
   ]
  },
  {
   "cell_type": "code",
   "execution_count": 21,
   "metadata": {},
   "outputs": [],
   "source": [
    "# hyperparameter space to iterate over\n",
    "distributions_l1_l2 = dict(C = np.logspace(-4, 4, 50),\n",
    "                    penalty = penalty_l1_l2,\n",
    "                    solver = solvers_l1_l2)\n",
    "\n",
    "distributions_l2 = dict(C = np.logspace(-4, 4, 50),\n",
    "                    penalty = penalty_l2,\n",
    "                    solver = solvers_l2)"
   ]
  },
  {
   "cell_type": "code",
   "execution_count": 22,
   "metadata": {},
   "outputs": [
    {
     "data": {
      "text/plain": [
       "{'solver': 'saga', 'penalty': 'l2', 'C': 0.0013894954943731374}"
      ]
     },
     "execution_count": 22,
     "metadata": {},
     "output_type": "execute_result"
    }
   ],
   "source": [
    "log_opt = LogisticRegression(random_state=42)\n",
    "\n",
    "log_ran = RandomizedSearchCV(log_opt, distributions_l1_l2, random_state=42)\n",
    "\n",
    "search = log_ran.fit(X_train_rating, y_train_rating)\n",
    "\n",
    "search.best_params_"
   ]
  },
  {
   "cell_type": "code",
   "execution_count": 23,
   "metadata": {},
   "outputs": [
    {
     "data": {
      "text/plain": [
       "0.7932604735883424"
      ]
     },
     "execution_count": 23,
     "metadata": {},
     "output_type": "execute_result"
    }
   ],
   "source": [
    "search.score(X_train_rating, y_train_rating)"
   ]
  },
  {
   "cell_type": "code",
   "execution_count": 24,
   "metadata": {},
   "outputs": [],
   "source": [
    "log_opt_l2 = LogisticRegression(random_state=42)\n",
    "log_ran_l2 = RandomizedSearchCV(log_opt_l2, distributions_l2, random_state=42)\n",
    "search_l2 = log_ran_l2.fit(X_train_rating, y_train_rating)"
   ]
  },
  {
   "cell_type": "code",
   "execution_count": 25,
   "metadata": {},
   "outputs": [
    {
     "data": {
      "text/plain": [
       "{'solver': 'newton-cg', 'penalty': 'none', 'C': 0.00014563484775012445}"
      ]
     },
     "execution_count": 25,
     "metadata": {},
     "output_type": "execute_result"
    }
   ],
   "source": [
    "search_l2.best_params_"
   ]
  },
  {
   "cell_type": "code",
   "execution_count": 26,
   "metadata": {},
   "outputs": [
    {
     "data": {
      "text/plain": [
       "0.8060109289617486"
      ]
     },
     "execution_count": 26,
     "metadata": {},
     "output_type": "execute_result"
    }
   ],
   "source": [
    "search_l2.score(X_train_rating, y_train_rating)"
   ]
  },
  {
   "cell_type": "code",
   "execution_count": 27,
   "metadata": {},
   "outputs": [
    {
     "data": {
      "text/plain": [
       "0.8060109289617486"
      ]
     },
     "execution_count": 27,
     "metadata": {},
     "output_type": "execute_result"
    }
   ],
   "source": [
    "log_cv.score(X_train_rating, y_train_rating)"
   ]
  },
  {
   "cell_type": "markdown",
   "metadata": {},
   "source": [
    "### grid search"
   ]
  },
  {
   "cell_type": "code",
   "execution_count": 28,
   "metadata": {},
   "outputs": [
    {
     "data": {
      "text/plain": [
       "GridSearchCV(cv=None, error_score=nan,\n",
       "             estimator=LogisticRegression(C=1.0, class_weight=None, dual=False,\n",
       "                                          fit_intercept=True,\n",
       "                                          intercept_scaling=1, l1_ratio=None,\n",
       "                                          max_iter=100, multi_class='auto',\n",
       "                                          n_jobs=None, penalty='l2',\n",
       "                                          random_state=42, solver='lbfgs',\n",
       "                                          tol=0.0001, verbose=0,\n",
       "                                          warm_start=False),\n",
       "             iid='deprecated', n_jobs=None,\n",
       "             param_grid={'C': [0.001, 0.01, 0.1, 1, 10, 100, 1000],\n",
       "                         'penalty': ('l1', 'l2'),\n",
       "                         'solver': ('saga', 'linlinear')},\n",
       "             pre_dispatch='2*n_jobs', refit=True, return_train_score=False,\n",
       "             scoring=None, verbose=0)"
      ]
     },
     "execution_count": 28,
     "metadata": {},
     "output_type": "execute_result"
    }
   ],
   "source": [
    "log_grid_opt = LogisticRegression(random_state=42)\n",
    "log_grid_params = {'penalty':('l1', 'l2'), 'solver':('saga', 'linlinear'), 'C':[0.001, 0.01, 0.1, 1, 10, 100, 1000]}\n",
    "log_grid = GridSearchCV(log_grid_opt, log_grid_params)\n",
    "log_grid.fit(X_train_rating, y_train_rating)\n",
    "# sorted(rf_grid.cv_results_.keys())"
   ]
  },
  {
   "cell_type": "code",
   "execution_count": 29,
   "metadata": {},
   "outputs": [
    {
     "data": {
      "text/plain": [
       "{'C': 0.001, 'penalty': 'l1', 'solver': 'saga'}"
      ]
     },
     "execution_count": 29,
     "metadata": {},
     "output_type": "execute_result"
    }
   ],
   "source": [
    "log_grid.best_params_"
   ]
  },
  {
   "cell_type": "code",
   "execution_count": 30,
   "metadata": {},
   "outputs": [
    {
     "data": {
      "text/plain": [
       "0.7932604735883424"
      ]
     },
     "execution_count": 30,
     "metadata": {},
     "output_type": "execute_result"
    }
   ],
   "source": [
    "log_grid.score(X_train_rating, y_train_rating)"
   ]
  },
  {
   "cell_type": "markdown",
   "metadata": {},
   "source": [
    "## random forest"
   ]
  },
  {
   "cell_type": "markdown",
   "metadata": {},
   "source": [
    "### random search"
   ]
  },
  {
   "cell_type": "code",
   "execution_count": 31,
   "metadata": {},
   "outputs": [],
   "source": [
    "# n_estimators -> number of trees in the forest default is 100\n",
    "n_estimators = list(range(100, 500, 20))\n",
    "# max_features\n",
    "max_features_rf = ['auto', 'sqrt', 'log2']\n",
    "criterion_rf = ['gini', 'entropy']\n",
    "\n",
    "# hyperparameter space to iterate over\n",
    "distributions_rf = dict(n_estimators = list(range(100, 500, 20)),\n",
    "                    max_features = max_features_rf,\n",
    "                    criterion = criterion_rf)"
   ]
  },
  {
   "cell_type": "code",
   "execution_count": 32,
   "metadata": {},
   "outputs": [
    {
     "data": {
      "text/plain": [
       "{'n_estimators': 100, 'max_features': 'log2', 'criterion': 'gini'}"
      ]
     },
     "execution_count": 32,
     "metadata": {},
     "output_type": "execute_result"
    }
   ],
   "source": [
    "rf_opt = RandomForestClassifier(random_state=42)\n",
    "\n",
    "rf_ran = RandomizedSearchCV(rf_opt, distributions_rf, random_state=42)\n",
    "\n",
    "search_rf = rf_ran.fit(X_train_rating, y_train_rating)\n",
    "\n",
    "search_rf.best_params_"
   ]
  },
  {
   "cell_type": "code",
   "execution_count": 33,
   "metadata": {},
   "outputs": [
    {
     "data": {
      "text/plain": [
       "{'n_estimators': 100, 'max_features': 'log2', 'criterion': 'gini'}"
      ]
     },
     "execution_count": 33,
     "metadata": {},
     "output_type": "execute_result"
    }
   ],
   "source": [
    "rf_opt = RandomForestClassifier(random_state=42)\n",
    "\n",
    "rf_ran = RandomizedSearchCV(rf_opt, distributions_rf, random_state=42)\n",
    "\n",
    "search_rf = rf_ran.fit(X_train_rating, y_train_rating)\n",
    "\n",
    "search_rf.best_params_"
   ]
  },
  {
   "cell_type": "code",
   "execution_count": 34,
   "metadata": {},
   "outputs": [
    {
     "data": {
      "text/plain": [
       "0.982695810564663"
      ]
     },
     "execution_count": 34,
     "metadata": {},
     "output_type": "execute_result"
    }
   ],
   "source": [
    "search_rf.score(X_train_rating, y_train_rating)"
   ]
  },
  {
   "cell_type": "code",
   "execution_count": 35,
   "metadata": {},
   "outputs": [
    {
     "data": {
      "text/plain": [
       "0.7709090909090909"
      ]
     },
     "execution_count": 35,
     "metadata": {},
     "output_type": "execute_result"
    }
   ],
   "source": [
    "search_rf.score(X_test_rating, y_test_rating)"
   ]
  },
  {
   "cell_type": "code",
   "execution_count": 36,
   "metadata": {},
   "outputs": [],
   "source": [
    "# confusion_matrix(df_y_test, log_text_test_preds)"
   ]
  },
  {
   "cell_type": "markdown",
   "metadata": {},
   "source": [
    "### grid search"
   ]
  },
  {
   "cell_type": "code",
   "execution_count": 37,
   "metadata": {},
   "outputs": [
    {
     "data": {
      "text/plain": [
       "GridSearchCV(cv=None, error_score=nan,\n",
       "             estimator=RandomForestClassifier(bootstrap=True, ccp_alpha=0.0,\n",
       "                                              class_weight=None,\n",
       "                                              criterion='gini', max_depth=None,\n",
       "                                              max_features='auto',\n",
       "                                              max_leaf_nodes=None,\n",
       "                                              max_samples=None,\n",
       "                                              min_impurity_decrease=0.0,\n",
       "                                              min_impurity_split=None,\n",
       "                                              min_samples_leaf=1,\n",
       "                                              min_samples_split=2,\n",
       "                                              min_weight_fraction_leaf=0.0,\n",
       "                                              n_estimators=100, n_jobs=None,\n",
       "                                              oob_score=False, random_state=42,\n",
       "                                              verbose=0, warm_start=False),\n",
       "             iid='deprecated', n_jobs=None,\n",
       "             param_grid={'criterion': ('gini', 'entropy'),\n",
       "                         'max_features': ('auto', 'sqrt', 'log2'),\n",
       "                         'n_estimators': [100, 200, 400]},\n",
       "             pre_dispatch='2*n_jobs', refit=True, return_train_score=False,\n",
       "             scoring=None, verbose=0)"
      ]
     },
     "execution_count": 37,
     "metadata": {},
     "output_type": "execute_result"
    }
   ],
   "source": [
    "rf_grid_opt = RandomForestClassifier(random_state=42)\n",
    "rf_grid_params = {'max_features':('auto', 'sqrt', 'log2'), 'n_estimators':[100, 200, 400], 'criterion':('gini', 'entropy')}\n",
    "rf_grid = GridSearchCV(rf_grid_opt, rf_grid_params)\n",
    "rf_grid.fit(X_train_rating, y_train_rating)\n",
    "# sorted(rf_grid.cv_results_.keys())"
   ]
  },
  {
   "cell_type": "code",
   "execution_count": 38,
   "metadata": {},
   "outputs": [
    {
     "data": {
      "text/plain": [
       "0.982695810564663"
      ]
     },
     "execution_count": 38,
     "metadata": {},
     "output_type": "execute_result"
    }
   ],
   "source": [
    "rf_grid.score(X_train_rating, y_train_rating)"
   ]
  },
  {
   "cell_type": "code",
   "execution_count": 39,
   "metadata": {},
   "outputs": [
    {
     "data": {
      "text/plain": [
       "0.7709090909090909"
      ]
     },
     "execution_count": 39,
     "metadata": {},
     "output_type": "execute_result"
    }
   ],
   "source": [
    "rf_grid.score(X_test_rating, y_test_rating)"
   ]
  },
  {
   "cell_type": "code",
   "execution_count": 40,
   "metadata": {},
   "outputs": [
    {
     "data": {
      "text/plain": [
       "{'criterion': 'gini', 'max_features': 'auto', 'n_estimators': 100}"
      ]
     },
     "execution_count": 40,
     "metadata": {},
     "output_type": "execute_result"
    }
   ],
   "source": [
    "rf_grid.best_params_"
   ]
  },
  {
   "cell_type": "markdown",
   "metadata": {},
   "source": [
    "# testing data"
   ]
  },
  {
   "cell_type": "markdown",
   "metadata": {},
   "source": [
    "### random forest"
   ]
  },
  {
   "cell_type": "code",
   "execution_count": 41,
   "metadata": {},
   "outputs": [
    {
     "data": {
      "text/plain": [
       "0.7709090909090909"
      ]
     },
     "execution_count": 41,
     "metadata": {},
     "output_type": "execute_result"
    },
    {
     "data": {
      "image/png": "[encoded data removed]",
      "text/plain": [
       "<Figure size 432x288 with 2 Axes>"
      ]
     },
     "metadata": {
      "needs_background": "light"
     },
     "output_type": "display_data"
    }
   ],
   "source": [
    "# rf on testing data\n",
    "# baseline_modeling(rf, X_train_rating, y_train_rating)\n",
    "rf_test_preds = rf.predict(X_test_rating)\n",
    "rf_confusion = confusion_matrix(y_test_rating, rf_test_preds)\n",
    "rf_plot_confusion = plot_confusion_matrix(rf, X_test_rating, y_test_rating, cmap='ocean', \n",
    "                                          display_labels=class_names).ax_.set_title('Numerical Random Forest')\n",
    "rf_score = rf.score(X_test_rating, y_test_rating)\n",
    "rf_score"
   ]
  },
  {
   "cell_type": "code",
   "execution_count": 42,
   "metadata": {},
   "outputs": [
    {
     "data": {
      "text/plain": [
       "0.8109090909090909"
      ]
     },
     "execution_count": 42,
     "metadata": {},
     "output_type": "execute_result"
    },
    {
     "data": {
      "image/png": "[encoded data removed]",
      "text/plain": [
       "<Figure size 432x288 with 2 Axes>"
      ]
     },
     "metadata": {
      "needs_background": "light"
     },
     "output_type": "display_data"
    }
   ],
   "source": [
    "# rf_text on testing data\n",
    "# baseline_modeling(rf, X_train_rating, y_train_rating)\n",
    "rf_text_test_preds = rf_text.predict(df_text_X_test)\n",
    "rf_text_confusion = confusion_matrix(df_text_y_test, rf_text_test_preds)\n",
    "rf_text_plot_confusion = plot_confusion_matrix(rf_text, df_text_X_test, df_text_y_test, cmap='ocean', \n",
    "                                          display_labels=class_names).ax_.set_title('Text Random Forest')\n",
    "rf_text_score = rf_text.score(df_text_X_test, df_text_y_test)\n",
    "rf_text_score"
   ]
  },
  {
   "cell_type": "code",
   "execution_count": 43,
   "metadata": {},
   "outputs": [
    {
     "data": {
      "text/plain": [
       "0.7709090909090909"
      ]
     },
     "execution_count": 43,
     "metadata": {},
     "output_type": "execute_result"
    },
    {
     "data": {
      "image/png": "[encoded data removed]",
      "text/plain": [
       "<Figure size 432x288 with 2 Axes>"
      ]
     },
     "metadata": {
      "needs_background": "light"
     },
     "output_type": "display_data"
    }
   ],
   "source": [
    "# rf_grid\n",
    "# rf_text on testing data\n",
    "# baseline_modeling(rf, X_train_rating, y_train_rating)\n",
    "rf_grid_test_preds = rf_grid.predict(X_test_rating)\n",
    "rf_grid_confusion = confusion_matrix(y_test_rating, rf_test_preds)\n",
    "rf_grid_plot_confusion = plot_confusion_matrix(rf_grid, X_test_rating, y_test_rating, cmap='ocean', \n",
    "                                          display_labels=class_names) .ax_.set_title('Numerical Random Forest GridCV')\n",
    "rf_grid_score = rf_grid.score(X_test_rating, y_test_rating)\n",
    "rf_grid_score"
   ]
  },
  {
   "cell_type": "markdown",
   "metadata": {},
   "source": [
    "### logistic regression"
   ]
  },
  {
   "cell_type": "code",
   "execution_count": 44,
   "metadata": {},
   "outputs": [
    {
     "data": {
      "text/plain": [
       "0.7927272727272727"
      ]
     },
     "execution_count": 44,
     "metadata": {},
     "output_type": "execute_result"
    },
    {
     "data": {
      "image/png": "[encoded data removed]",
      "text/plain": [
       "<Figure size 432x288 with 2 Axes>"
      ]
     },
     "metadata": {
      "needs_background": "light"
     },
     "output_type": "display_data"
    }
   ],
   "source": [
    "# log on testing data\n",
    "# baseline_modeling(rf, X_train_rating, y_train_rating)\n",
    "log_cv_test_preds = log_cv.predict(X_test_rating)\n",
    "log_cv_confusion = confusion_matrix(y_test_rating, log_cv_test_preds)\n",
    "log_cv_plot_confusion = plot_confusion_matrix(log_cv, X_test_rating, y_test_rating, cmap='ocean',\n",
    "                                           display_labels=class_names).ax_.set_title('Numerical Logistic Regression CV')\n",
    "log_cv_score = log.score(X_test_rating, y_test_rating)\n",
    "log_cv_score"
   ]
  },
  {
   "cell_type": "markdown",
   "metadata": {},
   "source": [
    "# TODO\n",
    "- check randomized search\n",
    "- save the rf_text model"
   ]
  },
  {
   "cell_type": "code",
   "execution_count": 45,
   "metadata": {},
   "outputs": [
    {
     "data": {
      "text/plain": [
       "RandomForestClassifier(bootstrap=True, ccp_alpha=0.0, class_weight=None,\n",
       "                       criterion='gini', max_depth=None, max_features='auto',\n",
       "                       max_leaf_nodes=None, max_samples=None,\n",
       "                       min_impurity_decrease=0.0, min_impurity_split=None,\n",
       "                       min_samples_leaf=1, min_samples_split=2,\n",
       "                       min_weight_fraction_leaf=0.0, n_estimators=100,\n",
       "                       n_jobs=None, oob_score=False, random_state=42, verbose=0,\n",
       "                       warm_start=False)"
      ]
     },
     "execution_count": 45,
     "metadata": {},
     "output_type": "execute_result"
    }
   ],
   "source": [
    "rf_text"
   ]
  },
  {
   "cell_type": "code",
   "execution_count": 49,
   "metadata": {},
   "outputs": [],
   "source": [
    "rf_text_pickle = 'models/rf_text_model.sav'\n",
    "# pickle.dump(rf_text, open(rf_text_pickle, 'wb'))"
   ]
  },
  {
   "cell_type": "code",
   "execution_count": 50,
   "metadata": {},
   "outputs": [
    {
     "data": {
      "text/plain": [
       "'models/rf_text_model.sav'"
      ]
     },
     "execution_count": 50,
     "metadata": {},
     "output_type": "execute_result"
    }
   ],
   "source": [
    "rf_text_pickle"
   ]
  },
  {
   "cell_type": "code",
   "execution_count": null,
   "metadata": {},
   "outputs": [],
   "source": []
  }
 ],
 "metadata": {
  "kernelspec": {
   "display_name": "Python 3",
   "language": "python",
   "name": "python3"
  },
  "language_info": {
   "codemirror_mode": {
    "name": "ipython",
    "version": 3
   },
   "file_extension": ".py",
   "mimetype": "text/x-python",
   "name": "python",
   "nbconvert_exporter": "python",
   "pygments_lexer": "ipython3",
   "version": "3.7.1"
  },
  "toc": {
   "base_numbering": 1,
   "nav_menu": {},
   "number_sections": true,
   "sideBar": true,
   "skip_h1_title": false,
   "title_cell": "Table of Contents",
   "title_sidebar": "Contents",
   "toc_cell": false,
   "toc_position": {},
   "toc_section_display": true,
   "toc_window_display": true
  }
 },
 "nbformat": 4,
 "nbformat_minor": 2
}
