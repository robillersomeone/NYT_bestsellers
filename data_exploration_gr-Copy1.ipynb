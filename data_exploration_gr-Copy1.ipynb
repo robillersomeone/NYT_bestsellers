{
 "cells": [
  {
   "cell_type": "markdown",
   "metadata": {},
   "source": [
    "# Good Reads Books Dataframe"
   ]
  },
  {
   "cell_type": "markdown",
   "metadata": {},
   "source": [
    "Using BeautifulSoup and requests for webscraping."
   ]
  },
  {
   "cell_type": "code",
   "execution_count": 175,
   "metadata": {},
   "outputs": [],
   "source": [
    "from bs4 import BeautifulSoup as bs\n",
    "import urllib.request\n",
    "import requests\n",
    "import re\n",
    "import time"
   ]
  },
  {
   "cell_type": "markdown",
   "metadata": {},
   "source": [
    "Testing out the initial web page."
   ]
  },
  {
   "cell_type": "code",
   "execution_count": 2,
   "metadata": {},
   "outputs": [],
   "source": [
    "link = 'https://www.goodreads.com/book/show/39863520-how-to-date-men-when-you-hate-men'\n",
    "page = urllib.request.urlopen(link)\n",
    "\n",
    "soup = bs(page, 'html.parser')\n",
    "\n",
    "#soup.prettify()"
   ]
  },
  {
   "cell_type": "code",
   "execution_count": 3,
   "metadata": {},
   "outputs": [
    {
     "data": {
      "text/plain": [
       "<title>\n",
       "How to Date Men When You Hate Men by Blythe Roberson\n",
       "</title>"
      ]
     },
     "execution_count": 3,
     "metadata": {},
     "output_type": "execute_result"
    }
   ],
   "source": [
    "soup.title"
   ]
  },
  {
   "cell_type": "markdown",
   "metadata": {},
   "source": [
    "Get a list of URLs for 15 comments about a book."
   ]
  },
  {
   "cell_type": "code",
   "execution_count": 4,
   "metadata": {},
   "outputs": [
    {
     "data": {
      "text/plain": [
       "['https://www.goodreads.com/review/show/2485843786',\n",
       " 'https://www.goodreads.com/review/show/2526013822',\n",
       " 'https://www.goodreads.com/review/show/2531161402',\n",
       " 'https://www.goodreads.com/review/show/2523399786',\n",
       " 'https://www.goodreads.com/review/show/2659372184',\n",
       " 'https://www.goodreads.com/review/show/2528847854',\n",
       " 'https://www.goodreads.com/review/show/2557301544',\n",
       " 'https://www.goodreads.com/review/show/2510917265',\n",
       " 'https://www.goodreads.com/review/show/2663926644',\n",
       " 'https://www.goodreads.com/review/show/2592884376',\n",
       " 'https://www.goodreads.com/review/show/2559122775',\n",
       " 'https://www.goodreads.com/review/show/2549570510',\n",
       " 'https://www.goodreads.com/review/show/2553921881',\n",
       " 'https://www.goodreads.com/review/show/2553192610',\n",
       " 'https://www.goodreads.com/review/show/2654676052',\n",
       " 'https://www.goodreads.com/review/show/2523825663',\n",
       " 'https://www.goodreads.com/review/show/2612203671']"
      ]
     },
     "execution_count": 4,
     "metadata": {},
     "output_type": "execute_result"
    }
   ],
   "source": [
    "url = 'https://www.goodreads.com/book/reviews/39863520-how-to-date-men-when-you-hate-men?rating=&text_only=true'\n",
    "r = requests.get(url).content\n",
    "prefix = 'https://www.goodreads.com/review/show/'\n",
    "[prefix + x.split('\\\\')[0] for x in str(r).split(prefix)][1:]\n"
   ]
  },
  {
   "cell_type": "markdown",
   "metadata": {},
   "source": [
    "## URLs for the top books 2018"
   ]
  },
  {
   "cell_type": "markdown",
   "metadata": {},
   "source": [
    "We started by getting the webpages for the best fiction books of 2018."
   ]
  },
  {
   "cell_type": "code",
   "execution_count": 5,
   "metadata": {},
   "outputs": [],
   "source": [
    "url_2018 = 'https://www.goodreads.com/choiceawards/best-fiction-books-2018'\n",
    "r = urllib.request.urlopen(url_2018)"
   ]
  },
  {
   "cell_type": "code",
   "execution_count": 6,
   "metadata": {},
   "outputs": [],
   "source": [
    "soup = bs(r, 'html.parser')\n",
    "#soup"
   ]
  },
  {
   "cell_type": "code",
   "execution_count": 7,
   "metadata": {},
   "outputs": [],
   "source": [
    "# looking at all the divs with this class\n",
    "#soup.find('div', {\"class\":\"pollContents\"})"
   ]
  },
  {
   "cell_type": "code",
   "execution_count": 8,
   "metadata": {},
   "outputs": [],
   "source": [
    "coolcats = soup.find_all('a', {\"class\":\"pollAnswer__bookLink\"})[0]"
   ]
  },
  {
   "cell_type": "markdown",
   "metadata": {},
   "source": [
    "Making a list to get the URLs from each book on the best fiction 2018 page."
   ]
  },
  {
   "cell_type": "code",
   "execution_count": 9,
   "metadata": {},
   "outputs": [],
   "source": [
    "fiction__book_list_2018 = []\n",
    "for a in soup.find_all('a',{\"class\":\"pollAnswer__bookLink\"},  href=True):\n",
    "    fiction__book_list_2018.append('https://www.goodreads.com' + (a['href']))"
   ]
  },
  {
   "cell_type": "code",
   "execution_count": 10,
   "metadata": {},
   "outputs": [
    {
     "data": {
      "text/plain": [
       "['https://www.goodreads.com/book/show/35791968-still-me?from_choice=true',\n",
       " 'https://www.goodreads.com/book/show/33590210-an-american-marriage?from_choice=true',\n",
       " 'https://www.goodreads.com/book/show/36373463-us-against-you?from_choice=true',\n",
       " 'https://www.goodreads.com/book/show/39280445-nine-perfect-strangers?from_choice=true',\n",
       " 'https://www.goodreads.com/book/show/38186611-an-absolutely-remarkable-thing?from_choice=true',\n",
       " 'https://www.goodreads.com/book/show/38820047-killing-commendatore?from_choice=true',\n",
       " 'https://www.goodreads.com/book/show/36692478-there-there?from_choice=true',\n",
       " 'https://www.goodreads.com/book/show/34275212-girls-burn-brighter?from_choice=true',\n",
       " 'https://www.goodreads.com/book/show/36723031-all-we-ever-wanted?from_choice=true',\n",
       " 'https://www.goodreads.com/book/show/36082326-every-note-played?from_choice=true',\n",
       " 'https://www.goodreads.com/book/show/35480518-the-female-persuasion?from_choice=true',\n",
       " 'https://www.goodreads.com/book/show/36840397-a-place-for-us?from_choice=true',\n",
       " 'https://www.goodreads.com/book/show/39072220-a-spark-of-light?from_choice=true',\n",
       " 'https://www.goodreads.com/book/show/36203391-my-year-of-rest-and-relaxation?from_choice=true',\n",
       " 'https://www.goodreads.com/book/show/34262106-everything-here-is-beautiful?from_choice=true',\n",
       " 'https://www.goodreads.com/book/show/35187203-the-overstory?from_choice=true',\n",
       " 'https://www.goodreads.com/book/show/35952871-you-think-it-i-ll-say-it?from_choice=true',\n",
       " 'https://www.goodreads.com/book/show/36249638-how-to-walk-away?from_choice=true',\n",
       " 'https://www.goodreads.com/book/show/36723245-the-book-of-essie?from_choice=true',\n",
       " 'https://www.goodreads.com/book/show/36373648-the-mars-room?from_choice=true']"
      ]
     },
     "execution_count": 10,
     "metadata": {},
     "output_type": "execute_result"
    }
   ],
   "source": [
    "#urls for all best fiction books 2018 (for one genre only)\n",
    "# there are 20 books on each of the best of pages\n",
    "fiction__book_list_2018"
   ]
  },
  {
   "cell_type": "code",
   "execution_count": 11,
   "metadata": {},
   "outputs": [],
   "source": [
    "#this pulls urls for every genre\n",
    "soup.find_all('a', {'class':'categoriesList__categoryLink categoriesList__categoryLink--current'})\n",
    "choice_rewards_genre_list_2018 = []\n",
    "for a in soup.find_all('a',{'class':\"categoriesList__categoryLink categoriesList__categoryLink--current\"},  href=True):\n",
    "    choice_rewards_genre_list_2018.append('https://www.goodreads.com' + (a['href']))\n"
   ]
  },
  {
   "cell_type": "code",
   "execution_count": 12,
   "metadata": {},
   "outputs": [
    {
     "data": {
      "text/plain": [
       "['https://www.goodreads.com/choiceawards/best-mystery-thriller-books-2018',\n",
       " 'https://www.goodreads.com/choiceawards/best-historical-fiction-books-2018',\n",
       " 'https://www.goodreads.com/choiceawards/best-fantasy-books-2018',\n",
       " 'https://www.goodreads.com/choiceawards/best-of-the-best-2018',\n",
       " 'https://www.goodreads.com/choiceawards/best-romance-books-2018',\n",
       " 'https://www.goodreads.com/choiceawards/best-science-fiction-books-2018',\n",
       " 'https://www.goodreads.com/choiceawards/best-horror-books-2018',\n",
       " 'https://www.goodreads.com/choiceawards/best-humor-books-2018',\n",
       " 'https://www.goodreads.com/choiceawards/best-nonfiction-books-2018',\n",
       " 'https://www.goodreads.com/choiceawards/best-memoir-autobiography-books-2018',\n",
       " 'https://www.goodreads.com/choiceawards/best-history-biography-books-2018',\n",
       " 'https://www.goodreads.com/choiceawards/best-science-technology-books-2018',\n",
       " 'https://www.goodreads.com/choiceawards/best-food-cookbooks-2018',\n",
       " 'https://www.goodreads.com/choiceawards/best-graphic-novels-comics-2018',\n",
       " 'https://www.goodreads.com/choiceawards/best-poetry-books-2018',\n",
       " 'https://www.goodreads.com/choiceawards/best-debut-author-2018',\n",
       " 'https://www.goodreads.com/choiceawards/best-young-adult-fiction-books-2018',\n",
       " 'https://www.goodreads.com/choiceawards/best-young-adult-fantasy-books-2018',\n",
       " 'https://www.goodreads.com/choiceawards/best-childrens-books-2018',\n",
       " 'https://www.goodreads.com/choiceawards/best-picture-books-2018']"
      ]
     },
     "execution_count": 12,
     "metadata": {},
     "output_type": "execute_result"
    }
   ],
   "source": [
    "choice_rewards_genre_list_2018"
   ]
  },
  {
   "cell_type": "markdown",
   "metadata": {},
   "source": [
    "book_list_2018 is all URLs for the best books of 2018."
   ]
  },
  {
   "cell_type": "code",
   "execution_count": 13,
   "metadata": {},
   "outputs": [],
   "source": [
    "book_list_2018 = []\n",
    "for i in choice_rewards_genre_list_2018:\n",
    "    url = i\n",
    "    r = urllib.request.urlopen(url)\n",
    "    soup = bs(r, 'html.parser')\n",
    "    for a in soup.find_all('a',{\"class\":\"pollAnswer__bookLink\"},  href=True):\n",
    "        book_list_2018.append('https://www.goodreads.com' + (a['href']))"
   ]
  },
  {
   "cell_type": "code",
   "execution_count": 14,
   "metadata": {},
   "outputs": [
    {
     "data": {
      "text/plain": [
       "440"
      ]
     },
     "execution_count": 14,
     "metadata": {},
     "output_type": "execute_result"
    }
   ],
   "source": [
    "book_list_2018 = book_list_2018 + fiction__book_list_2018\n",
    "len(book_list_2018 + fiction__book_list_2018)"
   ]
  },
  {
   "cell_type": "code",
   "execution_count": 15,
   "metadata": {},
   "outputs": [
    {
     "data": {
      "text/plain": [
       "420"
      ]
     },
     "execution_count": 15,
     "metadata": {},
     "output_type": "execute_result"
    }
   ],
   "source": [
    "# this is all urls for the best books of 2018\n",
    "len(book_list_2018)"
   ]
  },
  {
   "cell_type": "code",
   "execution_count": 146,
   "metadata": {},
   "outputs": [
    {
     "data": {
      "text/plain": [
       "['https://www.goodreads.com/book/show/36124936-the-outsider?from_choice=true',\n",
       " 'https://www.goodreads.com/book/show/34848682-the-woman-in-the-window?from_choice=true',\n",
       " 'https://www.goodreads.com/book/show/40696964-lethal-white?from_choice=true',\n",
       " 'https://www.goodreads.com/book/show/34189556-the-wife-between-us?from_choice=true',\n",
       " 'https://www.goodreads.com/book/show/35297426-then-she-was-gone?from_choice=true',\n",
       " 'https://www.goodreads.com/book/show/35085389-the-president-is-missing?from_choice=true',\n",
       " 'https://www.goodreads.com/book/show/36373481-the-death-of-mrs-westaway?from_choice=true',\n",
       " 'https://www.goodreads.com/book/show/39723581-the-witch-elm?from_choice=true',\n",
       " 'https://www.goodreads.com/book/show/34275222-force-of-nature?from_choice=true',\n",
       " 'https://www.goodreads.com/book/show/34275231-sometimes-i-lie?from_choice=true',\n",
       " 'https://www.goodreads.com/book/show/36337550-the-7-deaths-of-evelyn-hardcastle?from_choice=true',\n",
       " 'https://www.goodreads.com/book/show/36388243-something-in-the-water?from_choice=true',\n",
       " 'https://www.goodreads.com/book/show/35356382-the-chalk-man?from_choice=true',\n",
       " 'https://www.goodreads.com/book/show/35133064-the-widows-of-malabar-hill?from_choice=true',\n",
       " 'https://www.goodreads.com/book/show/37638161-leverage-in-death?from_choice=true',\n",
       " 'https://www.goodreads.com/book/show/36448554-bring-me-back?from_choice=true',\n",
       " 'https://www.goodreads.com/book/show/35305625-the-broken-girls?from_choice=true',\n",
       " 'https://www.goodreads.com/book/show/36750068-the-last-time-i-lied?from_choice=true',\n",
       " 'https://www.goodreads.com/book/show/36604959-jane-doe?from_choice=true',\n",
       " 'https://www.goodreads.com/book/show/38496758-wrecked?from_choice=true',\n",
       " 'https://www.goodreads.com/book/show/34927828-the-great-alone?from_choice=true',\n",
       " 'https://www.goodreads.com/book/show/37486222-the-tattooist-of-auschwitz?from_choice=true',\n",
       " 'https://www.goodreads.com/book/show/30288282-the-immortalists?from_choice=true',\n",
       " 'https://www.goodreads.com/book/show/38530939-the-clockmaker-s-daughter?from_choice=true',\n",
       " 'https://www.goodreads.com/book/show/37703550-where-the-crawdads-sing?from_choice=true',\n",
       " 'https://www.goodreads.com/book/show/34374628-next-year-in-havana?from_choice=true',\n",
       " 'https://www.goodreads.com/book/show/36373417-the-map-of-salt-and-stars?from_choice=true',\n",
       " 'https://www.goodreads.com/book/show/37946414-transcription?from_choice=true',\n",
       " 'https://www.goodreads.com/book/show/36723246-warlight?from_choice=true',\n",
       " 'https://www.goodreads.com/book/show/36381085-the-summer-wives?from_choice=true',\n",
       " 'https://www.goodreads.com/book/show/35397026-my-dear-hamilton?from_choice=true',\n",
       " 'https://www.goodreads.com/book/show/38236861-unsheltered?from_choice=true',\n",
       " 'https://www.goodreads.com/book/show/36097619-the-tuscan-child?from_choice=true',\n",
       " 'https://www.goodreads.com/book/show/36636727-fruit-of-the-drunken-tree?from_choice=true',\n",
       " 'https://www.goodreads.com/book/show/36614133-love-and-ruin?from_choice=true',\n",
       " 'https://www.goodreads.com/book/show/35889209-white-rose-black-forest?from_choice=true',\n",
       " 'https://www.goodreads.com/book/show/37946116-war-of-the-wolf?from_choice=true',\n",
       " 'https://www.goodreads.com/book/show/39828805-bellewether?from_choice=true',\n",
       " 'https://www.goodreads.com/book/show/35995489-the-extraordinary-life-of-sam-hell?from_choice=true',\n",
       " 'https://www.goodreads.com/book/show/36739329-the-great-believers?from_choice=true',\n",
       " 'https://www.goodreads.com/book/show/35959740-circe?from_choice=true',\n",
       " 'https://www.goodreads.com/book/show/36521316-the-shape-of-water?from_choice=true',\n",
       " 'https://www.goodreads.com/book/show/37168303-spinning-silver?from_choice=true',\n",
       " 'https://www.goodreads.com/book/show/34311452-year-one?from_choice=true',\n",
       " 'https://www.goodreads.com/book/show/35126152-iron-and-magic?from_choice=true',\n",
       " 'https://www.goodreads.com/book/show/35887181-the-poppy-war?from_choice=true',\n",
       " 'https://www.goodreads.com/book/show/27366528-beneath-the-sugar-sky?from_choice=true',\n",
       " 'https://www.goodreads.com/book/show/35457273-high-voltage?from_choice=true',\n",
       " 'https://www.goodreads.com/book/show/35839437-burn-bright?from_choice=true',\n",
       " 'https://www.goodreads.com/book/show/35710709-grey-sister?from_choice=true',\n",
       " 'https://www.goodreads.com/book/show/36204070-the-book-of-m?from_choice=true',\n",
       " 'https://www.goodreads.com/book/show/34050917-the-girl-in-the-tower?from_choice=true',\n",
       " 'https://www.goodreads.com/book/show/35342928-age-of-war?from_choice=true',\n",
       " 'https://www.goodreads.com/book/show/40629159-the-land?from_choice=true',\n",
       " 'https://www.goodreads.com/book/show/38395454-time-s-convert?from_choice=true',\n",
       " 'https://www.goodreads.com/book/show/17333180-magic-triumphs?from_choice=true',\n",
       " 'https://www.goodreads.com/book/show/35271523-senlin-ascends?from_choice=true',\n",
       " 'https://www.goodreads.com/book/show/28811018-wrath-of-empire?from_choice=true',\n",
       " 'https://www.goodreads.com/book/show/37007781-foundryside?from_choice=true',\n",
       " 'https://www.goodreads.com/book/show/35052265-bloody-rose?from_choice=true',\n",
       " 'https://www.goodreads.com/book/show/32075671-the-hate-u-give?from_choice=true',\n",
       " 'https://www.goodreads.com/book/show/18143977-all-the-light-we-cannot-see?from_choice=true',\n",
       " 'https://www.goodreads.com/book/show/26073150-a-court-of-mist-and-fury?from_choice=true',\n",
       " 'https://www.goodreads.com/book/show/4667024-the-help?from_choice=true',\n",
       " 'https://www.goodreads.com/book/show/21853621-the-nightingale?from_choice=true',\n",
       " 'https://www.goodreads.com/book/show/18007564-the-martian?from_choice=true',\n",
       " 'https://www.goodreads.com/book/show/12837725-gone-girl?from_choice=true',\n",
       " 'https://www.goodreads.com/book/show/15783514-the-ocean-at-the-end-of-the-lane?from_choice=true',\n",
       " 'https://www.goodreads.com/book/show/6148028-catching-fire?from_choice=true',\n",
       " 'https://www.goodreads.com/book/show/11870085-the-fault-in-our-stars?from_choice=true',\n",
       " 'https://www.goodreads.com/book/show/10644930-11-22-63?from_choice=true',\n",
       " 'https://www.goodreads.com/book/show/18006496-queen-of-shadows?from_choice=true',\n",
       " 'https://www.goodreads.com/book/show/13422727-a-dance-with-dragons?from_choice=true',\n",
       " 'https://www.goodreads.com/book/show/34273236-little-fires-everywhere?from_choice=true',\n",
       " 'https://www.goodreads.com/book/show/15745753-eleanor-park?from_choice=true',\n",
       " 'https://www.goodreads.com/book/show/27276318-it-ends-with-us?from_choice=true',\n",
       " 'https://www.goodreads.com/book/show/15839976-red-rising?from_choice=true',\n",
       " 'https://www.goodreads.com/book/show/23766634-a-court-of-wings-and-ruin?from_choice=true',\n",
       " 'https://www.goodreads.com/book/show/32148570-before-we-were-yours?from_choice=true',\n",
       " 'https://www.goodreads.com/book/show/18460392-all-the-bright-places?from_choice=true',\n",
       " 'https://www.goodreads.com/book/show/36577586-the-kiss-quotient?from_choice=true',\n",
       " 'https://www.goodreads.com/book/show/37588357-all-your-perfects?from_choice=true',\n",
       " 'https://www.goodreads.com/book/show/35259631-the-wedding-date?from_choice=true',\n",
       " 'https://www.goodreads.com/book/show/35819729-the-thief?from_choice=true',\n",
       " 'https://www.goodreads.com/book/show/32024902-darker?from_choice=true',\n",
       " 'https://www.goodreads.com/book/show/37769929-pestilence?from_choice=true',\n",
       " 'https://www.goodreads.com/book/show/38503484-from-lukov-with-love?from_choice=true',\n",
       " 'https://www.goodreads.com/book/show/34466910-roomies?from_choice=true',\n",
       " 'https://www.goodreads.com/book/show/36587905-the-hookup?from_choice=true',\n",
       " 'https://www.goodreads.com/book/show/35271196-hello-stranger?from_choice=true',\n",
       " 'https://www.goodreads.com/book/show/39862558-birthday-girl?from_choice=true',\n",
       " 'https://www.goodreads.com/book/show/36593240-sex-not-love?from_choice=true',\n",
       " 'https://www.goodreads.com/book/show/35271238-a-princess-in-theory?from_choice=true',\n",
       " 'https://www.goodreads.com/book/show/39086215-robbie?from_choice=true',\n",
       " 'https://www.goodreads.com/book/show/36301036-wicked-and-the-wallflower?from_choice=true',\n",
       " 'https://www.goodreads.com/book/show/40189670-josh-and-hazel-s-guide-to-not-dating?from_choice=true',\n",
       " 'https://www.goodreads.com/book/show/36395874-dr-strange-beard?from_choice=true',\n",
       " 'https://www.goodreads.com/book/show/36373564-the-simple-wild?from_choice=true',\n",
       " 'https://www.goodreads.com/book/show/36395764-marriage-of-inconvenience?from_choice=true',\n",
       " 'https://www.goodreads.com/book/show/39655232-alphas-like-us?from_choice=true',\n",
       " 'https://www.goodreads.com/book/show/37534835-vengeful?from_choice=true',\n",
       " 'https://www.goodreads.com/book/show/33257757-iron-gold?from_choice=true',\n",
       " 'https://www.goodreads.com/book/show/37796866-vox?from_choice=true',\n",
       " 'https://www.goodreads.com/book/show/35820656-only-human?from_choice=true',\n",
       " 'https://www.goodreads.com/book/show/35099035-red-clocks?from_choice=true',\n",
       " 'https://www.goodreads.com/book/show/34386617-the-night-masquerade?from_choice=true',\n",
       " 'https://www.goodreads.com/book/show/33357930-persepolis-rising?from_choice=true',\n",
       " 'https://www.goodreads.com/book/show/36223860-artificial-condition?from_choice=true',\n",
       " 'https://www.goodreads.com/book/show/35230913-the-oracle-year?from_choice=true',\n",
       " 'https://www.goodreads.com/book/show/35018901-head-on?from_choice=true',\n",
       " 'https://www.goodreads.com/book/show/36220698-record-of-a-spaceborn-few?from_choice=true',\n",
       " 'https://www.goodreads.com/book/show/36385830-alliances?from_choice=true',\n",
       " 'https://www.goodreads.com/book/show/36348525-severance?from_choice=true',\n",
       " 'https://www.goodreads.com/book/show/33080122-the-calculating-stars?from_choice=true',\n",
       " 'https://www.goodreads.com/book/show/38362809-rosewater?from_choice=true',\n",
       " 'https://www.goodreads.com/book/show/32076670-ball-lightning?from_choice=true',\n",
       " 'https://www.goodreads.com/book/show/35297390-space-opera?from_choice=true',\n",
       " 'https://www.goodreads.com/book/show/33413556-the-gone-world?from_choice=true',\n",
       " 'https://www.goodreads.com/book/show/36373688-revenant-gun?from_choice=true',\n",
       " 'https://www.goodreads.com/book/show/37534901-the-consuming-fire?from_choice=true',\n",
       " 'https://www.goodreads.com/book/show/38355410-elevation?from_choice=true',\n",
       " 'https://www.goodreads.com/book/show/35410511-baby-teeth?from_choice=true',\n",
       " 'https://www.goodreads.com/book/show/38363799-dracul?from_choice=true',\n",
       " 'https://www.goodreads.com/book/show/34449265-the-passion-of-cleopatra?from_choice=true',\n",
       " 'https://www.goodreads.com/book/show/36373398-the-woman-in-the-woods?from_choice=true',\n",
       " 'https://www.goodreads.com/book/show/36381091-the-cabin-at-the-end-of-the-world?from_choice=true',\n",
       " 'https://www.goodreads.com/book/show/37824221-craven-manor?from_choice=true',\n",
       " 'https://www.goodreads.com/book/show/30285766-the-hunger?from_choice=true',\n",
       " 'https://www.goodreads.com/book/show/39790706-we-sold-our-souls?from_choice=true',\n",
       " 'https://www.goodreads.com/book/show/39217966-flight-or-fright?from_choice=true',\n",
       " 'https://www.goodreads.com/book/show/36342156-the-anomaly?from_choice=true',\n",
       " 'https://www.goodreads.com/book/show/35035160-the-merry-spinster?from_choice=true',\n",
       " 'https://www.goodreads.com/book/show/37510662-foe?from_choice=true',\n",
       " 'https://www.goodreads.com/book/show/39707880-the-carrow-haunt?from_choice=true',\n",
       " 'https://www.goodreads.com/book/show/35655156-the-summer-children?from_choice=true',\n",
       " 'https://www.goodreads.com/book/show/38608066-the-siren-and-the-specter?from_choice=true',\n",
       " 'https://www.goodreads.com/book/show/38392331-generation-z?from_choice=true',\n",
       " 'https://www.goodreads.com/book/show/35297544-zero-day?from_choice=true',\n",
       " 'https://www.goodreads.com/book/show/36049101-the-devil-and-the-deep?from_choice=true',\n",
       " 'https://www.goodreads.com/book/show/36694914-the-labyrinth-index?from_choice=true',\n",
       " 'https://www.goodreads.com/book/show/34974310-the-last-black-unicorn?from_choice=true',\n",
       " 'https://www.goodreads.com/book/show/36341620-calypso?from_choice=true',\n",
       " 'https://www.goodreads.com/book/show/38919266-the-greatest-love-story-ever-told?from_choice=true',\n",
       " 'https://www.goodreads.com/book/show/40598936-this-will-only-hurt-a-little?from_choice=true',\n",
       " 'https://www.goodreads.com/book/show/36875820-hope-never-dies?from_choice=true',\n",
       " 'https://www.goodreads.com/book/show/36467874-so-close-to-being-the-sh-t-y-all-don-t-even-know?from_choice=true',\n",
       " 'https://www.goodreads.com/book/show/38649805-everything-s-trash-but-it-s-okay?from_choice=true',\n",
       " 'https://www.goodreads.com/book/show/36261280-i-see-life-through-ros--colored-glasses?from_choice=true',\n",
       " 'https://www.goodreads.com/book/show/35959613-how-to-american?from_choice=true',\n",
       " 'https://www.goodreads.com/book/show/40170039-how-not-to-get-shot?from_choice=true',\n",
       " 'https://www.goodreads.com/book/show/38532145-my-squirrel-days?from_choice=true',\n",
       " 'https://www.goodreads.com/book/show/39022876-always-look-on-the-bright-side-of-life?from_choice=true',\n",
       " 'https://www.goodreads.com/book/show/36373406-my-life-as-a-goddess?from_choice=true',\n",
       " 'https://www.goodreads.com/book/show/36220700-springfield-confidential?from_choice=true',\n",
       " 'https://www.goodreads.com/book/show/30531870-just-the-funny-parts?from_choice=true',\n",
       " 'https://www.goodreads.com/book/show/36546633-hits-and-misses?from_choice=true',\n",
       " 'https://www.goodreads.com/book/show/35259574-look-alive-out-there?from_choice=true',\n",
       " 'https://www.goodreads.com/book/show/36742998-your-dad-stole-my-rake?from_choice=true',\n",
       " 'https://www.goodreads.com/book/show/37954228-feminasty?from_choice=true',\n",
       " 'https://www.goodreads.com/book/show/36906099-maeve-in-america?from_choice=true',\n",
       " 'https://www.goodreads.com/book/show/35271190-i-ll-be-gone-in-the-dark?from_choice=true',\n",
       " 'https://www.goodreads.com/book/show/35754629-girl-wash-your-face?from_choice=true',\n",
       " 'https://www.goodreads.com/book/show/41012533-fear?from_choice=true',\n",
       " 'https://www.goodreads.com/book/show/40009804-whiskey-in-a-teacup?from_choice=true',\n",
       " 'https://www.goodreads.com/book/show/39507318-the-library-book?from_choice=true',\n",
       " 'https://www.goodreads.com/book/show/38820046-21-lessons-for-the-21st-century?from_choice=true',\n",
       " 'https://www.goodreads.com/book/show/36381052-not-that-bad?from_choice=true',\n",
       " 'https://www.goodreads.com/book/show/35099718-so-you-want-to-talk-about-race?from_choice=true',\n",
       " 'https://www.goodreads.com/book/show/30257963-12-rules-for-life?from_choice=true',\n",
       " 'https://www.goodreads.com/book/show/40933227-factfulness?from_choice=true',\n",
       " 'https://www.goodreads.com/book/show/37976541-bad-blood?from_choice=true',\n",
       " 'https://www.goodreads.com/book/show/35820413-fascism?from_choice=true',\n",
       " 'https://www.goodreads.com/book/show/35181833-all-american-murder?from_choice=true',\n",
       " 'https://www.goodreads.com/book/show/35696171-enlightenment-now?from_choice=true',\n",
       " 'https://www.goodreads.com/book/show/40121378-atomic-habits?from_choice=true',\n",
       " 'https://www.goodreads.com/book/show/36222733-russian-roulette?from_choice=true',\n",
       " 'https://www.goodreads.com/book/show/37486540-dopesick?from_choice=true',\n",
       " 'https://www.goodreads.com/book/show/35901186-the-feather-thief?from_choice=true',\n",
       " 'https://www.goodreads.com/book/show/36507099-skin-in-the-game?from_choice=true',\n",
       " 'https://www.goodreads.com/book/show/36638638-the-path-between-us?from_choice=true',\n",
       " 'https://www.goodreads.com/book/show/35133922-educated?from_choice=true',\n",
       " 'https://www.goodreads.com/book/show/38744839-becoming?from_choice=true',\n",
       " 'https://www.goodreads.com/book/show/38508771-in-pieces?from_choice=true',\n",
       " 'https://www.goodreads.com/book/show/35582344-this-is-me?from_choice=true',\n",
       " 'https://www.goodreads.com/book/show/35718164-a-river-in-darkness?from_choice=true',\n",
       " 'https://www.goodreads.com/book/show/34964998-when-they-call-you-a-terrorist?from_choice=true',\n",
       " 'https://www.goodreads.com/book/show/35108805-a-higher-loyalty?from_choice=true',\n",
       " 'https://www.goodreads.com/book/show/35137915-i-am-i-am-i-am?from_choice=true',\n",
       " 'https://www.goodreads.com/book/show/36086537-the-girl-who-smiled-beads?from_choice=true',\n",
       " 'https://www.goodreads.com/book/show/35133923-everything-happens-for-a-reason?from_choice=true',\n",
       " 'https://www.goodreads.com/book/show/34964905-the-sun-does-shine?from_choice=true',\n",
       " 'https://www.goodreads.com/book/show/35840657-heart-berries?from_choice=true',\n",
       " 'https://www.goodreads.com/book/show/30297153-all-you-can-ever-know?from_choice=true',\n",
       " 'https://www.goodreads.com/book/show/35018200-tell-me-more?from_choice=true',\n",
       " 'https://www.goodreads.com/book/show/39218044-small-fry?from_choice=true',\n",
       " 'https://www.goodreads.com/book/show/35068683-brave?from_choice=true',\n",
       " 'https://www.goodreads.com/book/show/35959678-and-now-we-have-everything?from_choice=true',\n",
       " 'https://www.goodreads.com/book/show/35340555-room-to-dream?from_choice=true',\n",
       " 'https://www.goodreads.com/book/show/36373407-tragedy-plus-time?from_choice=true',\n",
       " 'https://www.goodreads.com/book/show/29430746-heavy?from_choice=true',\n",
       " 'https://www.goodreads.com/book/show/38656999-the-good-neighbor?from_choice=true',\n",
       " 'https://www.goodreads.com/book/show/37534762-robin?from_choice=true',\n",
       " 'https://www.goodreads.com/book/show/35959199-barracoon?from_choice=true',\n",
       " 'https://www.goodreads.com/book/show/36369872-house-of-dreams?from_choice=true',\n",
       " 'https://www.goodreads.com/book/show/35743037-the-woman-s-hour?from_choice=true',\n",
       " 'https://www.goodreads.com/book/show/34859714-jefferson-s-daughters?from_choice=true',\n",
       " 'https://www.goodreads.com/book/show/37488430-fly-girls?from_choice=true',\n",
       " 'https://www.goodreads.com/book/show/35414997-rocket-men?from_choice=true',\n",
       " 'https://www.goodreads.com/book/show/38363272-in-the-hurricane-s-eye?from_choice=true',\n",
       " 'https://www.goodreads.com/book/show/35342927-the-monk-of-mokha?from_choice=true',\n",
       " 'https://www.goodreads.com/book/show/38657386-leadership?from_choice=true',\n",
       " 'https://www.goodreads.com/book/show/36743867-lincoln-s-last-trial?from_choice=true',\n",
       " 'https://www.goodreads.com/book/show/36204285-origin-story?from_choice=true',\n",
       " 'https://www.goodreads.com/book/show/38212158-these-truths?from_choice=true',\n",
       " 'https://www.goodreads.com/book/show/33598223-rise-and-kill-first?from_choice=true',\n",
       " 'https://www.goodreads.com/book/show/22318476-boom-town?from_choice=true',\n",
       " 'https://www.goodreads.com/book/show/35457359-god-save-texas?from_choice=true',\n",
       " 'https://www.goodreads.com/book/show/38714362-killing-the-ss?from_choice=true',\n",
       " 'https://www.goodreads.com/book/show/36373560-indianapolis?from_choice=true',\n",
       " 'https://www.goodreads.com/book/show/38525349-the-soul-of-america?from_choice=true',\n",
       " 'https://www.goodreads.com/book/show/35820369-the-rise-and-fall-of-the-dinosaurs?from_choice=true',\n",
       " 'https://www.goodreads.com/book/show/40277241-brief-answers-to-the-big-questions?from_choice=true',\n",
       " 'https://www.goodreads.com/book/show/36391536-she-has-her-mother-s-laugh?from_choice=true',\n",
       " 'https://www.goodreads.com/book/show/35953464-broad-band?from_choice=true',\n",
       " 'https://www.goodreads.com/book/show/36710811-how-to-change-your-mind?from_choice=true',\n",
       " 'https://www.goodreads.com/book/show/36739330-spying-on-whales?from_choice=true',\n",
       " 'https://www.goodreads.com/book/show/36407347-the-future-of-humanity?from_choice=true',\n",
       " 'https://www.goodreads.com/book/show/35412097-when?from_choice=true',\n",
       " 'https://www.goodreads.com/book/show/36442813-the-order-of-time?from_choice=true',\n",
       " 'https://www.goodreads.com/book/show/38589832-accessory-to-war?from_choice=true',\n",
       " 'https://www.goodreads.com/book/show/35604796-what-is-real?from_choice=true',\n",
       " 'https://www.goodreads.com/book/show/36205015-the-space-barons?from_choice=true',\n",
       " 'https://www.goodreads.com/book/show/38749668-the-sawbones-book?from_choice=true',\n",
       " 'https://www.goodreads.com/book/show/36341728-lost-in-math?from_choice=true',\n",
       " 'https://www.goodreads.com/book/show/35876360-the-big-ones?from_choice=true',\n",
       " 'https://www.goodreads.com/book/show/39026990-how-to-invent-everything?from_choice=true',\n",
       " 'https://www.goodreads.com/book/show/36722606-taming-the-sun?from_choice=true',\n",
       " 'https://www.goodreads.com/book/show/35749414-who-we-are-and-how-we-got-here?from_choice=true',\n",
       " 'https://www.goodreads.com/book/show/34762552-algorithms-of-oppression?from_choice=true',\n",
       " 'https://www.goodreads.com/book/show/36373639-the-tangled-tree?from_choice=true',\n",
       " 'https://www.goodreads.com/book/show/40004097-cravings?from_choice=true',\n",
       " 'https://www.goodreads.com/book/show/36381100-magnolia-table?from_choice=true',\n",
       " 'https://www.goodreads.com/book/show/36627287-tasty-latest-and-greatest?from_choice=true',\n",
       " 'https://www.goodreads.com/book/show/35804613-a-literary-tea-party?from_choice=true',\n",
       " 'https://www.goodreads.com/book/show/40006421-cook-like-a-pro?from_choice=true',\n",
       " 'https://www.goodreads.com/book/show/38502290-are-you-there-god-it-s-me-margarita?from_choice=true',\n",
       " 'https://www.goodreads.com/book/show/35306053-hot-for-food-vegan-comfort-classics?from_choice=true',\n",
       " 'https://www.goodreads.com/book/show/36001408-sweet-revenge?from_choice=true',\n",
       " 'https://www.goodreads.com/book/show/35741051-giada-s-italy?from_choice=true',\n",
       " 'https://www.goodreads.com/book/show/35398011-vegan-100?from_choice=true',\n",
       " 'https://www.goodreads.com/book/show/33656178-bobby-flay-fit?from_choice=true',\n",
       " 'https://www.goodreads.com/book/show/38532190-baking-all-year-round?from_choice=true',\n",
       " 'https://www.goodreads.com/book/show/35342935-the-food-explorer?from_choice=true',\n",
       " 'https://www.goodreads.com/book/show/35592077-buttermilk-graffiti?from_choice=true',\n",
       " 'https://www.goodreads.com/book/show/38121211-skinnytaste-one-and-done?from_choice=true',\n",
       " 'https://www.goodreads.com/book/show/39797678-ottolenghi-simple?from_choice=true',\n",
       " 'https://www.goodreads.com/book/show/36711236-milk?from_choice=true',\n",
       " 'https://www.goodreads.com/book/show/36856216-killing-it?from_choice=true',\n",
       " 'https://www.goodreads.com/book/show/34017050-hippie-food?from_choice=true',\n",
       " 'https://www.goodreads.com/book/show/37826508-now-again?from_choice=true',\n",
       " 'https://www.goodreads.com/book/show/35924705-herding-cats?from_choice=true',\n",
       " 'https://www.goodreads.com/book/show/36374390-little-moments-of-love?from_choice=true',\n",
       " 'https://www.goodreads.com/book/show/34963526-saga-vol-8?from_choice=true',\n",
       " 'https://www.goodreads.com/book/show/34849019-ms-marvel-vol-8?from_choice=true',\n",
       " 'https://www.goodreads.com/book/show/34506912-the-prince-and-the-dressmaker?from_choice=true',\n",
       " 'https://www.goodreads.com/book/show/35989512-paper-girls-vol-4?from_choice=true',\n",
       " 'https://www.goodreads.com/book/show/35684941-the-adventure-zone?from_choice=true',\n",
       " 'https://www.goodreads.com/book/show/34506937-brazen?from_choice=true',\n",
       " 'https://www.goodreads.com/book/show/36373825-fence-vol-1?from_choice=true',\n",
       " 'https://www.goodreads.com/book/show/35758072-am-i-there-yet-the-loop-de-loop-zigzagging-journey-to-adulthood?from_choice=true',\n",
       " 'https://www.goodreads.com/book/show/30623067-be-prepared?from_choice=true',\n",
       " 'https://www.goodreads.com/book/show/36963204-bingo-love?from_choice=true',\n",
       " 'https://www.goodreads.com/book/show/34930815-gone-rogue?from_choice=true',\n",
       " 'https://www.goodreads.com/book/show/37534577-check-please?from_choice=true',\n",
       " 'https://www.goodreads.com/book/show/37533587-sabrina?from_choice=true',\n",
       " 'https://www.goodreads.com/book/show/35651693-the-wicked-the-divine-vol-6?from_choice=true',\n",
       " 'https://www.goodreads.com/book/show/37491890-monstress-vol-3?from_choice=true',\n",
       " 'https://www.goodreads.com/book/show/37822649-hey-kiddo?from_choice=true',\n",
       " 'https://www.goodreads.com/book/show/34954925-black-hammer-vol-2?from_choice=true',\n",
       " 'https://www.goodreads.com/book/show/34849021-black-bolt-vol-1?from_choice=true',\n",
       " 'https://www.goodreads.com/book/show/35924698-the-witch-doesn-t-burn-in-this-one?from_choice=true',\n",
       " 'https://www.goodreads.com/book/show/35396841-the-poet-x?from_choice=true',\n",
       " 'https://www.goodreads.com/book/show/38255339-useless-magic?from_choice=true',\n",
       " 'https://www.goodreads.com/book/show/38926449-the-dark-between-stars?from_choice=true',\n",
       " 'https://www.goodreads.com/book/show/38532187-taking-the-arrow-out-of-the-heart?from_choice=true',\n",
       " 'https://www.goodreads.com/book/show/35999004-rebound?from_choice=true',\n",
       " 'https://www.goodreads.com/book/show/36477795-if-they-come-for-us?from_choice=true',\n",
       " 'https://www.goodreads.com/book/show/35260128-take-me-with-you?from_choice=true',\n",
       " 'https://www.goodreads.com/book/show/36100966-sea-of-strangers?from_choice=true',\n",
       " 'https://www.goodreads.com/book/show/36456129-she-felt-like-feeling-nothing?from_choice=true',\n",
       " 'https://www.goodreads.com/book/show/34594981-helium?from_choice=true',\n",
       " 'https://www.goodreads.com/book/show/35297455-for-every-one?from_choice=true',\n",
       " 'https://www.goodreads.com/book/show/35782247-wade-in-the-water?from_choice=true',\n",
       " 'https://www.goodreads.com/book/show/36479694-the-future?from_choice=true',\n",
       " 'https://www.goodreads.com/book/show/41241311-a-love-letter-from-the-girls-who-feel-everything?from_choice=true',\n",
       " 'https://www.goodreads.com/book/show/36036176-heart-talk?from_choice=true',\n",
       " 'https://www.goodreads.com/book/show/36479356-american-sonnets-for-my-past-and-future-assassin?from_choice=true',\n",
       " 'https://www.goodreads.com/book/show/35540804-blood-water-paint?from_choice=true',\n",
       " 'https://www.goodreads.com/book/show/37941942-the-flame?from_choice=true',\n",
       " 'https://www.goodreads.com/book/show/35356376-brown?from_choice=true',\n",
       " 'https://www.goodreads.com/book/show/34728667-children-of-blood-and-bone?from_choice=true',\n",
       " 'https://www.goodreads.com/book/show/34848682-the-woman-in-the-window?from_choice=true',\n",
       " 'https://www.goodreads.com/book/show/37486222-the-tattooist-of-auschwitz?from_choice=true',\n",
       " 'https://www.goodreads.com/book/show/36577586-the-kiss-quotient?from_choice=true',\n",
       " 'https://www.goodreads.com/book/show/34499221-to-kill-a-kingdom?from_choice=true',\n",
       " 'https://www.goodreads.com/book/show/36692478-there-there?from_choice=true',\n",
       " 'https://www.goodreads.com/book/show/35887181-the-poppy-war?from_choice=true',\n",
       " 'https://www.goodreads.com/book/show/35604686-the-astonishing-color-of-after?from_choice=true',\n",
       " 'https://www.goodreads.com/book/show/36388243-something-in-the-water?from_choice=true',\n",
       " 'https://www.goodreads.com/book/show/35356382-the-chalk-man?from_choice=true',\n",
       " 'https://www.goodreads.com/book/show/38186611-an-absolutely-remarkable-thing?from_choice=true',\n",
       " 'https://www.goodreads.com/book/show/36840397-a-place-for-us?from_choice=true',\n",
       " 'https://www.goodreads.com/book/show/36373417-the-map-of-salt-and-stars?from_choice=true',\n",
       " 'https://www.goodreads.com/book/show/36337550-the-7-deaths-of-evelyn-hardcastle?from_choice=true',\n",
       " 'https://www.goodreads.com/book/show/34726469-sky-in-the-deep?from_choice=true',\n",
       " 'https://www.goodreads.com/book/show/34275212-girls-burn-brighter?from_choice=true',\n",
       " 'https://www.goodreads.com/book/show/34262106-everything-here-is-beautiful?from_choice=true',\n",
       " 'https://www.goodreads.com/book/show/36636727-fruit-of-the-drunken-tree?from_choice=true',\n",
       " 'https://www.goodreads.com/book/show/36187116-witchmark?from_choice=true',\n",
       " 'https://www.goodreads.com/book/show/35297106-the-terminal-list?from_choice=true',\n",
       " 'https://www.goodreads.com/book/show/31180248-leah-on-the-offbeat?from_choice=true',\n",
       " 'https://www.goodreads.com/book/show/34810320-sadie?from_choice=true',\n",
       " 'https://www.goodreads.com/book/show/36341204-what-if-it-s-us?from_choice=true',\n",
       " 'https://www.goodreads.com/book/show/36987719-all-the-little-lights?from_choice=true',\n",
       " 'https://www.goodreads.com/book/show/37880094-the-lady-s-guide-to-petticoats-and-piracy?from_choice=true',\n",
       " 'https://www.goodreads.com/book/show/35604686-the-astonishing-color-of-after?from_choice=true',\n",
       " 'https://www.goodreads.com/book/show/32333338-save-the-date?from_choice=true',\n",
       " 'https://www.goodreads.com/book/show/29589074-truly-devious?from_choice=true',\n",
       " 'https://www.goodreads.com/book/show/35887533-puddin?from_choice=true',\n",
       " 'https://www.goodreads.com/book/show/35297272-emergency-contact?from_choice=true',\n",
       " 'https://www.goodreads.com/book/show/35520012-love-life-and-the-list?from_choice=true',\n",
       " 'https://www.goodreads.com/book/show/31625048-let-s-talk-about-love?from_choice=true',\n",
       " 'https://www.goodreads.com/book/show/35297469-starry-eyes?from_choice=true',\n",
       " 'https://www.goodreads.com/book/show/30969755-the-cheerleaders?from_choice=true',\n",
       " 'https://www.goodreads.com/book/show/33810737-the-case-for-jamie?from_choice=true',\n",
       " 'https://www.goodreads.com/book/show/31207017-love-hate-other-filters?from_choice=true',\n",
       " 'https://www.goodreads.com/book/show/38720939-a-very-large-expanse-of-sea?from_choice=true',\n",
       " 'https://www.goodreads.com/book/show/35604682-tyler-johnson-was-here?from_choice=true',\n",
       " 'https://www.goodreads.com/book/show/34325090-i-was-born-for-this?from_choice=true',\n",
       " 'https://www.goodreads.com/book/show/40239755-the-accidentals?from_choice=true',\n",
       " 'https://www.goodreads.com/book/show/33590260-kingdom-of-ash?from_choice=true',\n",
       " 'https://www.goodreads.com/book/show/34728667-children-of-blood-and-bone?from_choice=true',\n",
       " 'https://www.goodreads.com/book/show/26032825-the-cruel-prince?from_choice=true',\n",
       " 'https://www.goodreads.com/book/show/27188596-war-storm?from_choice=true',\n",
       " 'https://www.goodreads.com/book/show/31076583-a-court-of-frost-and-starlight?from_choice=true',\n",
       " 'https://www.goodreads.com/book/show/24909347-obsidio?from_choice=true',\n",
       " 'https://www.goodreads.com/book/show/33555224-thunderhead?from_choice=true',\n",
       " 'https://www.goodreads.com/book/show/34992929-restore-me?from_choice=true',\n",
       " 'https://www.goodreads.com/book/show/30809786-a-reaper-at-the-gates?from_choice=true',\n",
       " 'https://www.goodreads.com/book/show/29386918-wildcard?from_choice=true',\n",
       " 'https://www.goodreads.com/book/show/23197837-the-belles?from_choice=true',\n",
       " 'https://www.goodreads.com/book/show/30223025-dread-nation?from_choice=true',\n",
       " 'https://www.goodreads.com/book/show/35820633-the-fates-divide?from_choice=true',\n",
       " 'https://www.goodreads.com/book/show/34726469-sky-in-the-deep?from_choice=true',\n",
       " 'https://www.goodreads.com/book/show/25446343-muse-of-nightmares?from_choice=true',\n",
       " 'https://www.goodreads.com/book/show/39348113-skyward?from_choice=true',\n",
       " 'https://www.goodreads.com/book/show/34275232-the-hazel-wood?from_choice=true',\n",
       " 'https://www.goodreads.com/book/show/36329818-legendary?from_choice=true',\n",
       " 'https://www.goodreads.com/book/show/29456569-lifel1k3?from_choice=true',\n",
       " 'https://www.goodreads.com/book/show/35495083-sightwitch?from_choice=true',\n",
       " 'https://www.goodreads.com/book/show/28006096-the-burning-maze?from_choice=true',\n",
       " 'https://www.goodreads.com/book/show/35403058-city-of-ghosts?from_choice=true',\n",
       " 'https://www.goodreads.com/book/show/33784323-the-magic-misfits?from_choice=true',\n",
       " 'https://www.goodreads.com/book/show/36222611-aru-shah-and-the-end-of-time?from_choice=true',\n",
       " 'https://www.goodreads.com/book/show/36086513-amal-unbound?from_choice=true',\n",
       " 'https://www.goodreads.com/book/show/35959634-ghost-boys?from_choice=true',\n",
       " 'https://www.goodreads.com/book/show/36644148-the-penderwicks-at-last?from_choice=true',\n",
       " 'https://www.goodreads.com/book/show/36546966-willa-of-the-wood?from_choice=true',\n",
       " 'https://www.goodreads.com/book/show/33004208-the-miscalculations-of-lightning-girl?from_choice=true',\n",
       " 'https://www.goodreads.com/book/show/36443315-bob?from_choice=true',\n",
       " 'https://www.goodreads.com/book/show/36127488-front-desk?from_choice=true',\n",
       " 'https://www.goodreads.com/book/show/35297562-sunny?from_choice=true',\n",
       " 'https://www.goodreads.com/book/show/35068526-you-go-first?from_choice=true',\n",
       " 'https://www.goodreads.com/book/show/35464020-the-night-diary?from_choice=true',\n",
       " 'https://www.goodreads.com/book/show/32618983-the-serpent-s-secret?from_choice=true',\n",
       " 'https://www.goodreads.com/book/show/39217633-louisiana-s-way-home?from_choice=true',\n",
       " 'https://www.goodreads.com/book/show/37822631-the-golden-tower?from_choice=true',\n",
       " 'https://www.goodreads.com/book/show/38903002-wrath-of-the-dragon-king?from_choice=true',\n",
       " 'https://www.goodreads.com/book/show/36959639-small-spaces?from_choice=true',\n",
       " 'https://www.goodreads.com/book/show/36373280-the-unforgettable-guinevere-st-clair?from_choice=true',\n",
       " 'https://www.goodreads.com/book/show/35396839-i-am-enough?from_choice=true',\n",
       " 'https://www.goodreads.com/book/show/39319247-a-day-in-the-life-of-marlon-bundo?from_choice=true',\n",
       " 'https://www.goodreads.com/book/show/35488059-little-leaders?from_choice=true',\n",
       " 'https://www.goodreads.com/book/show/36341954-we-don-t-eat-our-classmates?from_choice=true',\n",
       " 'https://www.goodreads.com/book/show/35138182-petra?from_choice=true',\n",
       " 'https://www.goodreads.com/book/show/35248504-the-rabbit-listened?from_choice=true',\n",
       " 'https://www.goodreads.com/book/show/35580105-hello-lighthouse?from_choice=true',\n",
       " 'https://www.goodreads.com/book/show/36373562-ocean-meets-sky?from_choice=true',\n",
       " 'https://www.goodreads.com/book/show/35356379-love?from_choice=true',\n",
       " 'https://www.goodreads.com/book/show/26532714-juli-n-is-a-mermaid?from_choice=true',\n",
       " 'https://www.goodreads.com/book/show/35566693-the-word-collector?from_choice=true',\n",
       " 'https://www.goodreads.com/book/show/35182933-baby-monkey-private-eye?from_choice=true',\n",
       " 'https://www.goodreads.com/book/show/34791219-drawn-together?from_choice=true',\n",
       " 'https://www.goodreads.com/book/show/35631757-islandborn?from_choice=true',\n",
       " 'https://www.goodreads.com/book/show/40524608-lulu-is-a-rhinoceros?from_choice=true',\n",
       " 'https://www.goodreads.com/book/show/37506301-the-day-you-begin?from_choice=true',\n",
       " 'https://www.goodreads.com/book/show/34204247-prince-knight?from_choice=true',\n",
       " 'https://www.goodreads.com/book/show/35833840-they-say-blue?from_choice=true',\n",
       " 'https://www.goodreads.com/book/show/41443051-the-truth-pixie?from_choice=true',\n",
       " 'https://www.goodreads.com/book/show/38495981-franklin-and-luna-go-to-the-moon?from_choice=true',\n",
       " 'https://www.goodreads.com/book/show/35791968-still-me?from_choice=true',\n",
       " 'https://www.goodreads.com/book/show/33590210-an-american-marriage?from_choice=true',\n",
       " 'https://www.goodreads.com/book/show/36373463-us-against-you?from_choice=true',\n",
       " 'https://www.goodreads.com/book/show/39280445-nine-perfect-strangers?from_choice=true',\n",
       " 'https://www.goodreads.com/book/show/38186611-an-absolutely-remarkable-thing?from_choice=true',\n",
       " 'https://www.goodreads.com/book/show/38820047-killing-commendatore?from_choice=true',\n",
       " 'https://www.goodreads.com/book/show/36692478-there-there?from_choice=true',\n",
       " 'https://www.goodreads.com/book/show/34275212-girls-burn-brighter?from_choice=true',\n",
       " 'https://www.goodreads.com/book/show/36723031-all-we-ever-wanted?from_choice=true',\n",
       " 'https://www.goodreads.com/book/show/36082326-every-note-played?from_choice=true',\n",
       " 'https://www.goodreads.com/book/show/35480518-the-female-persuasion?from_choice=true',\n",
       " 'https://www.goodreads.com/book/show/36840397-a-place-for-us?from_choice=true',\n",
       " 'https://www.goodreads.com/book/show/39072220-a-spark-of-light?from_choice=true',\n",
       " 'https://www.goodreads.com/book/show/36203391-my-year-of-rest-and-relaxation?from_choice=true',\n",
       " 'https://www.goodreads.com/book/show/34262106-everything-here-is-beautiful?from_choice=true',\n",
       " 'https://www.goodreads.com/book/show/35187203-the-overstory?from_choice=true',\n",
       " 'https://www.goodreads.com/book/show/35952871-you-think-it-i-ll-say-it?from_choice=true',\n",
       " 'https://www.goodreads.com/book/show/36249638-how-to-walk-away?from_choice=true',\n",
       " 'https://www.goodreads.com/book/show/36723245-the-book-of-essie?from_choice=true',\n",
       " 'https://www.goodreads.com/book/show/36373648-the-mars-room?from_choice=true']"
      ]
     },
     "execution_count": 146,
     "metadata": {},
     "output_type": "execute_result"
    }
   ],
   "source": [
    "book_list_2018"
   ]
  },
  {
   "cell_type": "code",
   "execution_count": 20,
   "metadata": {},
   "outputs": [
    {
     "data": {
      "text/plain": [
       "<span itemprop=\"ratingValue\">\n",
       "  4.07\n",
       "</span>"
      ]
     },
     "execution_count": 20,
     "metadata": {},
     "output_type": "execute_result"
    }
   ],
   "source": [
    "# goodreads rating\n",
    "#testing one book's info\n",
    "link = 'https://www.goodreads.com/book/show/36124936-the-outsider?from_choice=true'\n",
    "page = urllib.request.urlopen(link)\n",
    "\n",
    "soup = bs(page, 'html.parser')\n",
    "\n",
    "soup.find('span',{\"itemprop\":\"ratingValue\"})"
   ]
  },
  {
   "cell_type": "code",
   "execution_count": 218,
   "metadata": {},
   "outputs": [],
   "source": [
    "def get_rating(soup):    \n",
    "    get_rating = soup.find('span',{\"itemprop\":\"ratingValue\"})\n",
    "    get_rating = get_rating.get_text().replace('\\n', '').replace(' ', '')\n",
    "    return get_rating\n"
   ]
  },
  {
   "cell_type": "code",
   "execution_count": 219,
   "metadata": {},
   "outputs": [
    {
     "ename": "TypeError",
     "evalue": "get_rating() missing 1 required positional argument: 'soup'",
     "output_type": "error",
     "traceback": [
      "\u001b[0;31m---------------------------------------------------------------------------\u001b[0m",
      "\u001b[0;31mTypeError\u001b[0m                                 Traceback (most recent call last)",
      "\u001b[0;32m<ipython-input-219-38a44956b048>\u001b[0m in \u001b[0;36m<module>\u001b[0;34m()\u001b[0m\n\u001b[0;32m----> 1\u001b[0;31m \u001b[0mrating\u001b[0m \u001b[0;34m=\u001b[0m \u001b[0mget_rating\u001b[0m\u001b[0;34m(\u001b[0m\u001b[0;34m)\u001b[0m\u001b[0;34m\u001b[0m\u001b[0m\n\u001b[0m\u001b[1;32m      2\u001b[0m \u001b[0mrating\u001b[0m\u001b[0;34m\u001b[0m\u001b[0m\n",
      "\u001b[0;31mTypeError\u001b[0m: get_rating() missing 1 required positional argument: 'soup'"
     ]
    }
   ],
   "source": [
    "rating = get_rating()\n",
    "rating"
   ]
  },
  {
   "cell_type": "code",
   "execution_count": 220,
   "metadata": {},
   "outputs": [],
   "source": [
    "def get_title(soup):\n",
    "    get_title = soup.find('h1',{\"id\":\"bookTitle\"})\n",
    "    get_title = get_title.get_text().replace('\\n', '').replace('  ', '')\n",
    "    return get_title"
   ]
  },
  {
   "cell_type": "code",
   "execution_count": 221,
   "metadata": {},
   "outputs": [
    {
     "ename": "TypeError",
     "evalue": "get_title() missing 1 required positional argument: 'soup'",
     "output_type": "error",
     "traceback": [
      "\u001b[0;31m---------------------------------------------------------------------------\u001b[0m",
      "\u001b[0;31mTypeError\u001b[0m                                 Traceback (most recent call last)",
      "\u001b[0;32m<ipython-input-221-82f0db9e951e>\u001b[0m in \u001b[0;36m<module>\u001b[0;34m()\u001b[0m\n\u001b[0;32m----> 1\u001b[0;31m \u001b[0mtitle\u001b[0m \u001b[0;34m=\u001b[0m \u001b[0mget_title\u001b[0m\u001b[0;34m(\u001b[0m\u001b[0;34m)\u001b[0m\u001b[0;34m\u001b[0m\u001b[0m\n\u001b[0m\u001b[1;32m      2\u001b[0m \u001b[0mtitle\u001b[0m\u001b[0;34m\u001b[0m\u001b[0m\n",
      "\u001b[0;31mTypeError\u001b[0m: get_title() missing 1 required positional argument: 'soup'"
     ]
    }
   ],
   "source": [
    "title = get_title()\n",
    "title"
   ]
  },
  {
   "cell_type": "code",
   "execution_count": 222,
   "metadata": {},
   "outputs": [],
   "source": [
    "def get_author(soup):\n",
    "    get_author = soup.find('span', {'itemprop':\"name\"})\n",
    "    get_author = get_author.get_text()\n",
    "    return get_author"
   ]
  },
  {
   "cell_type": "code",
   "execution_count": 223,
   "metadata": {},
   "outputs": [
    {
     "ename": "TypeError",
     "evalue": "get_author() missing 1 required positional argument: 'soup'",
     "output_type": "error",
     "traceback": [
      "\u001b[0;31m---------------------------------------------------------------------------\u001b[0m",
      "\u001b[0;31mTypeError\u001b[0m                                 Traceback (most recent call last)",
      "\u001b[0;32m<ipython-input-223-026c319427cb>\u001b[0m in \u001b[0;36m<module>\u001b[0;34m()\u001b[0m\n\u001b[0;32m----> 1\u001b[0;31m \u001b[0mauthor\u001b[0m \u001b[0;34m=\u001b[0m \u001b[0mget_author\u001b[0m\u001b[0;34m(\u001b[0m\u001b[0;34m)\u001b[0m\u001b[0;34m\u001b[0m\u001b[0m\n\u001b[0m\u001b[1;32m      2\u001b[0m \u001b[0mauthor\u001b[0m\u001b[0;34m\u001b[0m\u001b[0m\n",
      "\u001b[0;31mTypeError\u001b[0m: get_author() missing 1 required positional argument: 'soup'"
     ]
    }
   ],
   "source": [
    "author = get_author()\n",
    "author"
   ]
  },
  {
   "cell_type": "code",
   "execution_count": 224,
   "metadata": {},
   "outputs": [],
   "source": [
    "def get_publisher(soup):\n",
    "    get_publisher = soup.find('div', {'id':\"details\"})\n",
    "    get_publisher = get_publisher.contents[3].get_text()\n",
    "    get_publisher = get_publisher.replace('\\n', '')\n",
    "    get_publisher = re.findall(r'(?<=by ).+\\b', get_publisher)[0]\n",
    "    return get_publisher"
   ]
  },
  {
   "cell_type": "code",
   "execution_count": 225,
   "metadata": {},
   "outputs": [
    {
     "ename": "TypeError",
     "evalue": "get_publisher() missing 1 required positional argument: 'soup'",
     "output_type": "error",
     "traceback": [
      "\u001b[0;31m---------------------------------------------------------------------------\u001b[0m",
      "\u001b[0;31mTypeError\u001b[0m                                 Traceback (most recent call last)",
      "\u001b[0;32m<ipython-input-225-ce578ee7d7ec>\u001b[0m in \u001b[0;36m<module>\u001b[0;34m()\u001b[0m\n\u001b[0;32m----> 1\u001b[0;31m \u001b[0mpublisher\u001b[0m \u001b[0;34m=\u001b[0m \u001b[0mget_publisher\u001b[0m\u001b[0;34m(\u001b[0m\u001b[0;34m)\u001b[0m\u001b[0;34m\u001b[0m\u001b[0m\n\u001b[0m\u001b[1;32m      2\u001b[0m \u001b[0mpublisher\u001b[0m\u001b[0;34m\u001b[0m\u001b[0m\n",
      "\u001b[0;31mTypeError\u001b[0m: get_publisher() missing 1 required positional argument: 'soup'"
     ]
    }
   ],
   "source": [
    "publisher = get_publisher()\n",
    "publisher"
   ]
  },
  {
   "cell_type": "code",
   "execution_count": 226,
   "metadata": {},
   "outputs": [
    {
     "data": {
      "text/plain": [
       "<function __main__.get_publisher(soup)>"
      ]
     },
     "execution_count": 226,
     "metadata": {},
     "output_type": "execute_result"
    }
   ],
   "source": [
    "get_publisher"
   ]
  },
  {
   "cell_type": "code",
   "execution_count": 240,
   "metadata": {},
   "outputs": [],
   "source": [
    "# ((?<=Published        ).+\\b)(\\d{4})\n",
    "def get_date(soup):\n",
    "    get_date = soup.find('div', {'id':\"details\"})\n",
    "    get_date = get_date.contents[3].get_text()\n",
    "    get_date = get_date.replace('\\n', '')\n",
    "    get_date = re.findall(r'((?<=Published        ).+\\b)(\\d{4})', get_date)[0]\n",
    "    return get_date\n",
    "def get_month_day(soup):\n",
    "    get_month_day = get_date(soup)[0]\n",
    "    return get_month_day\n",
    "def get_month(soup):\n",
    "    get_month = get_date(soup)[0].split(' ')[0]\n",
    "    return get_month\n",
    "def get_year(soup):\n",
    "    get_year = get_date(soup)[1]\n",
    "    return get_year"
   ]
  },
  {
   "cell_type": "code",
   "execution_count": 228,
   "metadata": {
    "scrolled": true
   },
   "outputs": [
    {
     "ename": "TypeError",
     "evalue": "get_month() missing 1 required positional argument: 'soup'",
     "output_type": "error",
     "traceback": [
      "\u001b[0;31m---------------------------------------------------------------------------\u001b[0m",
      "\u001b[0;31mTypeError\u001b[0m                                 Traceback (most recent call last)",
      "\u001b[0;32m<ipython-input-228-d91ffbcd9865>\u001b[0m in \u001b[0;36m<module>\u001b[0;34m()\u001b[0m\n\u001b[0;32m----> 1\u001b[0;31m \u001b[0mmonth\u001b[0m \u001b[0;34m=\u001b[0m \u001b[0mget_month\u001b[0m\u001b[0;34m(\u001b[0m\u001b[0;34m)\u001b[0m\u001b[0;34m\u001b[0m\u001b[0m\n\u001b[0m\u001b[1;32m      2\u001b[0m \u001b[0mmonth\u001b[0m\u001b[0;34m\u001b[0m\u001b[0m\n",
      "\u001b[0;31mTypeError\u001b[0m: get_month() missing 1 required positional argument: 'soup'"
     ]
    }
   ],
   "source": [
    "month = get_month()\n",
    "month"
   ]
  },
  {
   "cell_type": "code",
   "execution_count": 229,
   "metadata": {},
   "outputs": [
    {
     "ename": "TypeError",
     "evalue": "get_year() missing 1 required positional argument: 'soup'",
     "output_type": "error",
     "traceback": [
      "\u001b[0;31m---------------------------------------------------------------------------\u001b[0m",
      "\u001b[0;31mTypeError\u001b[0m                                 Traceback (most recent call last)",
      "\u001b[0;32m<ipython-input-229-ca1546a892f0>\u001b[0m in \u001b[0;36m<module>\u001b[0;34m()\u001b[0m\n\u001b[0;32m----> 1\u001b[0;31m \u001b[0myear\u001b[0m \u001b[0;34m=\u001b[0m \u001b[0mget_year\u001b[0m\u001b[0;34m(\u001b[0m\u001b[0;34m)\u001b[0m\u001b[0;34m\u001b[0m\u001b[0m\n\u001b[0m\u001b[1;32m      2\u001b[0m \u001b[0myear\u001b[0m\u001b[0;34m\u001b[0m\u001b[0m\n",
      "\u001b[0;31mTypeError\u001b[0m: get_year() missing 1 required positional argument: 'soup'"
     ]
    }
   ],
   "source": [
    "year = get_year()\n",
    "year"
   ]
  },
  {
   "cell_type": "code",
   "execution_count": 230,
   "metadata": {},
   "outputs": [],
   "source": [
    "def get_pages(soup):\n",
    "    get_pages = soup.find('span', {'itemprop':\"numberOfPages\"})\n",
    "    get_pages = get_pages.get_text().split(' ')[0]\n",
    "    return get_pages"
   ]
  },
  {
   "cell_type": "code",
   "execution_count": 231,
   "metadata": {},
   "outputs": [
    {
     "ename": "TypeError",
     "evalue": "get_pages() missing 1 required positional argument: 'soup'",
     "output_type": "error",
     "traceback": [
      "\u001b[0;31m---------------------------------------------------------------------------\u001b[0m",
      "\u001b[0;31mTypeError\u001b[0m                                 Traceback (most recent call last)",
      "\u001b[0;32m<ipython-input-231-6e23e942d495>\u001b[0m in \u001b[0;36m<module>\u001b[0;34m()\u001b[0m\n\u001b[0;32m----> 1\u001b[0;31m \u001b[0mpages\u001b[0m \u001b[0;34m=\u001b[0m \u001b[0mget_pages\u001b[0m\u001b[0;34m(\u001b[0m\u001b[0;34m)\u001b[0m\u001b[0;34m\u001b[0m\u001b[0m\n\u001b[0m",
      "\u001b[0;31mTypeError\u001b[0m: get_pages() missing 1 required positional argument: 'soup'"
     ]
    }
   ],
   "source": [
    "pages = get_pages()"
   ]
  },
  {
   "cell_type": "code",
   "execution_count": 232,
   "metadata": {},
   "outputs": [],
   "source": [
    "def get_genre(soup):\n",
    "    get_genre = soup.find('a', {'class':\"actionLinkLite bookPageGenreLink\"})\n",
    "    get_genre = get_genre.get_text()\n",
    "    return get_genre"
   ]
  },
  {
   "cell_type": "code",
   "execution_count": 233,
   "metadata": {},
   "outputs": [
    {
     "ename": "TypeError",
     "evalue": "get_genre() missing 1 required positional argument: 'soup'",
     "output_type": "error",
     "traceback": [
      "\u001b[0;31m---------------------------------------------------------------------------\u001b[0m",
      "\u001b[0;31mTypeError\u001b[0m                                 Traceback (most recent call last)",
      "\u001b[0;32m<ipython-input-233-fa5c13dc893a>\u001b[0m in \u001b[0;36m<module>\u001b[0;34m()\u001b[0m\n\u001b[0;32m----> 1\u001b[0;31m \u001b[0mgenre\u001b[0m \u001b[0;34m=\u001b[0m \u001b[0mget_genre\u001b[0m\u001b[0;34m(\u001b[0m\u001b[0;34m)\u001b[0m\u001b[0;34m\u001b[0m\u001b[0m\n\u001b[0m",
      "\u001b[0;31mTypeError\u001b[0m: get_genre() missing 1 required positional argument: 'soup'"
     ]
    }
   ],
   "source": [
    "genre = get_genre()"
   ]
  },
  {
   "cell_type": "code",
   "execution_count": 234,
   "metadata": {},
   "outputs": [],
   "source": [
    "def get_descrip(soup):\n",
    "    get_descrip = soup.find('div', {'id':\"description\"})\n",
    "    get_descrip = get_descrip.find('span').contents[0]\n",
    "    return get_descrip"
   ]
  },
  {
   "cell_type": "code",
   "execution_count": 235,
   "metadata": {},
   "outputs": [
    {
     "ename": "TypeError",
     "evalue": "get_descrip() missing 1 required positional argument: 'soup'",
     "output_type": "error",
     "traceback": [
      "\u001b[0;31m---------------------------------------------------------------------------\u001b[0m",
      "\u001b[0;31mTypeError\u001b[0m                                 Traceback (most recent call last)",
      "\u001b[0;32m<ipython-input-235-dd38f3cdc9cb>\u001b[0m in \u001b[0;36m<module>\u001b[0;34m()\u001b[0m\n\u001b[0;32m----> 1\u001b[0;31m \u001b[0mdescrip\u001b[0m \u001b[0;34m=\u001b[0m \u001b[0mget_descrip\u001b[0m\u001b[0;34m(\u001b[0m\u001b[0;34m)\u001b[0m\u001b[0;34m\u001b[0m\u001b[0m\n\u001b[0m\u001b[1;32m      2\u001b[0m \u001b[0mdescrip\u001b[0m\u001b[0;34m\u001b[0m\u001b[0m\n",
      "\u001b[0;31mTypeError\u001b[0m: get_descrip() missing 1 required positional argument: 'soup'"
     ]
    }
   ],
   "source": [
    "descrip = get_descrip()\n",
    "descrip"
   ]
  },
  {
   "cell_type": "code",
   "execution_count": 236,
   "metadata": {},
   "outputs": [],
   "source": [
    "def get_format(soup):\n",
    "    get_format = soup.find('span', {'itemprop':\"bookFormat\"})\n",
    "    get_format = get_format.get_text()\n",
    "    return get_format"
   ]
  },
  {
   "cell_type": "code",
   "execution_count": 237,
   "metadata": {},
   "outputs": [
    {
     "ename": "TypeError",
     "evalue": "get_format() missing 1 required positional argument: 'soup'",
     "output_type": "error",
     "traceback": [
      "\u001b[0;31m---------------------------------------------------------------------------\u001b[0m",
      "\u001b[0;31mTypeError\u001b[0m                                 Traceback (most recent call last)",
      "\u001b[0;32m<ipython-input-237-855c34188218>\u001b[0m in \u001b[0;36m<module>\u001b[0;34m()\u001b[0m\n\u001b[0;32m----> 1\u001b[0;31m \u001b[0mforma\u001b[0m \u001b[0;34m=\u001b[0m \u001b[0mget_format\u001b[0m\u001b[0;34m(\u001b[0m\u001b[0;34m)\u001b[0m\u001b[0;34m\u001b[0m\u001b[0m\n\u001b[0m",
      "\u001b[0;31mTypeError\u001b[0m: get_format() missing 1 required positional argument: 'soup'"
     ]
    }
   ],
   "source": [
    "forma = get_format()"
   ]
  },
  {
   "cell_type": "code",
   "execution_count": 253,
   "metadata": {},
   "outputs": [],
   "source": [
    "# take a list and return a list of dictionaries\n",
    "\n",
    "def book_info(url):\n",
    "    all_the_books = []\n",
    "    for x in url:\n",
    "        link = x\n",
    "        #link = 'https://www.goodreads.com/book/show/6148028-catching-fire?from_choice=true'\n",
    "        #probably add timer here\n",
    "        time.sleep(2)\n",
    "        page = urllib.request.urlopen(link)\n",
    "        soup = bs(page, 'html.parser')\n",
    "        try:\n",
    "            dictionary = {'rating': get_rating(soup), 'author': get_author(soup), 'publisher' : get_publisher(soup),'title':get_title(soup), 'pages': get_pages(soup),\n",
    "             'description': get_descrip(soup), 'format': get_format(soup), 'genre': get_genre(soup), 'year': get_year(soup), 'month': get_month(soup)}\n",
    "        except:\n",
    "            try:\n",
    "                dictionary = {'rating': get_rating(soup), 'author': get_author(soup),'publisher' : get_publisher(soup), 'title':get_title(soup), 'pages': get_pages(soup),\n",
    "                 'description': get_descrip(soup), 'format': get_format(soup), 'genre': get_genre(soup)}\n",
    "            except:\n",
    "                pass\n",
    "        all_the_books.append(dictionary)\n",
    "    #print(all_the_books)\n",
    "    return all_the_books\n",
    "    \n",
    "    "
   ]
  },
  {
   "cell_type": "code",
   "execution_count": 242,
   "metadata": {},
   "outputs": [],
   "source": [
    "fire = book_info()"
   ]
  },
  {
   "cell_type": "code",
   "execution_count": 243,
   "metadata": {},
   "outputs": [
    {
     "data": {
      "text/plain": [
       "{'rating': '4.29',\n",
       " 'author': 'Suzanne Collins',\n",
       " 'publisher': 'Scholastic Press',\n",
       " 'title': 'Catching Fire',\n",
       " 'pages': '391',\n",
       " 'description': <b>Sparks are igniting.<br/>Flames are spreading.<br/>And the Capitol wants revenge.</b>,\n",
       " 'format': 'Hardcover',\n",
       " 'genre': 'Young Adult',\n",
       " 'year': '2009',\n",
       " 'month': 'September'}"
      ]
     },
     "execution_count": 243,
     "metadata": {},
     "output_type": "execute_result"
    }
   ],
   "source": [
    "fire"
   ]
  },
  {
   "cell_type": "code",
   "execution_count": 244,
   "metadata": {},
   "outputs": [],
   "source": [
    "# put timer, loop through every book lol"
   ]
  },
  {
   "cell_type": "code",
   "execution_count": null,
   "metadata": {},
   "outputs": [],
   "source": [
    "all_books = book_info(book_list_2018)"
   ]
  },
  {
   "cell_type": "code",
   "execution_count": null,
   "metadata": {},
   "outputs": [],
   "source": [
    "all_books"
   ]
  },
  {
   "cell_type": "code",
   "execution_count": null,
   "metadata": {},
   "outputs": [],
   "source": []
  }
 ],
 "metadata": {
  "kernelspec": {
   "display_name": "Python 3",
   "language": "python",
   "name": "python3"
  },
  "language_info": {
   "codemirror_mode": {
    "name": "ipython",
    "version": 3
   },
   "file_extension": ".py",
   "mimetype": "text/x-python",
   "name": "python",
   "nbconvert_exporter": "python",
   "pygments_lexer": "ipython3",
   "version": "3.6.7"
  }
 },
 "nbformat": 4,
 "nbformat_minor": 2
}
