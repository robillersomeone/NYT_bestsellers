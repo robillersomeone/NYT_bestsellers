{
 "cells": [
  {
   "cell_type": "markdown",
   "metadata": {},
   "source": [
    "# Modeling "
   ]
  },
  {
   "cell_type": "code",
   "execution_count": 1,
   "metadata": {},
   "outputs": [],
   "source": [
    "import warnings\n",
    "warnings.filterwarnings('ignore')\n",
    "import numpy as np\n",
    "import pandas as pd\n",
    "from modeling import baseline_modeling\n",
    "from sklearn.metrics import confusion_matrix, classification_report, plot_confusion_matrix\n",
    "from sklearn.dummy import DummyClassifier\n",
    "from sklearn.model_selection import train_test_split, RandomizedSearchCV\n",
    "from sklearn.ensemble import RandomForestClassifier\n",
    "from sklearn.linear_model import LogisticRegression, LogisticRegressionCV"
   ]
  },
  {
   "cell_type": "markdown",
   "metadata": {},
   "source": [
    "## Setting dataframes\n",
    "- df_baseline is just numerical data\n",
    "- just metadata dataframe (in the works)\n",
    "- df_text is with vectorized description\n",
    "    - this was already split into train and test sets to preprocess\n",
    "    - going to be joined to df after splitting into train/test"
   ]
  },
  {
   "cell_type": "code",
   "execution_count": 2,
   "metadata": {},
   "outputs": [],
   "source": [
    "# load in dataframe\n",
    "df = pd.read_csv('csv_files/9_1_all_books_df.csv')\n",
    "\n",
    "# this just includes pages and ratings along with the target of best seller or not\n",
    "df_baseline = df[['rating', 'pages', 'best_seller']]\n",
    "\n",
    "# this data is already split into the training set with a reset index\n",
    "# so it will be concated with the df after spliting into train and test sets\n",
    "df_text_X = pd.read_csv('csv_files/X_train_nlp.csv')\n",
    "df_text_y= pd.read_csv('csv_files/y_train_nlp.csv', header=None)\n",
    "df_text_X_test = pd.read_csv('csv_files/X_test_nlp.csv')\n",
    "df_text_y_test = pd.read_csv('csv_files/y_test_nlp.csv', header=None)\n",
    "\n",
    "# target names is in modeling.py\n",
    "# split the dataset into training and validation datasets for just numerical data\n",
    "X_train_rating, X_test_rating, y_train_rating, y_test_rating = train_test_split(df_baseline[['rating', 'pages']], \n",
    "                                                                    df_baseline['best_seller'], \n",
    "                                                                    test_size = .2,\n",
    "                                                                   random_state=42)\n",
    "\n",
    "df_text = df_text_X \n",
    "df_text['_target'] = df_text_y[0]\n",
    "# deep vs shallow copies\n",
    "df_text_X = df_text_X.loc[:, df_text_X.columns != '_target']"
   ]
  },
  {
   "cell_type": "markdown",
   "metadata": {},
   "source": [
    "# Tree based Modeling"
   ]
  },
  {
   "cell_type": "markdown",
   "metadata": {},
   "source": [
    "## Numerical Random Forest"
   ]
  },
  {
   "cell_type": "code",
   "execution_count": 3,
   "metadata": {},
   "outputs": [],
   "source": [
    "rf = RandomForestClassifier(random_state=42)"
   ]
  },
  {
   "cell_type": "code",
   "execution_count": 4,
   "metadata": {},
   "outputs": [
    {
     "data": {
      "text/plain": [
       "{\"RandomForestClassifier(bootstrap=True, ccp_alpha=0.0, class_weight=None,\\n                       criterion='gini', max_depth=None, max_features='auto',\\n                       max_leaf_nodes=None, max_samples=None,\\n                       min_impurity_decrease=0.0, min_impurity_split=None,\\n                       min_samples_leaf=1, min_samples_split=2,\\n                       min_weight_fraction_leaf=0.0, n_estimators=100,\\n                       n_jobs=None, oob_score=False, random_state=42, verbose=0,\\n                       warm_start=False) score\": 0.982695810564663,\n",
       " 'clf confusion': array([[868,   3],\n",
       "        [ 16, 211]])}"
      ]
     },
     "execution_count": 4,
     "metadata": {},
     "output_type": "execute_result"
    }
   ],
   "source": [
    "baseline_modeling(rf, X_train_rating, y_train_rating)"
   ]
  },
  {
   "cell_type": "code",
   "execution_count": 5,
   "metadata": {},
   "outputs": [
    {
     "data": {
      "text/plain": [
       "{\"RandomForestClassifier(bootstrap=True, ccp_alpha=0.0, class_weight=None,\\n                       criterion='gini', max_depth=None, max_features='auto',\\n                       max_leaf_nodes=None, max_samples=None,\\n                       min_impurity_decrease=0.0, min_impurity_split=None,\\n                       min_samples_leaf=1, min_samples_split=2,\\n                       min_weight_fraction_leaf=0.0, n_estimators=100,\\n                       n_jobs=None, oob_score=False, random_state=42, verbose=0,\\n                       warm_start=False) score\": 0.982695810564663,\n",
       " 'clf confusion': array([[868,   3],\n",
       "        [ 16, 211]])}"
      ]
     },
     "execution_count": 5,
     "metadata": {},
     "output_type": "execute_result"
    },
    {
     "data": {
      "image/png": "[encoded data removed]",
      "text/plain": [
       "<Figure size 432x288 with 2 Axes>"
      ]
     },
     "metadata": {
      "needs_background": "light"
     },
     "output_type": "display_data"
    }
   ],
   "source": [
    "baseline_modeling(rf, X_train_rating, y_train_rating)"
   ]
  },
  {
   "cell_type": "code",
   "execution_count": 6,
   "metadata": {},
   "outputs": [],
   "source": [
    "# random_forest.decision_path(X_train_rating)"
   ]
  },
  {
   "cell_type": "code",
   "execution_count": 7,
   "metadata": {},
   "outputs": [],
   "source": [
    "# random_forest.decision_path(X_test_rating)"
   ]
  },
  {
   "cell_type": "code",
   "execution_count": 8,
   "metadata": {},
   "outputs": [],
   "source": [
    "# random_forest.feature_importances_"
   ]
  },
  {
   "cell_type": "markdown",
   "metadata": {},
   "source": [
    "## Text Modeling Random Forest"
   ]
  },
  {
   "cell_type": "code",
   "execution_count": 9,
   "metadata": {},
   "outputs": [],
   "source": [
    "rf_text = RandomForestClassifier(random_state=42)"
   ]
  },
  {
   "cell_type": "code",
   "execution_count": 10,
   "metadata": {},
   "outputs": [
    {
     "data": {
      "text/plain": [
       "{\"RandomForestClassifier(bootstrap=True, ccp_alpha=0.0, class_weight=None,\\n                       criterion='gini', max_depth=None, max_features='auto',\\n                       max_leaf_nodes=None, max_samples=None,\\n                       min_impurity_decrease=0.0, min_impurity_split=None,\\n                       min_samples_leaf=1, min_samples_split=2,\\n                       min_weight_fraction_leaf=0.0, n_estimators=100,\\n                       n_jobs=None, oob_score=False, random_state=42, verbose=0,\\n                       warm_start=False) score\": 0.98816029143898,\n",
       " 'clf confusion': array([[869,   2],\n",
       "        [ 11, 216]])}"
      ]
     },
     "execution_count": 10,
     "metadata": {},
     "output_type": "execute_result"
    },
    {
     "data": {
      "image/png": "[encoded data removed]",
      "text/plain": [
       "<Figure size 432x288 with 2 Axes>"
      ]
     },
     "metadata": {
      "needs_background": "light"
     },
     "output_type": "display_data"
    }
   ],
   "source": [
    "baseline_modeling(rf_text, df_text_X, df_text_y[0])\n"
   ]
  },
  {
   "cell_type": "code",
   "execution_count": 11,
   "metadata": {},
   "outputs": [
    {
     "data": {
      "text/plain": [
       "0.98816029143898"
      ]
     },
     "execution_count": 11,
     "metadata": {},
     "output_type": "execute_result"
    }
   ],
   "source": [
    "rf_text.score(df_text_X, df_text_y[0])"
   ]
  },
  {
   "cell_type": "markdown",
   "metadata": {},
   "source": [
    "# Logistic Regression"
   ]
  },
  {
   "cell_type": "markdown",
   "metadata": {},
   "source": [
    "## Numerical Logistic"
   ]
  },
  {
   "cell_type": "code",
   "execution_count": 12,
   "metadata": {},
   "outputs": [],
   "source": [
    "log  = LogisticRegression(random_state=42)"
   ]
  },
  {
   "cell_type": "code",
   "execution_count": 13,
   "metadata": {},
   "outputs": [
    {
     "data": {
      "text/plain": [
       "{\"LogisticRegression(C=1.0, class_weight=None, dual=False, fit_intercept=True,\\n                   intercept_scaling=1, l1_ratio=None, max_iter=100,\\n                   multi_class='auto', n_jobs=None, penalty='l2',\\n                   random_state=42, solver='lbfgs', tol=0.0001, verbose=0,\\n                   warm_start=False) score\": 0.807832422586521,\n",
       " 'clf confusion': array([[862,   9],\n",
       "        [202,  25]])}"
      ]
     },
     "execution_count": 13,
     "metadata": {},
     "output_type": "execute_result"
    },
    {
     "data": {
      "image/png": "[encoded data removed]",
      "text/plain": [
       "<Figure size 432x288 with 2 Axes>"
      ]
     },
     "metadata": {
      "needs_background": "light"
     },
     "output_type": "display_data"
    }
   ],
   "source": [
    "baseline_modeling(log, X_train_rating, y_train_rating)"
   ]
  },
  {
   "cell_type": "code",
   "execution_count": 14,
   "metadata": {},
   "outputs": [],
   "source": [
    "log_cv = LogisticRegressionCV(cv = 5, random_state=42)"
   ]
  },
  {
   "cell_type": "code",
   "execution_count": 15,
   "metadata": {},
   "outputs": [
    {
     "data": {
      "text/plain": [
       "{\"LogisticRegressionCV(Cs=10, class_weight=None, cv=5, dual=False,\\n                     fit_intercept=True, intercept_scaling=1.0, l1_ratios=None,\\n                     max_iter=100, multi_class='auto', n_jobs=None,\\n                     penalty='l2', random_state=42, refit=True, scoring=None,\\n                     solver='lbfgs', tol=0.0001, verbose=0) score\": 0.8060109289617486,\n",
       " 'clf confusion': array([[860,  11],\n",
       "        [202,  25]])}"
      ]
     },
     "execution_count": 15,
     "metadata": {},
     "output_type": "execute_result"
    },
    {
     "data": {
      "image/png": "[encoded data removed]",
      "text/plain": [
       "<Figure size 432x288 with 2 Axes>"
      ]
     },
     "metadata": {
      "needs_background": "light"
     },
     "output_type": "display_data"
    }
   ],
   "source": [
    "baseline_modeling(log_cv, X_train_rating, y_train_rating)"
   ]
  },
  {
   "cell_type": "markdown",
   "metadata": {},
   "source": [
    "## Text Modeling Logistic "
   ]
  },
  {
   "cell_type": "code",
   "execution_count": 16,
   "metadata": {},
   "outputs": [],
   "source": [
    "log_text = LogisticRegression(random_state=42)"
   ]
  },
  {
   "cell_type": "code",
   "execution_count": 17,
   "metadata": {},
   "outputs": [
    {
     "data": {
      "text/plain": [
       "{\"LogisticRegression(C=1.0, class_weight=None, dual=False, fit_intercept=True,\\n                   intercept_scaling=1, l1_ratio=None, max_iter=100,\\n                   multi_class='auto', n_jobs=None, penalty='l2',\\n                   random_state=42, solver='lbfgs', tol=0.0001, verbose=0,\\n                   warm_start=False) score\": 0.9653916211293261,\n",
       " 'clf confusion': array([[871,   0],\n",
       "        [ 38, 189]])}"
      ]
     },
     "execution_count": 17,
     "metadata": {},
     "output_type": "execute_result"
    },
    {
     "data": {
      "image/png": "[encoded data removed]",
      "text/plain": [
       "<Figure size 432x288 with 2 Axes>"
      ]
     },
     "metadata": {
      "needs_background": "light"
     },
     "output_type": "display_data"
    }
   ],
   "source": [
    "baseline_modeling(log_text, df_text_X, df_text_y[0] )"
   ]
  },
  {
   "cell_type": "code",
   "execution_count": 18,
   "metadata": {},
   "outputs": [],
   "source": [
    "# max iterations needed to be 100 -> 400 for text modeling\n",
    "log_text_cv = LogisticRegressionCV(cv = 5, max_iter=400, random_state=42)"
   ]
  },
  {
   "cell_type": "code",
   "execution_count": 19,
   "metadata": {},
   "outputs": [
    {
     "data": {
      "text/plain": [
       "{\"LogisticRegressionCV(Cs=10, class_weight=None, cv=5, dual=False,\\n                     fit_intercept=True, intercept_scaling=1.0, l1_ratios=None,\\n                     max_iter=400, multi_class='auto', n_jobs=None,\\n                     penalty='l2', random_state=42, refit=True, scoring=None,\\n                     solver='lbfgs', tol=0.0001, verbose=0) score\": 0.9389799635701275,\n",
       " 'clf confusion': array([[871,   0],\n",
       "        [ 67, 160]])}"
      ]
     },
     "execution_count": 19,
     "metadata": {},
     "output_type": "execute_result"
    },
    {
     "data": {
      "image/png": "[encoded data removed]",
      "text/plain": [
       "<Figure size 432x288 with 2 Axes>"
      ]
     },
     "metadata": {
      "needs_background": "light"
     },
     "output_type": "display_data"
    }
   ],
   "source": [
    "baseline_modeling(log_text_cv, df_text_X, df_text_y[0] )"
   ]
  },
  {
   "cell_type": "markdown",
   "metadata": {},
   "source": [
    "the cross validated logistic fit the training data slightly less."
   ]
  },
  {
   "cell_type": "markdown",
   "metadata": {},
   "source": [
    "# optimization"
   ]
  },
  {
   "cell_type": "markdown",
   "metadata": {},
   "source": [
    "## Logistic Regression"
   ]
  },
  {
   "cell_type": "code",
   "execution_count": 20,
   "metadata": {},
   "outputs": [],
   "source": [
    "# only use penalty_e with 'saga'\n",
    "penalty_e = 'elasticnet'\n",
    "solver_e = 'saga'\n",
    "\n",
    "#  'newton-cg', 'lbfgs', ‘sag’ and ‘saga’ handle L2 or no penalty\n",
    "# ‘liblinear’ solver supports both L1 and L2 regularization\n",
    "#  ‘elasticnet’ penalty is only supported by the ‘saga’ solver.\n",
    "penalty_l1_l2 = ['l1', 'l2']\n",
    "solvers_l1_l2 = ['saga', 'linlinear']\n",
    "\n",
    "# 'newton-cg' , 'lbfgs' , 'sag' , also not using 'saga'\n",
    "# using penalty_l2, these solvers can't use 'l1'\n",
    "penalty_l2 = ['l2', 'none']\n",
    "solvers_l2 = ['newton-cg', 'lbfgs', 'sag' ]\n",
    "\n",
    "# range of values for C\n",
    "C = np.logspace(-4, 4, 50)\n",
    "# {'C': [0.001, 0.01, 0.1, 1, 10, 100, 1000] }"
   ]
  },
  {
   "cell_type": "code",
   "execution_count": 21,
   "metadata": {},
   "outputs": [],
   "source": [
    "# hyperparameter space to iterate over\n",
    "distributions_l1_l2 = dict(C = np.logspace(-4, 4, 50),\n",
    "                    penalty = penalty_l1_l2,\n",
    "                    solver = solvers_l1_l2)\n",
    "\n",
    "distributions_l2 = dict(C = np.logspace(-4, 4, 50),\n",
    "                    penalty = penalty_l2,\n",
    "                    solver = solvers_l2)"
   ]
  },
  {
   "cell_type": "code",
   "execution_count": 22,
   "metadata": {},
   "outputs": [],
   "source": [
    "log_opt = LogisticRegression(random_state=42)\n"
   ]
  },
  {
   "cell_type": "code",
   "execution_count": 23,
   "metadata": {},
   "outputs": [],
   "source": [
    "log_ran = RandomizedSearchCV(log_opt, distributions_l1_l2, random_state=42)\n"
   ]
  },
  {
   "cell_type": "code",
   "execution_count": 24,
   "metadata": {},
   "outputs": [],
   "source": [
    "search = log_ran.fit(X_train_rating, y_train_rating)"
   ]
  },
  {
   "cell_type": "code",
   "execution_count": 25,
   "metadata": {},
   "outputs": [
    {
     "data": {
      "text/plain": [
       "{'solver': 'saga', 'penalty': 'l2', 'C': 0.0013894954943731374}"
      ]
     },
     "execution_count": 25,
     "metadata": {},
     "output_type": "execute_result"
    }
   ],
   "source": [
    "search.best_params_"
   ]
  },
  {
   "cell_type": "code",
   "execution_count": 26,
   "metadata": {},
   "outputs": [
    {
     "data": {
      "text/plain": [
       "0.7932604735883424"
      ]
     },
     "execution_count": 26,
     "metadata": {},
     "output_type": "execute_result"
    }
   ],
   "source": [
    "search.score(X_train_rating, y_train_rating)"
   ]
  },
  {
   "cell_type": "code",
   "execution_count": 27,
   "metadata": {},
   "outputs": [],
   "source": [
    "log_opt_l2 = LogisticRegression(random_state=42)"
   ]
  },
  {
   "cell_type": "code",
   "execution_count": 28,
   "metadata": {},
   "outputs": [],
   "source": [
    "log_ran_l2 = RandomizedSearchCV(log_opt_l2, distributions_l2, random_state=42)"
   ]
  },
  {
   "cell_type": "code",
   "execution_count": 29,
   "metadata": {},
   "outputs": [],
   "source": [
    "search_l2 = log_ran_l2.fit(X_train_rating, y_train_rating)"
   ]
  },
  {
   "cell_type": "code",
   "execution_count": 30,
   "metadata": {},
   "outputs": [
    {
     "data": {
      "text/plain": [
       "{'solver': 'newton-cg', 'penalty': 'none', 'C': 0.00014563484775012445}"
      ]
     },
     "execution_count": 30,
     "metadata": {},
     "output_type": "execute_result"
    }
   ],
   "source": [
    "search_l2.best_params_"
   ]
  },
  {
   "cell_type": "code",
   "execution_count": 31,
   "metadata": {},
   "outputs": [
    {
     "data": {
      "text/plain": [
       "0.8060109289617486"
      ]
     },
     "execution_count": 31,
     "metadata": {},
     "output_type": "execute_result"
    }
   ],
   "source": [
    "search_l2.score(X_train_rating, y_train_rating)"
   ]
  },
  {
   "cell_type": "code",
   "execution_count": 32,
   "metadata": {},
   "outputs": [
    {
     "data": {
      "text/plain": [
       "LogisticRegressionCV(Cs=10, class_weight=None, cv=5, dual=False,\n",
       "                     fit_intercept=True, intercept_scaling=1.0, l1_ratios=None,\n",
       "                     max_iter=100, multi_class='auto', n_jobs=None,\n",
       "                     penalty='l2', random_state=42, refit=True, scoring=None,\n",
       "                     solver='lbfgs', tol=0.0001, verbose=0)"
      ]
     },
     "execution_count": 32,
     "metadata": {},
     "output_type": "execute_result"
    }
   ],
   "source": [
    "log_cv"
   ]
  },
  {
   "cell_type": "code",
   "execution_count": 33,
   "metadata": {},
   "outputs": [
    {
     "data": {
      "text/plain": [
       "0.8060109289617486"
      ]
     },
     "execution_count": 33,
     "metadata": {},
     "output_type": "execute_result"
    }
   ],
   "source": [
    "log_cv.score(X_train_rating, y_train_rating)"
   ]
  },
  {
   "cell_type": "code",
   "execution_count": null,
   "metadata": {},
   "outputs": [],
   "source": []
  },
  {
   "cell_type": "markdown",
   "metadata": {},
   "source": [
    "# testing data"
   ]
  },
  {
   "cell_type": "code",
   "execution_count": null,
   "metadata": {},
   "outputs": [],
   "source": []
  },
  {
   "cell_type": "markdown",
   "metadata": {},
   "source": [
    "# TODO\n",
    "- check randomized search\n",
    "- testing data"
   ]
  },
  {
   "cell_type": "code",
   "execution_count": null,
   "metadata": {},
   "outputs": [],
   "source": []
  }
 ],
 "metadata": {
  "kernelspec": {
   "display_name": "Python 3",
   "language": "python",
   "name": "python3"
  },
  "language_info": {
   "codemirror_mode": {
    "name": "ipython",
    "version": 3
   },
   "file_extension": ".py",
   "mimetype": "text/x-python",
   "name": "python",
   "nbconvert_exporter": "python",
   "pygments_lexer": "ipython3",
   "version": "3.7.1"
  },
  "toc": {
   "base_numbering": 1,
   "nav_menu": {},
   "number_sections": true,
   "sideBar": true,
   "skip_h1_title": false,
   "title_cell": "Table of Contents",
   "title_sidebar": "Contents",
   "toc_cell": false,
   "toc_position": {},
   "toc_section_display": true,
   "toc_window_display": true
  }
 },
 "nbformat": 4,
 "nbformat_minor": 2
}
