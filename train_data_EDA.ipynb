{
 "cells": [
  {
   "cell_type": "markdown",
   "metadata": {},
   "source": [
    "# EDA"
   ]
  },
  {
   "cell_type": "code",
   "execution_count": 1,
   "metadata": {},
   "outputs": [],
   "source": [
    "import pandas as pd \n",
    "import seaborn as sns\n",
    "from matplotlib import pyplot as plt\n",
    "from sklearn import model_selection"
   ]
  },
  {
   "cell_type": "code",
   "execution_count": 2,
   "metadata": {},
   "outputs": [],
   "source": [
    "# this is for the metadata\n",
    "df = pd.read_csv('csv_files/9_1_all_books_df.csv')\n",
    "\n",
    "# this is for the vectorized text\n",
    "# the index is reset in this one... which should be fine \n",
    "df_text = pd.read_csv('csv_files/X_train_nlp.csv')\n",
    "\n",
    "# 'csv_files/y_train_nlp.csv', encoding='utf-8', index=False"
   ]
  },
  {
   "cell_type": "code",
   "execution_count": 3,
   "metadata": {
    "scrolled": true
   },
   "outputs": [
    {
     "data": {
      "text/plain": [
       "0       0\n",
       "1       0\n",
       "2       1\n",
       "3       0\n",
       "4       0\n",
       "5       1\n",
       "6       0\n",
       "7       0\n",
       "8       0\n",
       "9       0\n",
       "10      0\n",
       "11      0\n",
       "12      0\n",
       "13      0\n",
       "14      0\n",
       "15      0\n",
       "16      1\n",
       "17      0\n",
       "18      0\n",
       "19      1\n",
       "20      0\n",
       "21      0\n",
       "22      0\n",
       "23      0\n",
       "24      0\n",
       "25      0\n",
       "26      0\n",
       "27      0\n",
       "28      0\n",
       "29      0\n",
       "       ..\n",
       "1068    0\n",
       "1069    0\n",
       "1070    0\n",
       "1071    0\n",
       "1072    0\n",
       "1073    1\n",
       "1074    0\n",
       "1075    1\n",
       "1076    0\n",
       "1077    0\n",
       "1078    1\n",
       "1079    0\n",
       "1080    0\n",
       "1081    0\n",
       "1082    0\n",
       "1083    1\n",
       "1084    0\n",
       "1085    0\n",
       "1086    1\n",
       "1087    0\n",
       "1088    0\n",
       "1089    1\n",
       "1090    0\n",
       "1091    0\n",
       "1092    0\n",
       "1093    1\n",
       "1094    1\n",
       "1095    1\n",
       "1096    0\n",
       "1097    1\n",
       "Name: best_seller, Length: 1098, dtype: int64"
      ]
     },
     "execution_count": 3,
     "metadata": {},
     "output_type": "execute_result"
    }
   ],
   "source": [
    "# will concat X_train_nlp with X_train\n",
    "# processing flow, split metadata, reset index to match nlp data, concat, subset bestsellers and not\n",
    "X_train, X_test, y_train, y_test = model_selection.train_test_split(df[['title', 'author', 'format', 'genre', 'pages', 'rating']], \n",
    "                                                                    df['best_seller'], \n",
    "                                                                    test_size = .2,\n",
    "                                                                    random_state = 42)\n",
    "\n",
    "# reset the index to match processed df_text\n",
    "len(X_train)\n",
    "type(X_train)\n",
    "X_train.reset_index(drop = True)\n",
    "y_train.reset_index(drop = True)"
   ]
  },
  {
   "cell_type": "markdown",
   "metadata": {},
   "source": [
    "# metadata\n",
    "- y_train is bestseller ~bestseller\n",
    "- X_train is book meta data\n",
    "- df_text is just text data"
   ]
  },
  {
   "cell_type": "markdown",
   "metadata": {},
   "source": [
    "## concat meatadata and text dataframes"
   ]
  },
  {
   "cell_type": "code",
   "execution_count": 4,
   "metadata": {},
   "outputs": [
    {
     "name": "stdout",
     "output_type": "stream",
     "text": [
      "number of best sellers in training set 227\n",
      "number of total books in training set 1098\n"
     ]
    }
   ],
   "source": [
    "print('number of best sellers in training set', y_train.sum())\n",
    "print('number of total books in training set', len(y_train))"
   ]
  },
  {
   "cell_type": "code",
   "execution_count": 5,
   "metadata": {},
   "outputs": [
    {
     "data": {
      "text/plain": [
       "Index(['author', 'description', 'format', 'genre', 'month', 'pages',\n",
       "       'publisher', 'rating', 'title', 'year', 'best_seller'],\n",
       "      dtype='object')"
      ]
     },
     "execution_count": 5,
     "metadata": {},
     "output_type": "execute_result"
    }
   ],
   "source": [
    "df.columns"
   ]
  },
  {
   "cell_type": "code",
   "execution_count": 6,
   "metadata": {},
   "outputs": [],
   "source": [
    "X_train['bestseller'] = y_train"
   ]
  },
  {
   "cell_type": "code",
   "execution_count": 7,
   "metadata": {},
   "outputs": [],
   "source": [
    "# rename meta columns to not affect text dataframe\n",
    "X_train.rename(columns={'genre':'book_genre', 'author':'meta_author', \n",
    "                        'title':'meta_title', 'format':'meta_format',\n",
    "                        'pages':'meta_pages', 'rating':'meta_rating'},\n",
    "                        inplace = True)\n",
    "# X_train['book_genre'] = "
   ]
  },
  {
   "cell_type": "code",
   "execution_count": 8,
   "metadata": {},
   "outputs": [],
   "source": [
    "df = X_train.reset_index(drop = True)"
   ]
  },
  {
   "cell_type": "code",
   "execution_count": 9,
   "metadata": {},
   "outputs": [],
   "source": [
    "df = pd.concat([df, df_text], axis =1)"
   ]
  },
  {
   "cell_type": "code",
   "execution_count": 10,
   "metadata": {},
   "outputs": [
    {
     "data": {
      "text/plain": [
       "(1098, 5849)"
      ]
     },
     "execution_count": 10,
     "metadata": {},
     "output_type": "execute_result"
    }
   ],
   "source": [
    "df.shape"
   ]
  },
  {
   "cell_type": "markdown",
   "metadata": {},
   "source": [
    "## rating analysis"
   ]
  },
  {
   "cell_type": "code",
   "execution_count": 11,
   "metadata": {},
   "outputs": [
    {
     "data": {
      "text/plain": [
       "0"
      ]
     },
     "execution_count": 11,
     "metadata": {},
     "output_type": "execute_result"
    }
   ],
   "source": [
    "# check that every book is rated\n",
    "df.meta_rating.isnull().sum()"
   ]
  },
  {
   "cell_type": "code",
   "execution_count": 12,
   "metadata": {},
   "outputs": [
    {
     "data": {
      "image/png": "[encoded data removed]",
      "text/plain": [
       "<Figure size 720x720 with 1 Axes>"
      ]
     },
     "metadata": {},
     "output_type": "display_data"
    }
   ],
   "source": [
    "plt.figure(figsize=(10,10))\n",
    "ax = sns.boxplot(x=df[\"bestseller\"], y=df['meta_rating'])#, \n",
    "#                     data=df, palette=\"Set3\")\n"
   ]
  },
  {
   "cell_type": "code",
   "execution_count": 13,
   "metadata": {},
   "outputs": [
    {
     "data": {
      "text/plain": [
       "array([[<matplotlib.axes._subplots.AxesSubplot object at 0x1a1188fba8>,\n",
       "        <matplotlib.axes._subplots.AxesSubplot object at 0x1a11c655c0>]],\n",
       "      dtype=object)"
      ]
     },
     "execution_count": 13,
     "metadata": {},
     "output_type": "execute_result"
    },
    {
     "data": {
      "image/png": "[encoded data removed]",
      "text/plain": [
       "<Figure size 648x432 with 2 Axes>"
      ]
     },
     "metadata": {},
     "output_type": "display_data"
    }
   ],
   "source": [
    "df.hist(column=['meta_pages', 'meta_rating'], figsize=(9,6))"
   ]
  },
  {
   "cell_type": "markdown",
   "metadata": {},
   "source": [
    "## genre analysis"
   ]
  },
  {
   "cell_type": "code",
   "execution_count": 14,
   "metadata": {},
   "outputs": [
    {
     "data": {
      "text/plain": [
       "array(['Autobiography', 'Sequential Art', 'Economics', 'Fantasy',\n",
       "       'Historical', 'Fiction', 'Nonfiction', 'Horror', 'Young Adult',\n",
       "       'Poetry', 'Science', 'Short Stories', 'New Adult', 'Classics',\n",
       "       'Contemporary', 'Science Fiction', 'Childrens', 'Food and Drink',\n",
       "       'Humor', 'Thriller', 'Polyamorous', 'History', 'Romance',\n",
       "       'Mystery', 'Media Tie In', 'Literature', 'Biography', 'Politics',\n",
       "       'Paranormal', 'Writing', 'Dark', 'Business', 'Religion',\n",
       "       'Philosophy', 'Christian', 'Sports and Games'], dtype=object)"
      ]
     },
     "execution_count": 14,
     "metadata": {},
     "output_type": "execute_result"
    }
   ],
   "source": [
    "# need to look at book_genre more\n",
    "df['book_genre'].unique()\n",
    "# df['book_genre'].isnull().sum()"
   ]
  },
  {
   "cell_type": "code",
   "execution_count": 15,
   "metadata": {},
   "outputs": [
    {
     "data": {
      "text/plain": [
       "<matplotlib.axes._subplots.AxesSubplot at 0x1a119f7ef0>"
      ]
     },
     "execution_count": 15,
     "metadata": {},
     "output_type": "execute_result"
    },
    {
     "data": {
      "image/png": "[encoded data removed]",
      "text/plain": [
       "<Figure size 864x720 with 1 Axes>"
      ]
     },
     "metadata": {},
     "output_type": "display_data"
    }
   ],
   "source": [
    "# distrubtion by genre of all books\n",
    "df['book_genre'].value_counts().plot(kind='bar', title='distrubtion by genre', figsize=(12,10))\n"
   ]
  },
  {
   "cell_type": "code",
   "execution_count": 16,
   "metadata": {},
   "outputs": [],
   "source": [
    "# subset the dataframe into best sellers and not\n",
    "books = df.loc[df['bestseller'] == 0]\n",
    "best_books = df.loc[df['bestseller'] == 1]"
   ]
  },
  {
   "cell_type": "code",
   "execution_count": 17,
   "metadata": {},
   "outputs": [
    {
     "name": "stdout",
     "output_type": "stream",
     "text": [
      "(871, 5849)\n",
      "(227, 5849)\n"
     ]
    }
   ],
   "source": [
    "# this is just the distribution in the training data of bestsellers and not\n",
    "# non-bestsellers\n",
    "print(books.shape)\n",
    "# bestsellers\n",
    "print(best_books.shape)"
   ]
  },
  {
   "cell_type": "code",
   "execution_count": 18,
   "metadata": {},
   "outputs": [
    {
     "data": {
      "text/plain": [
       "<matplotlib.axes._subplots.AxesSubplot at 0x1a119fd9b0>"
      ]
     },
     "execution_count": 18,
     "metadata": {},
     "output_type": "execute_result"
    },
    {
     "data": {
      "image/png": "[encoded data removed]",
      "text/plain": [
       "<Figure size 864x720 with 1 Axes>"
      ]
     },
     "metadata": {},
     "output_type": "display_data"
    }
   ],
   "source": [
    "books['book_genre'].value_counts().plot(kind='bar', \n",
    "                                        title='distrubtion by genre for non bestsellers', figsize=(12,10))\n"
   ]
  },
  {
   "cell_type": "code",
   "execution_count": 19,
   "metadata": {},
   "outputs": [
    {
     "data": {
      "text/plain": [
       "<matplotlib.axes._subplots.AxesSubplot at 0x1a10af1630>"
      ]
     },
     "execution_count": 19,
     "metadata": {},
     "output_type": "execute_result"
    },
    {
     "data": {
      "image/png": "[encoded data removed]",
      "text/plain": [
       "<Figure size 864x720 with 1 Axes>"
      ]
     },
     "metadata": {},
     "output_type": "display_data"
    }
   ],
   "source": [
    "best_books['book_genre'].value_counts().plot(kind='bar', \n",
    "                                            title='distrubtion by genre for bestsellers', figsize=(12,10))\n"
   ]
  },
  {
   "cell_type": "code",
   "execution_count": 20,
   "metadata": {},
   "outputs": [
    {
     "name": "stdout",
     "output_type": "stream",
     "text": [
      " NYT bestselling genres ['Economics' 'Fiction' 'Short Stories' 'Classics' 'Nonfiction' 'Science'\n",
      " 'Autobiography' 'Sequential Art' 'Poetry' 'Literature' 'Biography'\n",
      " 'Historical' 'History' 'Politics' 'Writing' 'Fantasy' 'Romance' 'Mystery'\n",
      " 'Young Adult' 'Philosophy' 'Horror'] \n",
      " \n",
      " Non-bestselling genres ['Autobiography' 'Sequential Art' 'Fantasy' 'Historical' 'Nonfiction'\n",
      " 'Fiction' 'Horror' 'Young Adult' 'Poetry' 'Science' 'New Adult'\n",
      " 'Contemporary' 'Science Fiction' 'Childrens' 'Food and Drink' 'Humor'\n",
      " 'Thriller' 'Polyamorous' 'History' 'Romance' 'Mystery' 'Media Tie In'\n",
      " 'Biography' 'Politics' 'Paranormal' 'Short Stories' 'Dark' 'Business'\n",
      " 'Religion' 'Economics' 'Christian' 'Sports and Games' 'Writing']\n"
     ]
    }
   ],
   "source": [
    "print(' NYT bestselling genres',best_books['book_genre'].unique(), '\\n \\n', \n",
    "      'Non-bestselling genres', books['book_genre'].unique())"
   ]
  },
  {
   "cell_type": "code",
   "execution_count": 21,
   "metadata": {},
   "outputs": [
    {
     "name": "stdout",
     "output_type": "stream",
     "text": [
      " Genres that don't appear on the NYT bestseller list \n",
      " ['New Adult', 'Contemporary', 'Science Fiction', 'Childrens', 'Food and Drink', 'Humor', 'Thriller', 'Polyamorous', 'Media Tie In', 'Paranormal', 'Dark', 'Business', 'Religion', 'Christian', 'Sports and Games']\n"
     ]
    }
   ],
   "source": [
    "print(\" Genres that don't appear on the NYT bestseller list \\n\", \n",
    "      [x for x in books['book_genre'].unique() if not x in best_books['book_genre'].unique()])\n",
    "\n"
   ]
  },
  {
   "cell_type": "markdown",
   "metadata": {},
   "source": [
    "These genres might be to predictive during modeling\n",
    "- consider dropping books with those genres\n",
    "- consolidating genres to 'top hits'"
   ]
  },
  {
   "cell_type": "markdown",
   "metadata": {},
   "source": [
    "## author analysis"
   ]
  },
  {
   "cell_type": "code",
   "execution_count": 22,
   "metadata": {},
   "outputs": [
    {
     "data": {
      "text/plain": [
       "(1098,)"
      ]
     },
     "execution_count": 22,
     "metadata": {},
     "output_type": "execute_result"
    }
   ],
   "source": [
    "df.columns\n",
    "df.meta_author.shape"
   ]
  },
  {
   "cell_type": "code",
   "execution_count": 23,
   "metadata": {},
   "outputs": [
    {
     "name": "stdout",
     "output_type": "stream",
     "text": [
      "There are 955 unique authors of 1098 books\n"
     ]
    }
   ],
   "source": [
    "print('There are', df.meta_author.unique().shape[0], 'unique authors of', df.meta_author.shape[0], 'books')"
   ]
  },
  {
   "cell_type": "code",
   "execution_count": 24,
   "metadata": {},
   "outputs": [
    {
     "data": {
      "text/plain": [
       "Sarah J. Maas            6\n",
       "Stephen King             6\n",
       "Brandon Sanderson        5\n",
       "Brian K. Vaughan         5\n",
       "Rick Riordan             4\n",
       "Grady Hendrix            3\n",
       "Mark  Lawrence           3\n",
       "Yoon Ha Lee              3\n",
       "Michael J. Sullivan      3\n",
       "Tahereh Mafi             3\n",
       "Charles Stross           3\n",
       "Chris Colfer             3\n",
       "Kasie West               3\n",
       "B.A. Paris               3\n",
       "Penny Reid               3\n",
       "Seanan McGuire           3\n",
       "Sarah Andersen           3\n",
       "Dot Hutchison            3\n",
       "Marjorie M. Liu          3\n",
       "Victoria Aveyard         3\n",
       "Brandon Mull             3\n",
       "Marissa Meyer            2\n",
       "Tui T. Sutherland        2\n",
       "Veronica Roth            2\n",
       "Michael   Lewis          2\n",
       "Jesmyn Ward              2\n",
       "Leigh Bardugo            2\n",
       "Philippa Gregory         2\n",
       "Roxane Gay               2\n",
       "Anne Bishop              2\n",
       "                        ..\n",
       "Kimberly Belle           1\n",
       "Jessie Sima              1\n",
       "Jenny Erpenbeck          1\n",
       "Catherynne M. Valente    1\n",
       "Robert Kurson            1\n",
       "Tasty                    1\n",
       "Joy Williams             1\n",
       "Ryan Holiday             1\n",
       "Tiffany McDaniel         1\n",
       "Alan Partridge           1\n",
       "Aleatha Romig            1\n",
       "Patricia Lockwood        1\n",
       "Dan Moren                1\n",
       "Timothy Egan             1\n",
       "Adrienne Rich            1\n",
       "Kate Atkinson            1\n",
       "Imbolo Mbue              1\n",
       "Neal Bascomb             1\n",
       "Stuart Turton            1\n",
       "J.P. Delaney             1\n",
       "Erin Gibson              1\n",
       "Mur Lafferty             1\n",
       "Varun Sivaram            1\n",
       "Tom Hart                 1\n",
       "Gabrielle Zevin          1\n",
       "James Patterson          1\n",
       "Jonathan London          1\n",
       "Pittacus Lore            1\n",
       "Gina Homolka             1\n",
       "Larry Olmsted            1\n",
       "Name: meta_author, Length: 955, dtype: int64"
      ]
     },
     "execution_count": 24,
     "metadata": {},
     "output_type": "execute_result"
    }
   ],
   "source": [
    "df.meta_author.value_counts() "
   ]
  },
  {
   "cell_type": "markdown",
   "metadata": {},
   "source": [
    "No surprise Stephen King is the most prolific author in the dataset"
   ]
  },
  {
   "cell_type": "markdown",
   "metadata": {},
   "source": [
    "# TODO\n",
    "- Add text feature EDA\n"
   ]
  },
  {
   "cell_type": "code",
   "execution_count": null,
   "metadata": {},
   "outputs": [],
   "source": []
  }
 ],
 "metadata": {
  "kernelspec": {
   "display_name": "Python 3",
   "language": "python",
   "name": "python3"
  },
  "language_info": {
   "codemirror_mode": {
    "name": "ipython",
    "version": 3
   },
   "file_extension": ".py",
   "mimetype": "text/x-python",
   "name": "python",
   "nbconvert_exporter": "python",
   "pygments_lexer": "ipython3",
   "version": "3.6.5"
  },
  "toc": {
   "base_numbering": 1,
   "nav_menu": {},
   "number_sections": true,
   "sideBar": true,
   "skip_h1_title": false,
   "title_cell": "Table of Contents",
   "title_sidebar": "Contents",
   "toc_cell": false,
   "toc_position": {},
   "toc_section_display": true,
   "toc_window_display": false
  }
 },
 "nbformat": 4,
 "nbformat_minor": 2
}
