{
 "cells": [
  {
   "cell_type": "markdown",
   "metadata": {},
   "source": [
    "# EDA"
   ]
  },
  {
   "cell_type": "code",
   "execution_count": 2,
   "metadata": {},
   "outputs": [],
   "source": [
    "import pandas as pd \n",
    "import seaborn as sns\n",
    "from matplotlib import pyplot as plt\n",
    "from sklearn import model_selection\n"
   ]
  },
  {
   "cell_type": "code",
   "execution_count": 3,
   "metadata": {},
   "outputs": [],
   "source": [
    "# this is for the metadata\n",
    "df = pd.read_csv('csv_files/9_1_all_books_df.csv')\n",
    "\n",
    "# this is for the vectorized text\n",
    "# the index is reset in this one... which should be fine \n",
    "df_text = pd.read_csv('csv_files/X_train_nlp.csv')\n",
    "\n",
    "\n",
    "\n",
    "# 'csv_files/X_train_nlp.csv', encoding='utf-8', index=False\n",
    "# 'csv_files/y_train_nlp.csv', encoding='utf-8', index=False"
   ]
  },
  {
   "cell_type": "code",
   "execution_count": 4,
   "metadata": {},
   "outputs": [
    {
     "data": {
      "text/html": [
       "<div>\n",
       "<style scoped>\n",
       "    .dataframe tbody tr th:only-of-type {\n",
       "        vertical-align: middle;\n",
       "    }\n",
       "\n",
       "    .dataframe tbody tr th {\n",
       "        vertical-align: top;\n",
       "    }\n",
       "\n",
       "    .dataframe thead th {\n",
       "        text-align: right;\n",
       "    }\n",
       "</style>\n",
       "<table border=\"1\" class=\"dataframe\">\n",
       "  <thead>\n",
       "    <tr style=\"text-align: right;\">\n",
       "      <th></th>\n",
       "      <th>aaron</th>\n",
       "      <th>ab</th>\n",
       "      <th>abandon</th>\n",
       "      <th>abandonment</th>\n",
       "      <th>abby</th>\n",
       "      <th>abc</th>\n",
       "      <th>abduct</th>\n",
       "      <th>abducted</th>\n",
       "      <th>ability</th>\n",
       "      <th>able</th>\n",
       "      <th>...</th>\n",
       "      <th>zelda</th>\n",
       "      <th>zest</th>\n",
       "      <th>zeus</th>\n",
       "      <th>zillion</th>\n",
       "      <th>zimmer</th>\n",
       "      <th>zoe</th>\n",
       "      <th>zone</th>\n",
       "      <th>zoom</th>\n",
       "      <th>zorie</th>\n",
       "      <th>zoroastrian</th>\n",
       "    </tr>\n",
       "  </thead>\n",
       "  <tbody>\n",
       "    <tr>\n",
       "      <th>0</th>\n",
       "      <td>0</td>\n",
       "      <td>0</td>\n",
       "      <td>0</td>\n",
       "      <td>0</td>\n",
       "      <td>0</td>\n",
       "      <td>0</td>\n",
       "      <td>0</td>\n",
       "      <td>0</td>\n",
       "      <td>0</td>\n",
       "      <td>0</td>\n",
       "      <td>...</td>\n",
       "      <td>0</td>\n",
       "      <td>0</td>\n",
       "      <td>0</td>\n",
       "      <td>0</td>\n",
       "      <td>0</td>\n",
       "      <td>0</td>\n",
       "      <td>0</td>\n",
       "      <td>0</td>\n",
       "      <td>0</td>\n",
       "      <td>0</td>\n",
       "    </tr>\n",
       "    <tr>\n",
       "      <th>1</th>\n",
       "      <td>0</td>\n",
       "      <td>0</td>\n",
       "      <td>0</td>\n",
       "      <td>0</td>\n",
       "      <td>0</td>\n",
       "      <td>0</td>\n",
       "      <td>0</td>\n",
       "      <td>0</td>\n",
       "      <td>0</td>\n",
       "      <td>0</td>\n",
       "      <td>...</td>\n",
       "      <td>0</td>\n",
       "      <td>0</td>\n",
       "      <td>0</td>\n",
       "      <td>0</td>\n",
       "      <td>0</td>\n",
       "      <td>0</td>\n",
       "      <td>0</td>\n",
       "      <td>0</td>\n",
       "      <td>0</td>\n",
       "      <td>0</td>\n",
       "    </tr>\n",
       "  </tbody>\n",
       "</table>\n",
       "<p>2 rows × 5842 columns</p>\n",
       "</div>"
      ],
      "text/plain": [
       "   aaron  ab  abandon  abandonment  abby  abc  abduct  abducted  ability  \\\n",
       "0      0   0        0            0     0    0       0         0        0   \n",
       "1      0   0        0            0     0    0       0         0        0   \n",
       "\n",
       "   able     ...       zelda  zest  zeus  zillion  zimmer  zoe  zone  zoom  \\\n",
       "0     0     ...           0     0     0        0       0    0     0     0   \n",
       "1     0     ...           0     0     0        0       0    0     0     0   \n",
       "\n",
       "   zorie  zoroastrian  \n",
       "0      0            0  \n",
       "1      0            0  \n",
       "\n",
       "[2 rows x 5842 columns]"
      ]
     },
     "execution_count": 4,
     "metadata": {},
     "output_type": "execute_result"
    }
   ],
   "source": [
    "df_text.head(2)"
   ]
  },
  {
   "cell_type": "code",
   "execution_count": 5,
   "metadata": {},
   "outputs": [
    {
     "data": {
      "text/html": [
       "<div>\n",
       "<style scoped>\n",
       "    .dataframe tbody tr th:only-of-type {\n",
       "        vertical-align: middle;\n",
       "    }\n",
       "\n",
       "    .dataframe tbody tr th {\n",
       "        vertical-align: top;\n",
       "    }\n",
       "\n",
       "    .dataframe thead th {\n",
       "        text-align: right;\n",
       "    }\n",
       "</style>\n",
       "<table border=\"1\" class=\"dataframe\">\n",
       "  <thead>\n",
       "    <tr style=\"text-align: right;\">\n",
       "      <th></th>\n",
       "      <th>author</th>\n",
       "      <th>description</th>\n",
       "      <th>format</th>\n",
       "      <th>genre</th>\n",
       "      <th>month</th>\n",
       "      <th>pages</th>\n",
       "      <th>publisher</th>\n",
       "      <th>rating</th>\n",
       "      <th>title</th>\n",
       "      <th>year</th>\n",
       "      <th>best_seller</th>\n",
       "    </tr>\n",
       "  </thead>\n",
       "  <tbody>\n",
       "    <tr>\n",
       "      <th>0</th>\n",
       "      <td>Liane Moriarty</td>\n",
       "      <td>Six responsible adults. Three cute kids. One s...</td>\n",
       "      <td>Hardcover</td>\n",
       "      <td>Fiction</td>\n",
       "      <td>July</td>\n",
       "      <td>415</td>\n",
       "      <td>Flatiron Books</td>\n",
       "      <td>3.56</td>\n",
       "      <td>Truly Madly Guilty</td>\n",
       "      <td>2016.0</td>\n",
       "      <td>0</td>\n",
       "    </tr>\n",
       "    <tr>\n",
       "      <th>1</th>\n",
       "      <td>Bryn Greenwood</td>\n",
       "      <td>As the daughter of a meth dealer, Wavy knows n...</td>\n",
       "      <td>Hardcover</td>\n",
       "      <td>Fiction</td>\n",
       "      <td>August</td>\n",
       "      <td>346</td>\n",
       "      <td>Thomas Dunne Books</td>\n",
       "      <td>4.07</td>\n",
       "      <td>All the Ugly and Wonderful Things</td>\n",
       "      <td>2016.0</td>\n",
       "      <td>0</td>\n",
       "    </tr>\n",
       "  </tbody>\n",
       "</table>\n",
       "</div>"
      ],
      "text/plain": [
       "           author                                        description  \\\n",
       "0  Liane Moriarty  Six responsible adults. Three cute kids. One s...   \n",
       "1  Bryn Greenwood  As the daughter of a meth dealer, Wavy knows n...   \n",
       "\n",
       "      format    genre   month  pages           publisher  rating  \\\n",
       "0  Hardcover  Fiction    July    415      Flatiron Books    3.56   \n",
       "1  Hardcover  Fiction  August    346  Thomas Dunne Books    4.07   \n",
       "\n",
       "                               title    year  best_seller  \n",
       "0                 Truly Madly Guilty  2016.0            0  \n",
       "1  All the Ugly and Wonderful Things  2016.0            0  "
      ]
     },
     "execution_count": 5,
     "metadata": {},
     "output_type": "execute_result"
    }
   ],
   "source": [
    "df.head(2)"
   ]
  },
  {
   "cell_type": "code",
   "execution_count": 5,
   "metadata": {},
   "outputs": [],
   "source": [
    "X_train, X_test, y_train, y_test = model_selection.train_test_split(df[['title', 'author', 'format', 'genre', 'pages', 'rating']], \n",
    "                                                                    df['best_seller'], \n",
    "                                                                    test_size = .2,\n",
    "                                                                    random_state = 42)"
   ]
  },
  {
   "cell_type": "code",
   "execution_count": 7,
   "metadata": {
    "scrolled": true
   },
   "outputs": [
    {
     "data": {
      "text/plain": [
       "0       0\n",
       "1       0\n",
       "2       1\n",
       "3       0\n",
       "4       0\n",
       "5       1\n",
       "6       0\n",
       "7       0\n",
       "8       0\n",
       "9       0\n",
       "10      0\n",
       "11      0\n",
       "12      0\n",
       "13      0\n",
       "14      0\n",
       "15      0\n",
       "16      1\n",
       "17      0\n",
       "18      0\n",
       "19      1\n",
       "20      0\n",
       "21      0\n",
       "22      0\n",
       "23      0\n",
       "24      0\n",
       "25      0\n",
       "26      0\n",
       "27      0\n",
       "28      0\n",
       "29      0\n",
       "       ..\n",
       "1068    0\n",
       "1069    0\n",
       "1070    0\n",
       "1071    0\n",
       "1072    0\n",
       "1073    1\n",
       "1074    0\n",
       "1075    1\n",
       "1076    0\n",
       "1077    0\n",
       "1078    1\n",
       "1079    0\n",
       "1080    0\n",
       "1081    0\n",
       "1082    0\n",
       "1083    1\n",
       "1084    0\n",
       "1085    0\n",
       "1086    1\n",
       "1087    0\n",
       "1088    0\n",
       "1089    1\n",
       "1090    0\n",
       "1091    0\n",
       "1092    0\n",
       "1093    1\n",
       "1094    1\n",
       "1095    1\n",
       "1096    0\n",
       "1097    1\n",
       "Name: best_seller, Length: 1098, dtype: int64"
      ]
     },
     "execution_count": 7,
     "metadata": {},
     "output_type": "execute_result"
    }
   ],
   "source": [
    "# reset the index to match df_text\n",
    "len(X_train)\n",
    "type(X_train)\n",
    "X_train.reset_index(drop = True)\n",
    "y_train.reset_index(drop = True)"
   ]
  },
  {
   "cell_type": "markdown",
   "metadata": {},
   "source": [
    "# data\n",
    "- y_train is bestseller ~bestseller\n",
    "- X_train is book meta data\n",
    "- df_text is just text data"
   ]
  },
  {
   "cell_type": "code",
   "execution_count": 8,
   "metadata": {},
   "outputs": [
    {
     "name": "stdout",
     "output_type": "stream",
     "text": [
      "number of best sellers in training set 227\n",
      "number of total books in training set 1098\n"
     ]
    }
   ],
   "source": [
    "print('number of best sellers in training set', y_train.sum())\n",
    "print('number of total books in training set', len(y_train))"
   ]
  },
  {
   "cell_type": "code",
   "execution_count": 9,
   "metadata": {},
   "outputs": [
    {
     "data": {
      "text/plain": [
       "Index(['author', 'description', 'format', 'genre', 'month', 'pages',\n",
       "       'publisher', 'rating', 'title', 'year', 'best_seller'],\n",
       "      dtype='object')"
      ]
     },
     "execution_count": 9,
     "metadata": {},
     "output_type": "execute_result"
    }
   ],
   "source": [
    "df.columns"
   ]
  },
  {
   "cell_type": "code",
   "execution_count": 10,
   "metadata": {},
   "outputs": [],
   "source": [
    "X_train['bestseller'] = y_train"
   ]
  },
  {
   "cell_type": "code",
   "execution_count": 11,
   "metadata": {},
   "outputs": [],
   "source": [
    "X_train.rename(columns={'genre':'book_genre'}, inplace = True)\n",
    "# X_train['book_genre'] = "
   ]
  },
  {
   "cell_type": "code",
   "execution_count": 12,
   "metadata": {},
   "outputs": [],
   "source": [
    "df = X_train.reset_index(drop = True)"
   ]
  },
  {
   "cell_type": "code",
   "execution_count": 13,
   "metadata": {},
   "outputs": [],
   "source": [
    "df = pd.concat([df, df_text], axis =1)"
   ]
  },
  {
   "cell_type": "code",
   "execution_count": 14,
   "metadata": {},
   "outputs": [
    {
     "data": {
      "text/plain": [
       "(1098, 5849)"
      ]
     },
     "execution_count": 14,
     "metadata": {},
     "output_type": "execute_result"
    }
   ],
   "source": [
    "df.shape"
   ]
  },
  {
   "cell_type": "code",
   "execution_count": 15,
   "metadata": {},
   "outputs": [
    {
     "data": {
      "text/plain": [
       "0"
      ]
     },
     "execution_count": 15,
     "metadata": {},
     "output_type": "execute_result"
    }
   ],
   "source": [
    "# check that every book is rated\n",
    "df.rating.isnull().sum()"
   ]
  },
  {
   "cell_type": "code",
   "execution_count": 16,
   "metadata": {},
   "outputs": [
    {
     "data": {
      "image/png": "[encoded data removed]",
      "text/plain": [
       "<Figure size 720x720 with 1 Axes>"
      ]
     },
     "metadata": {},
     "output_type": "display_data"
    }
   ],
   "source": [
    "plt.figure(figsize=(10,10))\n",
    "ax = sns.boxplot(x=df[\"bestseller\"], y=df['rating'])#, \n",
    "#                     data=df, palette=\"Set3\")\n"
   ]
  },
  {
   "cell_type": "code",
   "execution_count": null,
   "metadata": {},
   "outputs": [],
   "source": []
  },
  {
   "cell_type": "code",
   "execution_count": 18,
   "metadata": {},
   "outputs": [
    {
     "data": {
      "text/plain": [
       "array([[<matplotlib.axes._subplots.AxesSubplot object at 0x1a166ee978>,\n",
       "        <matplotlib.axes._subplots.AxesSubplot object at 0x1097ac780>]],\n",
       "      dtype=object)"
      ]
     },
     "execution_count": 18,
     "metadata": {},
     "output_type": "execute_result"
    },
    {
     "data": {
      "image/png": "[encoded data removed]",
      "text/plain": [
       "<Figure size 576x576 with 2 Axes>"
      ]
     },
     "metadata": {},
     "output_type": "display_data"
    }
   ],
   "source": [
    "df.hist(column=['pages', 'rating'], figsize=(8,8))"
   ]
  },
  {
   "cell_type": "code",
   "execution_count": 19,
   "metadata": {},
   "outputs": [
    {
     "data": {
      "text/plain": [
       "array(['Autobiography', 'Sequential Art', 'Economics', 'Fantasy',\n",
       "       'Historical', 'Fiction', 'Nonfiction', 'Horror', 'Young Adult',\n",
       "       'Poetry', 'Science', 'Short Stories', 'New Adult', 'Classics',\n",
       "       'Contemporary', 'Science Fiction', 'Childrens', 'Food and Drink',\n",
       "       'Humor', 'Thriller', 'Polyamorous', 'History', 'Romance',\n",
       "       'Mystery', 'Media Tie In', 'Literature', 'Biography', 'Politics',\n",
       "       'Paranormal', 'Writing', 'Dark', 'Business', 'Religion',\n",
       "       'Philosophy', 'Christian', 'Sports and Games'], dtype=object)"
      ]
     },
     "execution_count": 19,
     "metadata": {},
     "output_type": "execute_result"
    }
   ],
   "source": [
    "# need to look at book_genre more\n",
    "df['book_genre'].unique()\n",
    "# df['book_genre'].isnull().sum()"
   ]
  },
  {
   "cell_type": "code",
   "execution_count": 20,
   "metadata": {},
   "outputs": [
    {
     "data": {
      "text/plain": [
       "<matplotlib.axes._subplots.AxesSubplot at 0x1a16bbb710>"
      ]
     },
     "execution_count": 20,
     "metadata": {},
     "output_type": "execute_result"
    },
    {
     "data": {
      "image/png": "[encoded data removed]",
      "text/plain": [
       "<Figure size 432x288 with 1 Axes>"
      ]
     },
     "metadata": {},
     "output_type": "display_data"
    }
   ],
   "source": [
    "# this plot is for all books, bestsellers and not\n",
    "# sns.set(rc={'figure.figsize':(16,12)})\n",
    "# sns.countplot(x ='book_genre', data = df )\n",
    "# plt.xticks(rotation=68)\n",
    "# plt.title('Distribution of Genres')\n",
    "# plt.show()\n",
    "# df.plot.bar(x = df['book_genre'])\n",
    "\n",
    "# looking at the distrubtion by genre\n",
    "df['book_genre'].value_counts().plot(kind='bar', title='distrubtion by genre')"
   ]
  },
  {
   "cell_type": "code",
   "execution_count": 21,
   "metadata": {},
   "outputs": [],
   "source": [
    "books = df.loc[df['bestseller'] == 0]\n",
    "best_books = df.loc[df['bestseller'] == 1]"
   ]
  },
  {
   "cell_type": "code",
   "execution_count": 22,
   "metadata": {},
   "outputs": [
    {
     "name": "stdout",
     "output_type": "stream",
     "text": [
      "(871, 5849)\n",
      "(227, 5849)\n"
     ]
    }
   ],
   "source": [
    "# this is just the distribution in the training data of bestsellers and not\n",
    "# non-bestsellers\n",
    "print(books.shape)\n",
    "# bestsellers\n",
    "print(best_books.shape)"
   ]
  },
  {
   "cell_type": "code",
   "execution_count": 23,
   "metadata": {},
   "outputs": [
    {
     "data": {
      "text/plain": [
       "<matplotlib.axes._subplots.AxesSubplot at 0x1a16dae860>"
      ]
     },
     "execution_count": 23,
     "metadata": {},
     "output_type": "execute_result"
    },
    {
     "data": {
      "image/png": "[encoded data removed]",
      "text/plain": [
       "<Figure size 432x288 with 1 Axes>"
      ]
     },
     "metadata": {},
     "output_type": "display_data"
    }
   ],
   "source": [
    "books['book_genre'].value_counts().plot(kind='bar', title='distrubtion by genre for not bestsellers')\n",
    "\n"
   ]
  },
  {
   "cell_type": "code",
   "execution_count": 24,
   "metadata": {},
   "outputs": [
    {
     "data": {
      "text/plain": [
       "<matplotlib.axes._subplots.AxesSubplot at 0x1a16ce4da0>"
      ]
     },
     "execution_count": 24,
     "metadata": {},
     "output_type": "execute_result"
    },
    {
     "data": {
      "image/png": "[encoded data removed]",
      "text/plain": [
       "<Figure size 432x288 with 1 Axes>"
      ]
     },
     "metadata": {},
     "output_type": "display_data"
    }
   ],
   "source": [
    "best_books['book_genre'].value_counts().plot(kind='bar', title='distrubtion by genre for bestsellers')\n"
   ]
  },
  {
   "cell_type": "code",
   "execution_count": 25,
   "metadata": {},
   "outputs": [
    {
     "ename": "NameError",
     "evalue": "name 'off_the_list_df' is not defined",
     "output_type": "error",
     "traceback": [
      "\u001b[0;31m---------------------------------------------------------------------------\u001b[0m",
      "\u001b[0;31mNameError\u001b[0m                                 Traceback (most recent call last)",
      "\u001b[0;32m<ipython-input-25-4e402a5ed8d2>\u001b[0m in \u001b[0;36m<module>\u001b[0;34m()\u001b[0m\n\u001b[1;32m      1\u001b[0m \u001b[0;31m# this plot is for books that are not bestsellers\u001b[0m\u001b[0;34m\u001b[0m\u001b[0;34m\u001b[0m\u001b[0m\n\u001b[1;32m      2\u001b[0m \u001b[0msns\u001b[0m\u001b[0;34m.\u001b[0m\u001b[0mset\u001b[0m\u001b[0;34m(\u001b[0m\u001b[0mrc\u001b[0m\u001b[0;34m=\u001b[0m\u001b[0;34m{\u001b[0m\u001b[0;34m'figure.figsize'\u001b[0m\u001b[0;34m:\u001b[0m\u001b[0;34m(\u001b[0m\u001b[0;36m16\u001b[0m\u001b[0;34m,\u001b[0m\u001b[0;36m12\u001b[0m\u001b[0;34m)\u001b[0m\u001b[0;34m}\u001b[0m\u001b[0;34m)\u001b[0m\u001b[0;34m\u001b[0m\u001b[0m\n\u001b[0;32m----> 3\u001b[0;31m \u001b[0msns\u001b[0m\u001b[0;34m.\u001b[0m\u001b[0mcountplot\u001b[0m\u001b[0;34m(\u001b[0m\u001b[0moff_the_list_df\u001b[0m\u001b[0;34m[\u001b[0m\u001b[0;34m'genre'\u001b[0m\u001b[0;34m]\u001b[0m\u001b[0;34m,\u001b[0m\u001b[0mlabel\u001b[0m\u001b[0;34m=\u001b[0m\u001b[0;34m\"Count\"\u001b[0m\u001b[0;34m,\u001b[0m \u001b[0;34m)\u001b[0m\u001b[0;34m\u001b[0m\u001b[0m\n\u001b[0m\u001b[1;32m      4\u001b[0m \u001b[0mplt\u001b[0m\u001b[0;34m.\u001b[0m\u001b[0mxticks\u001b[0m\u001b[0;34m(\u001b[0m\u001b[0mrotation\u001b[0m\u001b[0;34m=\u001b[0m\u001b[0;36m68\u001b[0m\u001b[0;34m)\u001b[0m\u001b[0;34m\u001b[0m\u001b[0m\n\u001b[1;32m      5\u001b[0m \u001b[0mplt\u001b[0m\u001b[0;34m.\u001b[0m\u001b[0mtitle\u001b[0m\u001b[0;34m(\u001b[0m\u001b[0;34m'Distribution of Genres for non Bestsellers'\u001b[0m\u001b[0;34m)\u001b[0m\u001b[0;34m\u001b[0m\u001b[0m\n",
      "\u001b[0;31mNameError\u001b[0m: name 'off_the_list_df' is not defined"
     ]
    }
   ],
   "source": [
    "# this plot is for books that are not bestsellers\n",
    "sns.set(rc={'figure.figsize':(16,12)})\n",
    "sns.countplot(off_the_list_df['genre'],label=\"Count\", )\n",
    "plt.xticks(rotation=68)\n",
    "plt.title('Distribution of Genres for non Bestsellers')\n",
    "plt.show()"
   ]
  },
  {
   "cell_type": "code",
   "execution_count": null,
   "metadata": {},
   "outputs": [],
   "source": [
    "# this plot is for books that are not bestsellers\n",
    "sns.set(rc={'figure.figsize':(16,12)})\n",
    "sns.countplot(bs_df['genre'],label=\"Count\", )\n",
    "plt.xticks(rotation=68)\n",
    "plt.title('Distribution of Genres for Bestsellers')\n",
    "plt.show()"
   ]
  },
  {
   "cell_type": "code",
   "execution_count": null,
   "metadata": {},
   "outputs": [],
   "source": []
  },
  {
   "cell_type": "code",
   "execution_count": null,
   "metadata": {},
   "outputs": [],
   "source": []
  }
 ],
 "metadata": {
  "kernelspec": {
   "display_name": "Python 3",
   "language": "python",
   "name": "python3"
  },
  "language_info": {
   "codemirror_mode": {
    "name": "ipython",
    "version": 3
   },
   "file_extension": ".py",
   "mimetype": "text/x-python",
   "name": "python",
   "nbconvert_exporter": "python",
   "pygments_lexer": "ipython3",
   "version": "3.7.1"
  }
 },
 "nbformat": 4,
 "nbformat_minor": 2
}
