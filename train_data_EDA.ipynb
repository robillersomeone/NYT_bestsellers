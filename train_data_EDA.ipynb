{
 "cells": [
  {
   "cell_type": "markdown",
   "metadata": {},
   "source": [
    "# EDA"
   ]
  },
  {
   "cell_type": "code",
   "execution_count": 27,
   "metadata": {},
   "outputs": [],
   "source": [
    "import numpy as np\n",
    "import pandas as pd \n",
    "import seaborn as sns\n",
    "from matplotlib import pyplot as plt\n",
    "from sklearn import model_selection"
   ]
  },
  {
   "cell_type": "code",
   "execution_count": 3,
   "metadata": {},
   "outputs": [],
   "source": [
    "# metadata\n",
    "df = pd.read_csv('csv_files/9_1_all_books_df.csv')\n",
    "\n",
    "# vectorized text\n",
    "# the index is reset in this one \n",
    "df_text = pd.read_csv('csv_files/X_train_nlp.csv')\n",
    "\n",
    "# 'csv_files/y_train_nlp.csv', encoding='utf-8', index=False"
   ]
  },
  {
   "cell_type": "code",
   "execution_count": 4,
   "metadata": {
    "scrolled": true
   },
   "outputs": [
    {
     "data": {
      "text/plain": [
       "0       0\n",
       "1       0\n",
       "2       1\n",
       "3       0\n",
       "4       0\n",
       "5       1\n",
       "6       0\n",
       "7       0\n",
       "8       0\n",
       "9       0\n",
       "10      0\n",
       "11      0\n",
       "12      0\n",
       "13      0\n",
       "14      0\n",
       "15      0\n",
       "16      1\n",
       "17      0\n",
       "18      0\n",
       "19      1\n",
       "20      0\n",
       "21      0\n",
       "22      0\n",
       "23      0\n",
       "24      0\n",
       "25      0\n",
       "26      0\n",
       "27      0\n",
       "28      0\n",
       "29      0\n",
       "       ..\n",
       "1068    0\n",
       "1069    0\n",
       "1070    0\n",
       "1071    0\n",
       "1072    0\n",
       "1073    1\n",
       "1074    0\n",
       "1075    1\n",
       "1076    0\n",
       "1077    0\n",
       "1078    1\n",
       "1079    0\n",
       "1080    0\n",
       "1081    0\n",
       "1082    0\n",
       "1083    1\n",
       "1084    0\n",
       "1085    0\n",
       "1086    1\n",
       "1087    0\n",
       "1088    0\n",
       "1089    1\n",
       "1090    0\n",
       "1091    0\n",
       "1092    0\n",
       "1093    1\n",
       "1094    1\n",
       "1095    1\n",
       "1096    0\n",
       "1097    1\n",
       "Name: best_seller, Length: 1098, dtype: int64"
      ]
     },
     "execution_count": 4,
     "metadata": {},
     "output_type": "execute_result"
    }
   ],
   "source": [
    "# will concat X_train_nlp with X_train\n",
    "# processing flow, split metadata, reset index to match nlp data, concat, subset bestsellers and not\n",
    "X_train, X_test, y_train, y_test = model_selection.train_test_split(df[['title', 'author', 'format', 'genre', 'pages', 'rating']], \n",
    "                                                                    df['best_seller'], \n",
    "                                                                    test_size = .2,\n",
    "                                                                    random_state = 42)\n",
    "\n",
    "# reset the index to match processed df_text\n",
    "len(X_train)\n",
    "type(X_train)\n",
    "\n",
    "# X_train.reset_index(drop = True)\n",
    "# y_train.reset_index(drop = True)\n",
    "\n",
    "# testing to rewrite index\n",
    "X_train = X_train.reset_index(drop = True)\n",
    "y_train = y_train.reset_index(drop = True)"
   ]
  },
  {
   "cell_type": "markdown",
   "metadata": {},
   "source": [
    "# metadata\n",
    "- y_train is bestseller ~bestseller\n",
    "- X_train is book meta data\n",
    "- df_text is just text data"
   ]
  },
  {
   "cell_type": "markdown",
   "metadata": {},
   "source": [
    "## concat meatadata and text dataframes"
   ]
  },
  {
   "cell_type": "code",
   "execution_count": 5,
   "metadata": {},
   "outputs": [
    {
     "name": "stdout",
     "output_type": "stream",
     "text": [
      "number of best sellers in training set 227\n",
      "number of total books in training set 1098\n"
     ]
    }
   ],
   "source": [
    "print('number of best sellers in training set', y_train.sum())\n",
    "print('number of total books in training set', len(y_train))"
   ]
  },
  {
   "cell_type": "code",
   "execution_count": 90,
   "metadata": {},
   "outputs": [
    {
     "data": {
      "text/plain": [
       "871"
      ]
     },
     "execution_count": 90,
     "metadata": {},
     "output_type": "execute_result"
    }
   ],
   "source": [
    "1098 - 227"
   ]
  },
  {
   "cell_type": "code",
   "execution_count": 91,
   "metadata": {},
   "outputs": [
    {
     "data": {
      "text/plain": [
       "0.6573584905660378"
      ]
     },
     "execution_count": 91,
     "metadata": {},
     "output_type": "execute_result"
    }
   ],
   "source": [
    "871/(1098 +227)"
   ]
  },
  {
   "cell_type": "code",
   "execution_count": 6,
   "metadata": {},
   "outputs": [
    {
     "data": {
      "text/plain": [
       "Index(['author', 'description', 'format', 'genre', 'month', 'pages',\n",
       "       'publisher', 'rating', 'title', 'year', 'best_seller'],\n",
       "      dtype='object')"
      ]
     },
     "execution_count": 6,
     "metadata": {},
     "output_type": "execute_result"
    }
   ],
   "source": [
    "df.columns"
   ]
  },
  {
   "cell_type": "code",
   "execution_count": 7,
   "metadata": {},
   "outputs": [],
   "source": [
    "X_train['bestseller'] = y_train"
   ]
  },
  {
   "cell_type": "code",
   "execution_count": 8,
   "metadata": {},
   "outputs": [],
   "source": [
    "# rename meta columns to not affect text dataframe\n",
    "X_train.rename(columns={'genre':'book_genre', 'author':'meta_author', \n",
    "                        'title':'meta_title', 'format':'meta_format',\n",
    "                        'pages':'meta_pages', 'rating':'meta_rating'},\n",
    "                        inplace = True)\n",
    "# X_train['book_genre'] = "
   ]
  },
  {
   "cell_type": "code",
   "execution_count": 9,
   "metadata": {},
   "outputs": [],
   "source": [
    "df = X_train.reset_index(drop = True)"
   ]
  },
  {
   "cell_type": "code",
   "execution_count": 10,
   "metadata": {},
   "outputs": [],
   "source": [
    "df = pd.concat([df, df_text], axis =1)"
   ]
  },
  {
   "cell_type": "code",
   "execution_count": 11,
   "metadata": {},
   "outputs": [
    {
     "data": {
      "text/plain": [
       "(1098, 5849)"
      ]
     },
     "execution_count": 11,
     "metadata": {},
     "output_type": "execute_result"
    }
   ],
   "source": [
    "df.shape"
   ]
  },
  {
   "cell_type": "code",
   "execution_count": 17,
   "metadata": {},
   "outputs": [],
   "source": [
    "# subset the dataframe into best sellers and not\n",
    "books = df.loc[df['bestseller'] == 0]\n",
    "best_books = df.loc[df['bestseller'] == 1]"
   ]
  },
  {
   "cell_type": "markdown",
   "metadata": {},
   "source": [
    "## rating analysis"
   ]
  },
  {
   "cell_type": "code",
   "execution_count": 12,
   "metadata": {},
   "outputs": [
    {
     "data": {
      "text/plain": [
       "0"
      ]
     },
     "execution_count": 12,
     "metadata": {},
     "output_type": "execute_result"
    }
   ],
   "source": [
    "# check that every book is rated\n",
    "df.meta_rating.isnull().sum()"
   ]
  },
  {
   "cell_type": "code",
   "execution_count": 13,
   "metadata": {},
   "outputs": [
    {
     "data": {
      "image/png": "[encoded data removed]",
      "text/plain": [
       "<Figure size 720x720 with 1 Axes>"
      ]
     },
     "metadata": {},
     "output_type": "display_data"
    }
   ],
   "source": [
    "plt.figure(figsize=(10,10))\n",
    "ax = sns.boxplot(x=df[\"bestseller\"], y=df['meta_rating'])#, \n",
    "#                     data=df, palette=\"Set3\")\n"
   ]
  },
  {
   "cell_type": "code",
   "execution_count": 75,
   "metadata": {},
   "outputs": [
    {
     "name": "stdout",
     "output_type": "stream",
     "text": [
      "the raitng mean is 4.056265938069216\n",
      "the rating mode is 4.07\n",
      "the raitng median is 4.08\n"
     ]
    }
   ],
   "source": [
    "print('the raitng mean is',df.meta_rating.mean())\n",
    "print('the rating mode is', df.meta_rating.mode()[0])\n",
    "print('the raitng median is',df.meta_rating.median())"
   ]
  },
  {
   "cell_type": "code",
   "execution_count": 76,
   "metadata": {},
   "outputs": [
    {
     "name": "stdout",
     "output_type": "stream",
     "text": [
      "the raitng mean is 4.091733639494837\n",
      "the rating mode is 4.27\n",
      "the raitng median is 4.11\n"
     ]
    }
   ],
   "source": [
    "print('the raitng mean is',books.meta_rating.mean())\n",
    "print('the rating mode is', books.meta_rating.mode()[0])\n",
    "print('the raitng median is',books.meta_rating.median())"
   ]
  },
  {
   "cell_type": "code",
   "execution_count": 77,
   "metadata": {},
   "outputs": [
    {
     "name": "stdout",
     "output_type": "stream",
     "text": [
      "the raitng mean is 3.9201762114537426\n",
      "the rating mode is 3.81\n",
      "the raitng median is 3.94\n"
     ]
    }
   ],
   "source": [
    "print('the raitng mean is',best_books.meta_rating.mean())\n",
    "print('the rating mode is', best_books.meta_rating.mode()[0])\n",
    "print('the raitng median is',best_books.meta_rating.median())"
   ]
  },
  {
   "cell_type": "markdown",
   "metadata": {},
   "source": [
    "## format analysis"
   ]
  },
  {
   "cell_type": "code",
   "execution_count": 48,
   "metadata": {},
   "outputs": [
    {
     "data": {
      "text/plain": [
       "array(['Hardcover', 'Paperback', 'Mass Market Paperback',\n",
       "       'Kindle Edition', 'ebook', 'Library Binding', 'Audio CD',\n",
       "       'Trade Paperback'], dtype=object)"
      ]
     },
     "execution_count": 48,
     "metadata": {},
     "output_type": "execute_result"
    }
   ],
   "source": [
    "df.meta_format.unique()"
   ]
  },
  {
   "cell_type": "code",
   "execution_count": 49,
   "metadata": {},
   "outputs": [
    {
     "data": {
      "text/plain": [
       "Hardcover                836\n",
       "Paperback                207\n",
       "Kindle Edition            31\n",
       "ebook                     17\n",
       "Mass Market Paperback      4\n",
       "Trade Paperback            1\n",
       "Library Binding            1\n",
       "Audio CD                   1\n",
       "Name: meta_format, dtype: int64"
      ]
     },
     "execution_count": 49,
     "metadata": {},
     "output_type": "execute_result"
    }
   ],
   "source": [
    "df.meta_format.value_counts()"
   ]
  },
  {
   "cell_type": "code",
   "execution_count": 52,
   "metadata": {},
   "outputs": [
    {
     "data": {
      "text/html": [
       "<div>\n",
       "<style scoped>\n",
       "    .dataframe tbody tr th:only-of-type {\n",
       "        vertical-align: middle;\n",
       "    }\n",
       "\n",
       "    .dataframe tbody tr th {\n",
       "        vertical-align: top;\n",
       "    }\n",
       "\n",
       "    .dataframe thead th {\n",
       "        text-align: right;\n",
       "    }\n",
       "</style>\n",
       "<table border=\"1\" class=\"dataframe\">\n",
       "  <thead>\n",
       "    <tr style=\"text-align: right;\">\n",
       "      <th></th>\n",
       "      <th>meta_title</th>\n",
       "      <th>meta_author</th>\n",
       "      <th>meta_format</th>\n",
       "      <th>book_genre</th>\n",
       "      <th>meta_pages</th>\n",
       "      <th>meta_rating</th>\n",
       "      <th>bestseller</th>\n",
       "      <th>aaron</th>\n",
       "      <th>ab</th>\n",
       "      <th>abandon</th>\n",
       "      <th>...</th>\n",
       "      <th>zelda</th>\n",
       "      <th>zest</th>\n",
       "      <th>zeus</th>\n",
       "      <th>zillion</th>\n",
       "      <th>zimmer</th>\n",
       "      <th>zoe</th>\n",
       "      <th>zone</th>\n",
       "      <th>zoom</th>\n",
       "      <th>zorie</th>\n",
       "      <th>zoroastrian</th>\n",
       "    </tr>\n",
       "  </thead>\n",
       "  <tbody>\n",
       "    <tr>\n",
       "      <th>390</th>\n",
       "      <td>Ninety-Nine Stories of God</td>\n",
       "      <td>Joy Williams</td>\n",
       "      <td>Audio CD</td>\n",
       "      <td>Short Stories</td>\n",
       "      <td>1</td>\n",
       "      <td>3.63</td>\n",
       "      <td>1</td>\n",
       "      <td>0</td>\n",
       "      <td>0</td>\n",
       "      <td>0</td>\n",
       "      <td>...</td>\n",
       "      <td>0</td>\n",
       "      <td>0</td>\n",
       "      <td>0</td>\n",
       "      <td>0</td>\n",
       "      <td>0</td>\n",
       "      <td>0</td>\n",
       "      <td>0</td>\n",
       "      <td>0</td>\n",
       "      <td>0</td>\n",
       "      <td>0</td>\n",
       "    </tr>\n",
       "  </tbody>\n",
       "</table>\n",
       "<p>1 rows × 5849 columns</p>\n",
       "</div>"
      ],
      "text/plain": [
       "                     meta_title   meta_author meta_format     book_genre  \\\n",
       "390  Ninety-Nine Stories of God  Joy Williams    Audio CD  Short Stories   \n",
       "\n",
       "     meta_pages  meta_rating  bestseller  aaron  ab  abandon     ...       \\\n",
       "390           1         3.63           1      0   0        0     ...        \n",
       "\n",
       "     zelda  zest  zeus  zillion  zimmer  zoe  zone  zoom  zorie  zoroastrian  \n",
       "390      0     0     0        0       0    0     0     0      0            0  \n",
       "\n",
       "[1 rows x 5849 columns]"
      ]
     },
     "execution_count": 52,
     "metadata": {},
     "output_type": "execute_result"
    }
   ],
   "source": [
    "# TODO drop from dataframe\n",
    "df.loc[df['meta_format'] == 'Audio CD']"
   ]
  },
  {
   "cell_type": "code",
   "execution_count": null,
   "metadata": {},
   "outputs": [],
   "source": []
  },
  {
   "cell_type": "markdown",
   "metadata": {},
   "source": [
    "## pages analysis"
   ]
  },
  {
   "cell_type": "code",
   "execution_count": 14,
   "metadata": {},
   "outputs": [
    {
     "data": {
      "text/plain": [
       "array([[<matplotlib.axes._subplots.AxesSubplot object at 0x1a147f0550>,\n",
       "        <matplotlib.axes._subplots.AxesSubplot object at 0x1a14b9d198>]],\n",
       "      dtype=object)"
      ]
     },
     "execution_count": 14,
     "metadata": {},
     "output_type": "execute_result"
    },
    {
     "data": {
      "image/png": "[encoded data removed]",
      "text/plain": [
       "<Figure size 648x432 with 2 Axes>"
      ]
     },
     "metadata": {},
     "output_type": "display_data"
    }
   ],
   "source": [
    "df.hist(column=['meta_pages', 'meta_rating'], figsize=(9,6))"
   ]
  },
  {
   "cell_type": "markdown",
   "metadata": {},
   "source": [
    "## genre analysis"
   ]
  },
  {
   "cell_type": "code",
   "execution_count": 15,
   "metadata": {},
   "outputs": [
    {
     "data": {
      "text/plain": [
       "array(['Autobiography', 'Sequential Art', 'Economics', 'Fantasy',\n",
       "       'Historical', 'Fiction', 'Nonfiction', 'Horror', 'Young Adult',\n",
       "       'Poetry', 'Science', 'Short Stories', 'New Adult', 'Classics',\n",
       "       'Contemporary', 'Science Fiction', 'Childrens', 'Food and Drink',\n",
       "       'Humor', 'Thriller', 'Polyamorous', 'History', 'Romance',\n",
       "       'Mystery', 'Media Tie In', 'Literature', 'Biography', 'Politics',\n",
       "       'Paranormal', 'Writing', 'Dark', 'Business', 'Religion',\n",
       "       'Philosophy', 'Christian', 'Sports and Games'], dtype=object)"
      ]
     },
     "execution_count": 15,
     "metadata": {},
     "output_type": "execute_result"
    }
   ],
   "source": [
    "# need to look at book_genre more\n",
    "df['book_genre'].unique()\n",
    "# df['book_genre'].isnull().sum()"
   ]
  },
  {
   "cell_type": "code",
   "execution_count": 44,
   "metadata": {},
   "outputs": [
    {
     "data": {
      "text/plain": [
       "<matplotlib.axes._subplots.AxesSubplot at 0x1a1438ccc0>"
      ]
     },
     "execution_count": 44,
     "metadata": {},
     "output_type": "execute_result"
    },
    {
     "data": {
      "image/png": "[encoded data removed]",
      "text/plain": [
       "<Figure size 864x720 with 1 Axes>"
      ]
     },
     "metadata": {},
     "output_type": "display_data"
    }
   ],
   "source": [
    "# distrubtion by genre of all books\n",
    "df['book_genre'].value_counts().plot(kind='bar', title='distrubtion of books by genre', figsize=(12,10))\n"
   ]
  },
  {
   "cell_type": "code",
   "execution_count": 18,
   "metadata": {},
   "outputs": [
    {
     "name": "stdout",
     "output_type": "stream",
     "text": [
      "(871, 5849)\n",
      "(227, 5849)\n"
     ]
    }
   ],
   "source": [
    "# this is just the distribution in the training data of bestsellers and not\n",
    "# non-bestsellers\n",
    "print(books.shape)\n",
    "# bestsellers\n",
    "print(best_books.shape)"
   ]
  },
  {
   "cell_type": "code",
   "execution_count": 45,
   "metadata": {},
   "outputs": [
    {
     "data": {
      "text/plain": [
       "<matplotlib.axes._subplots.AxesSubplot at 0x1a144e17b8>"
      ]
     },
     "execution_count": 45,
     "metadata": {},
     "output_type": "execute_result"
    },
    {
     "data": {
      "image/png": "[encoded data removed]",
      "text/plain": [
       "<Figure size 864x720 with 1 Axes>"
      ]
     },
     "metadata": {},
     "output_type": "display_data"
    }
   ],
   "source": [
    "books['book_genre'].value_counts().plot(kind='bar', \n",
    "                                        title='distrubtion of non bestsellers booksby genre', figsize=(12,10))\n"
   ]
  },
  {
   "cell_type": "code",
   "execution_count": 46,
   "metadata": {},
   "outputs": [
    {
     "data": {
      "text/plain": [
       "<matplotlib.axes._subplots.AxesSubplot at 0x1a144ee128>"
      ]
     },
     "execution_count": 46,
     "metadata": {},
     "output_type": "execute_result"
    },
    {
     "data": {
      "image/png": "[encoded data removed]",
      "text/plain": [
       "<Figure size 864x720 with 1 Axes>"
      ]
     },
     "metadata": {},
     "output_type": "display_data"
    }
   ],
   "source": [
    "best_books['book_genre'].value_counts().plot(kind='bar', \n",
    "                                            title='distrubtion of bestsellering books by genre', figsize=(12,10))\n"
   ]
  },
  {
   "cell_type": "code",
   "execution_count": 21,
   "metadata": {},
   "outputs": [
    {
     "name": "stdout",
     "output_type": "stream",
     "text": [
      " NYT bestselling genres ['Economics' 'Fiction' 'Short Stories' 'Classics' 'Nonfiction' 'Science'\n",
      " 'Autobiography' 'Sequential Art' 'Poetry' 'Literature' 'Biography'\n",
      " 'Historical' 'History' 'Politics' 'Writing' 'Fantasy' 'Romance' 'Mystery'\n",
      " 'Young Adult' 'Philosophy' 'Horror'] \n",
      " \n",
      " Non-bestselling genres ['Autobiography' 'Sequential Art' 'Fantasy' 'Historical' 'Nonfiction'\n",
      " 'Fiction' 'Horror' 'Young Adult' 'Poetry' 'Science' 'New Adult'\n",
      " 'Contemporary' 'Science Fiction' 'Childrens' 'Food and Drink' 'Humor'\n",
      " 'Thriller' 'Polyamorous' 'History' 'Romance' 'Mystery' 'Media Tie In'\n",
      " 'Biography' 'Politics' 'Paranormal' 'Short Stories' 'Dark' 'Business'\n",
      " 'Religion' 'Economics' 'Christian' 'Sports and Games' 'Writing']\n"
     ]
    }
   ],
   "source": [
    "print(' NYT bestselling genres',best_books['book_genre'].unique(), '\\n \\n', \n",
    "      'Non-bestselling genres', books['book_genre'].unique())"
   ]
  },
  {
   "cell_type": "code",
   "execution_count": 84,
   "metadata": {},
   "outputs": [
    {
     "name": "stdout",
     "output_type": "stream",
     "text": [
      " There are NYT bestselling 21 genres \n",
      " \n",
      " Non-bestselling genres 33\n"
     ]
    }
   ],
   "source": [
    "print(' There are NYT bestselling',len(best_books['book_genre'].unique()), 'genres \\n \\n', \n",
    "'Non-bestselling genres', len(books['book_genre'].unique()))"
   ]
  },
  {
   "cell_type": "code",
   "execution_count": 22,
   "metadata": {},
   "outputs": [
    {
     "name": "stdout",
     "output_type": "stream",
     "text": [
      " Genres that don't appear on the NYT bestseller list \n",
      " ['New Adult', 'Contemporary', 'Science Fiction', 'Childrens', 'Food and Drink', 'Humor', 'Thriller', 'Polyamorous', 'Media Tie In', 'Paranormal', 'Dark', 'Business', 'Religion', 'Christian', 'Sports and Games']\n"
     ]
    }
   ],
   "source": [
    "print(\" Genres that don't appear on the NYT bestseller list \\n\", \n",
    "      [x for x in books['book_genre'].unique() if not x in best_books['book_genre'].unique()])\n",
    "\n"
   ]
  },
  {
   "cell_type": "markdown",
   "metadata": {},
   "source": [
    "These genres might be to predictive during modeling\n",
    "- consider dropping books with those genres\n",
    "- consolidating genres to 'top hits'"
   ]
  },
  {
   "cell_type": "markdown",
   "metadata": {},
   "source": [
    "## author analysis"
   ]
  },
  {
   "cell_type": "code",
   "execution_count": 23,
   "metadata": {},
   "outputs": [
    {
     "data": {
      "text/plain": [
       "(1098,)"
      ]
     },
     "execution_count": 23,
     "metadata": {},
     "output_type": "execute_result"
    }
   ],
   "source": [
    "df.columns\n",
    "df.meta_author.shape"
   ]
  },
  {
   "cell_type": "code",
   "execution_count": 24,
   "metadata": {},
   "outputs": [
    {
     "name": "stdout",
     "output_type": "stream",
     "text": [
      "There are 955 unique authors of 1098 books\n"
     ]
    }
   ],
   "source": [
    "print('There are', df.meta_author.unique().shape[0], 'unique authors of', df.meta_author.shape[0], 'books')"
   ]
  },
  {
   "cell_type": "code",
   "execution_count": 43,
   "metadata": {},
   "outputs": [
    {
     "data": {
      "text/plain": [
       "Sarah J. Maas                6\n",
       "Stephen King                 6\n",
       "Brandon Sanderson            5\n",
       "Brian K. Vaughan             5\n",
       "Rick Riordan                 4\n",
       "Yoon Ha Lee                  3\n",
       "Chris Colfer                 3\n",
       "Kasie West                   3\n",
       "Charles Stross               3\n",
       "Penny Reid                   3\n",
       "Sarah Andersen               3\n",
       "B.A. Paris                   3\n",
       "Grady Hendrix                3\n",
       "Mark  Lawrence               3\n",
       "Tahereh Mafi                 3\n",
       "Michael J. Sullivan          3\n",
       "Seanan McGuire               3\n",
       "Brandon Mull                 3\n",
       "Dot Hutchison                3\n",
       "Marjorie M. Liu              3\n",
       "Victoria Aveyard             3\n",
       "Leigh Bardugo                2\n",
       "Ryan T.  Higgins             2\n",
       "Sylvain Neuvel               2\n",
       "Pierce Brown                 2\n",
       "John Green                   2\n",
       "Brittany Cavallaro           2\n",
       "Katherine Arden              2\n",
       "G. Willow Wilson             2\n",
       "Karen Marie Moning           2\n",
       "                            ..\n",
       "Andrew     Martin            1\n",
       "Victoria Helen Stone         1\n",
       "Terrance Hayes               1\n",
       "Marcus Sakey                 1\n",
       "Amanda Bouchet               1\n",
       "Kelly Weinersmith            1\n",
       "Catana Chetwynd              1\n",
       "Gillian Flynn                1\n",
       "Margot Lee Shetterly         1\n",
       "Clint Hill                   1\n",
       "Lindy West                   1\n",
       "Nicole Y. Dennis-Benn        1\n",
       "Adam Winkler                 1\n",
       "Edward       Lee             1\n",
       "R.F. Kuang                   1\n",
       "Philip Pullman               1\n",
       "Tiffany Haddish              1\n",
       "Melissa Fleming              1\n",
       "Anthony Robbins              1\n",
       "Jon Klassen                  1\n",
       "Seth Stephens-Davidowitz     1\n",
       "Peter Godfrey-Smith          1\n",
       "R.H. Sin                     1\n",
       "Robert Dugoni                1\n",
       "Jennifer Zeynab Joukhadar    1\n",
       "Danzy Senna                  1\n",
       "Tessa Dare                   1\n",
       "Sara Benincasa               1\n",
       "Rebecca Makkai               1\n",
       "Robert M. Drake              1\n",
       "Name: meta_author, Length: 955, dtype: int64"
      ]
     },
     "execution_count": 43,
     "metadata": {},
     "output_type": "execute_result"
    }
   ],
   "source": [
    "df.meta_author.value_counts()"
   ]
  },
  {
   "cell_type": "markdown",
   "metadata": {},
   "source": [
    "Sarah j. Maas and Stephen King are the most prolific authors in the dataset."
   ]
  },
  {
   "cell_type": "code",
   "execution_count": 87,
   "metadata": {},
   "outputs": [
    {
     "data": {
      "text/plain": [
       "array([  0,   1,   2,   3,   4,   5,   6,   7,   8,   9,  10,  11,  12,\n",
       "        13,  14,  15,  16,  17,  18,  19,  20,  21,  22,  23,  24,  25,\n",
       "        26,  27,  28,  29,  30,  31,  32,  33,  34,  35,  36,  37,  38,\n",
       "        39,  40,  41,  42,  43,  44,  45,  46,  47,  48,  49,  50,  51,\n",
       "        52,  53,  54,  55,  56,  57,  58,  59,  60,  61,  62,  63,  64,\n",
       "        65,  66,  67,  68,  69,  70,  71,  72,  73,  74,  75,  76,  77,\n",
       "        78,  79,  80,  81,  82,  83,  84,  85,  86,  87,  88,  89,  90,\n",
       "        91,  92,  93,  94,  95,  96,  97,  98,  99, 100, 101, 102, 103,\n",
       "       104, 105, 106, 107, 108, 109, 110])"
      ]
     },
     "execution_count": 87,
     "metadata": {},
     "output_type": "execute_result"
    }
   ],
   "source": [
    "# 111 authors have more than one book \n",
    "# 844 authors have one book on the Best Seller list\n",
    "np.where(df.meta_author.value_counts() > 1)[0]\n"
   ]
  },
  {
   "cell_type": "markdown",
   "metadata": {},
   "source": [
    "# Text EDA"
   ]
  },
  {
   "cell_type": "code",
   "execution_count": 105,
   "metadata": {},
   "outputs": [
    {
     "data": {
      "text/plain": [
       "Index(['aaron', 'ab', 'abandon', 'abandonment', 'abby', 'abc', 'abduct',\n",
       "       'abducted', 'ability', 'able',\n",
       "       ...\n",
       "       'zelda', 'zest', 'zeus', 'zillion', 'zimmer', 'zoe', 'zone', 'zoom',\n",
       "       'zorie', 'zoroastrian'],\n",
       "      dtype='object', length=5842)"
      ]
     },
     "execution_count": 105,
     "metadata": {},
     "output_type": "execute_result"
    }
   ],
   "source": [
    "# sorted(df_text.sum(axis=0),reverse=True )[0].index\n",
    "df_text.sum(axis=0).index\n"
   ]
  },
  {
   "cell_type": "code",
   "execution_count": 140,
   "metadata": {},
   "outputs": [
    {
     "data": {
      "text/plain": [
       "time    151\n",
       "dtype: int64"
      ]
     },
     "execution_count": 140,
     "metadata": {},
     "output_type": "execute_result"
    }
   ],
   "source": [
    "# df_text.sum(axis=0).where(df_text.sum(axis=0) == 150)\n",
    "# df_text.sum(axis=0).where(df_text.sum(axis=0) == 150)\n",
    "# df_text.sum(axis=0)[df_text.sum(axis=0).value ==150]\n",
    "df_text.sum(axis=0).max()\n",
    "# 151 is the max number\n",
    "# find the word that sum is 151\n",
    "df_text.sum(axis=0)[df_text.sum(axis=0) == df_text.sum(axis=0).max()]\n",
    "# df_text.sum(axis=0)[151]"
   ]
  },
  {
   "cell_type": "code",
   "execution_count": 141,
   "metadata": {},
   "outputs": [
    {
     "data": {
      "text/plain": [
       "151"
      ]
     },
     "execution_count": 141,
     "metadata": {},
     "output_type": "execute_result"
    }
   ],
   "source": [
    "df_text.sum(axis=0)['time']"
   ]
  },
  {
   "cell_type": "code",
   "execution_count": 169,
   "metadata": {},
   "outputs": [
    {
     "data": {
      "text/plain": [
       "23"
      ]
     },
     "execution_count": 169,
     "metadata": {},
     "output_type": "execute_result"
    }
   ],
   "source": [
    "df_text.sum(axis=0)['prize']"
   ]
  },
  {
   "cell_type": "code",
   "execution_count": 146,
   "metadata": {},
   "outputs": [
    {
     "data": {
      "text/plain": [
       "[151,\n",
       " 144,\n",
       " 137,\n",
       " 120,\n",
       " 119,\n",
       " 105,\n",
       " 102,\n",
       " 89,\n",
       " 89,\n",
       " 73,\n",
       " 71,\n",
       " 67,\n",
       " 66,\n",
       " 61,\n",
       " 60,\n",
       " 60,\n",
       " 55,\n",
       " 54,\n",
       " 53,\n",
       " 52]"
      ]
     },
     "execution_count": 146,
     "metadata": {},
     "output_type": "execute_result"
    }
   ],
   "source": [
    "sorted(df_text.sum(axis=0), reverse=True)"
   ]
  },
  {
   "cell_type": "code",
   "execution_count": 168,
   "metadata": {},
   "outputs": [
    {
     "data": {
      "text/plain": [
       "<matplotlib.axes._subplots.AxesSubplot at 0x1a2da0db70>"
      ]
     },
     "execution_count": 168,
     "metadata": {},
     "output_type": "execute_result"
    },
    {
     "data": {
      "image/png": "[encoded data removed]",
      "text/plain": [
       "<Figure size 864x504 with 1 Axes>"
      ]
     },
     "metadata": {},
     "output_type": "display_data"
    }
   ],
   "source": [
    "type(df_text.sum(axis=0).sort_values(ascending=False)[:20])\n",
    "df_text.sum(axis=0).sort_values(ascending=False)[:20].plot(kind='bar', figsize=(12,7), \n",
    "                                                            title='most common words in description')\n",
    "\n",
    "\n",
    "\n"
   ]
  },
  {
   "cell_type": "markdown",
   "metadata": {},
   "source": [
    "# TODO\n",
    "- Add text feature EDA\n",
    "- export graphics to readme \n",
    "- clean dataframe"
   ]
  },
  {
   "cell_type": "code",
   "execution_count": null,
   "metadata": {},
   "outputs": [],
   "source": []
  }
 ],
 "metadata": {
  "kernelspec": {
   "display_name": "Python 3",
   "language": "python",
   "name": "python3"
  },
  "language_info": {
   "codemirror_mode": {
    "name": "ipython",
    "version": 3
   },
   "file_extension": ".py",
   "mimetype": "text/x-python",
   "name": "python",
   "nbconvert_exporter": "python",
   "pygments_lexer": "ipython3",
   "version": "3.6.5"
  },
  "toc": {
   "base_numbering": 1,
   "nav_menu": {},
   "number_sections": true,
   "sideBar": true,
   "skip_h1_title": false,
   "title_cell": "Table of Contents",
   "title_sidebar": "Contents",
   "toc_cell": false,
   "toc_position": {},
   "toc_section_display": true,
   "toc_window_display": false
  }
 },
 "nbformat": 4,
 "nbformat_minor": 2
}
